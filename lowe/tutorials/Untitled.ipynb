{
 "cells": [
  {
   "cell_type": "code",
   "execution_count": 25,
   "id": "ce1d9ad6",
   "metadata": {},
   "outputs": [],
   "source": [
    "from lowe.locations.lookup import search, name2fips, fips2name\n",
    "from lowe.acs.ACSClient import ACSClient\n",
    "import pandas as pd\n",
    "import re"
   ]
  },
  {
   "cell_type": "code",
   "execution_count": 18,
   "id": "c01c794a",
   "metadata": {},
   "outputs": [
    {
     "name": "stdout",
     "output_type": "stream",
     "text": [
      "                      name    fips\n",
      "1442  riverside county, ca  06_065\n"
     ]
    }
   ],
   "source": [
    "search(\"riverside\", codetype=\"county\", search_on=\"name\")"
   ]
  },
  {
   "cell_type": "code",
   "execution_count": 84,
   "id": "7e2a9051",
   "metadata": {},
   "outputs": [],
   "source": [
    "RANCHO_MIRAGE = \"0659500\"\n",
    "INDIAN_WELLS = \"0636434\"\n",
    "PALM_DESERT = \"0655184\"\n",
    "PALM_SPRINGS = \"0655254\"\n",
    "LA_QUINTA = \"0640354\"\n",
    "COACHELLA = \"0614260\"\n",
    "CATHEDRAL_CITY = \"0612048\"\n",
    "INDIO = \"0636448\"\n",
    "DESERT_HOT_SPRINGS = \"0618996\"\n",
    "\n",
    "cities = [RANCHO_MIRAGE,\n",
    "         INDIAN_WELLS,\n",
    "         PALM_DESERT,\n",
    "         PALM_SPRINGS,\n",
    "         LA_QUINTA,\n",
    "         COACHELLA,\n",
    "         CATHEDRAL_CITY,\n",
    "         INDIO,\n",
    "         DESERT_HOT_SPRINGS]\n",
    "\n",
    "locs_cv = [{\"city\": city} for city in cities]\n",
    "riverside = {\"county\": \"06_065\"}"
   ]
  },
  {
   "cell_type": "code",
   "execution_count": 85,
   "id": "7ab9182d",
   "metadata": {},
   "outputs": [
    {
     "name": "stderr",
     "output_type": "stream",
     "text": [
      "Unclosed client session\n",
      "client_session: <aiohttp.client.ClientSession object at 0x11ecd9af0>\n"
     ]
    }
   ],
   "source": [
    "client = ACSClient()\n",
    "await client.initialize()"
   ]
  },
  {
   "cell_type": "code",
   "execution_count": 100,
   "id": "a9846c88",
   "metadata": {},
   "outputs": [
    {
     "name": "stdout",
     "output_type": "stream",
     "text": [
      "Help on method get_acs in module lowe.acs.ACSClient:\n",
      "\n",
      "async get_acs(vars: List[str], start_year: Union[int, str], end_year: Union[int, str], location: Union[Dict[str, str], List[Dict[str, str]]], translate_location: bool = False, tabletype: Union[str, List[str]] = None, infer_type: bool = True, varfile: Union[str, List[str]] = None, estimate: Union[int, str] = '5', join: bool = False, debug: bool = False) method of lowe.acs.ACSClient.ACSClient instance\n",
      "    get_acs queries the ACS API and gathers data for any subject or data table into pandas dataframes\n",
      "    \n",
      "    Parameters\n",
      "    ----------\n",
      "    vars : List[str]\n",
      "        List of tables we want to grab from ACS, example [\"S1001\", \"S1501\"]\n",
      "    start_year : Union[int, str]\n",
      "        Year we want to start collecting data from, earliest being \"2011\"\n",
      "    end_year : Union[int, str]\n",
      "        Last year we want to collect data from, latest being \"2019\". Must be >= year_start\n",
      "    location : Union[Dict[str, str], List[Dict[str, str]]]\n",
      "        Dictionary with the following keys to specify location:\n",
      "        {\n",
      "            \"state\": str, FIPS code of the state,\n",
      "            \"msa\": str, code for the MSA,\n",
      "            \"county\": str, FIPS code for the county,\n",
      "            \"city\": str, FIPS code for the city of interest\n",
      "        }\n",
      "        NOTE: You may also pass a list of location dictionaries -- this is the preferred method, since it will parallelize easily\n",
      "    translate_location: bool\n",
      "        Whether or not we want to convert the location dictionary to FIPS codes. This essentially does\n",
      "            location = lowe.locations.lookups.name2fips(location)\n",
      "        Note that when passing in a dictionary with name vakues instead of FIPS values, all non-state values must have\n",
      "        the state attached to it. That is, if I want to query for Palm Springs, I would do {city: \"palm springs, ca\"}\n",
      "        For safety, always pass strings in as lowercase. Checks are in place for this but they may not be comprehensive\n",
      "    tabletype : Union[str, List[str]], optional\n",
      "        Table type to collect, must be one of [\"detail\", \"subject\", \"dprofile\", \"cprofile\"]\n",
      "        Respectively, these are Detailed Tables, Subject Tables, Data Profiles, and Comparison Profiles\n",
      "        If there are various types of tables being collected with one call, pass a list of length len(vars)\n",
      "        Each entry of this list should correspond to the table type of the corresponding entry in\n",
      "        NOTE: Pass as None if you want to infer the table type\n",
      "    infer_type: bool, optional\n",
      "        Whether or not we want to infer table types\n",
      "    varfile: Union[str, List[str]]\n",
      "        File (or list of files) that should be used to translate variable names\n",
      "        NOTE: Pass None (default) if you want to infer the varfile.\n",
      "    estimate: Union[int,str]\n",
      "        ACS estimates to gather (1, 3, or 5-year)\n",
      "    join: bool, optional\n",
      "        Whether or not to join all the results together into one large table, by default True\n",
      "    debug: bool, optional\n",
      "        If True, prints out extra information useful for debugging\n",
      "    \n",
      "    Returns\n",
      "    -------\n",
      "    pd.DataFrame, List[pd.DataFrame]\n",
      "        If only one table is called, then returns the dataframe. Else, return a list of dataframes\n",
      "\n"
     ]
    }
   ],
   "source": [
    "help(client.get_acs)"
   ]
  },
  {
   "cell_type": "code",
   "execution_count": 101,
   "id": "c2974442",
   "metadata": {},
   "outputs": [],
   "source": [
    "cv = await client.get_acs(vars = [\"DP05\"],\n",
    "                         start_year = \"2019\",\n",
    "                         end_year = \"2019\",\n",
    "                         estimate = \"5\",\n",
    "                         location = locs)"
   ]
  },
  {
   "cell_type": "code",
   "execution_count": 120,
   "id": "1c4f00d0",
   "metadata": {},
   "outputs": [
    {
     "ename": "KeyError",
     "evalue": "\"['ACS DEMOGRAPHIC AND HOUSING ESTIMATES Estimate SEX AND AGE Total population 10 to 14 years', 'ACS DEMOGRAPHIC AND HOUSING ESTIMATES Estimate SEX AND AGE Total population 15 to 19 years', 'ACS DEMOGRAPHIC AND HOUSING ESTIMATES Estimate SEX AND AGE Total population 16 years and over', 'ACS DEMOGRAPHIC AND HOUSING ESTIMATES Estimate SEX AND AGE Total population 18 years and over', 'ACS DEMOGRAPHIC AND HOUSING ESTIMATES Estimate SEX AND AGE Total population 20 to 24 years', 'ACS DEMOGRAPHIC AND HOUSING ESTIMATES Estimate SEX AND AGE Total population 21 years and over', 'ACS DEMOGRAPHIC AND HOUSING ESTIMATES Estimate SEX AND AGE Total population 25 to 34 years', 'ACS DEMOGRAPHIC AND HOUSING ESTIMATES Estimate SEX AND AGE Total population 35 to 44 years', 'ACS DEMOGRAPHIC AND HOUSING ESTIMATES Estimate SEX AND AGE Total population 45 to 54 years', 'ACS DEMOGRAPHIC AND HOUSING ESTIMATES Estimate SEX AND AGE Total population 5 to 9 years', 'ACS DEMOGRAPHIC AND HOUSING ESTIMATES Estimate SEX AND AGE Total population 55 to 59 years', 'ACS DEMOGRAPHIC AND HOUSING ESTIMATES Estimate SEX AND AGE Total population 60 to 64 years', 'ACS DEMOGRAPHIC AND HOUSING ESTIMATES Estimate SEX AND AGE Total population 62 years and over', 'ACS DEMOGRAPHIC AND HOUSING ESTIMATES Estimate SEX AND AGE Total population 65 to 74 years', 'ACS DEMOGRAPHIC AND HOUSING ESTIMATES Estimate SEX AND AGE Total population 65 years and over', 'ACS DEMOGRAPHIC AND HOUSING ESTIMATES Estimate SEX AND AGE Total population 75 to 84 years', 'ACS DEMOGRAPHIC AND HOUSING ESTIMATES Estimate SEX AND AGE Total population 85 years and over', 'ACS DEMOGRAPHIC AND HOUSING ESTIMATES Estimate SEX AND AGE Total population Under 18 years', 'ACS DEMOGRAPHIC AND HOUSING ESTIMATES Estimate SEX AND AGE Total population Under 5 years'] not in index\"",
     "output_type": "error",
     "traceback": [
      "\u001b[0;31m---------------------------------------------------------------------------\u001b[0m",
      "\u001b[0;31mKeyError\u001b[0m                                  Traceback (most recent call last)",
      "\u001b[0;32m/var/folders/75/46jrzng908x6n6t86gf7xtyw0000gn/T/ipykernel_2874/2206016402.py\u001b[0m in \u001b[0;36m<module>\u001b[0;34m\u001b[0m\n\u001b[1;32m     20\u001b[0m         \"location_key\"]\n\u001b[1;32m     21\u001b[0m \u001b[0;34m\u001b[0m\u001b[0m\n\u001b[0;32m---> 22\u001b[0;31m \u001b[0mcv\u001b[0m \u001b[0;34m=\u001b[0m \u001b[0mcv\u001b[0m\u001b[0;34m[\u001b[0m\u001b[0mcols_to_keep1\u001b[0m\u001b[0;34m]\u001b[0m\u001b[0;34m\u001b[0m\u001b[0;34m\u001b[0m\u001b[0m\n\u001b[0m",
      "\u001b[0;32m~/miniforge3/envs/lowe/lib/python3.8/site-packages/pandas/core/frame.py\u001b[0m in \u001b[0;36m__getitem__\u001b[0;34m(self, key)\u001b[0m\n\u001b[1;32m   3459\u001b[0m             \u001b[0;32mif\u001b[0m \u001b[0mis_iterator\u001b[0m\u001b[0;34m(\u001b[0m\u001b[0mkey\u001b[0m\u001b[0;34m)\u001b[0m\u001b[0;34m:\u001b[0m\u001b[0;34m\u001b[0m\u001b[0;34m\u001b[0m\u001b[0m\n\u001b[1;32m   3460\u001b[0m                 \u001b[0mkey\u001b[0m \u001b[0;34m=\u001b[0m \u001b[0mlist\u001b[0m\u001b[0;34m(\u001b[0m\u001b[0mkey\u001b[0m\u001b[0;34m)\u001b[0m\u001b[0;34m\u001b[0m\u001b[0;34m\u001b[0m\u001b[0m\n\u001b[0;32m-> 3461\u001b[0;31m             \u001b[0mindexer\u001b[0m \u001b[0;34m=\u001b[0m \u001b[0mself\u001b[0m\u001b[0;34m.\u001b[0m\u001b[0mloc\u001b[0m\u001b[0;34m.\u001b[0m\u001b[0m_get_listlike_indexer\u001b[0m\u001b[0;34m(\u001b[0m\u001b[0mkey\u001b[0m\u001b[0;34m,\u001b[0m \u001b[0maxis\u001b[0m\u001b[0;34m=\u001b[0m\u001b[0;36m1\u001b[0m\u001b[0;34m)\u001b[0m\u001b[0;34m[\u001b[0m\u001b[0;36m1\u001b[0m\u001b[0;34m]\u001b[0m\u001b[0;34m\u001b[0m\u001b[0;34m\u001b[0m\u001b[0m\n\u001b[0m\u001b[1;32m   3462\u001b[0m \u001b[0;34m\u001b[0m\u001b[0m\n\u001b[1;32m   3463\u001b[0m         \u001b[0;31m# take() does not accept boolean indexers\u001b[0m\u001b[0;34m\u001b[0m\u001b[0;34m\u001b[0m\u001b[0;34m\u001b[0m\u001b[0m\n",
      "\u001b[0;32m~/miniforge3/envs/lowe/lib/python3.8/site-packages/pandas/core/indexing.py\u001b[0m in \u001b[0;36m_get_listlike_indexer\u001b[0;34m(self, key, axis)\u001b[0m\n\u001b[1;32m   1312\u001b[0m             \u001b[0mkeyarr\u001b[0m\u001b[0;34m,\u001b[0m \u001b[0mindexer\u001b[0m\u001b[0;34m,\u001b[0m \u001b[0mnew_indexer\u001b[0m \u001b[0;34m=\u001b[0m \u001b[0max\u001b[0m\u001b[0;34m.\u001b[0m\u001b[0m_reindex_non_unique\u001b[0m\u001b[0;34m(\u001b[0m\u001b[0mkeyarr\u001b[0m\u001b[0;34m)\u001b[0m\u001b[0;34m\u001b[0m\u001b[0;34m\u001b[0m\u001b[0m\n\u001b[1;32m   1313\u001b[0m \u001b[0;34m\u001b[0m\u001b[0m\n\u001b[0;32m-> 1314\u001b[0;31m         \u001b[0mself\u001b[0m\u001b[0;34m.\u001b[0m\u001b[0m_validate_read_indexer\u001b[0m\u001b[0;34m(\u001b[0m\u001b[0mkeyarr\u001b[0m\u001b[0;34m,\u001b[0m \u001b[0mindexer\u001b[0m\u001b[0;34m,\u001b[0m \u001b[0maxis\u001b[0m\u001b[0;34m)\u001b[0m\u001b[0;34m\u001b[0m\u001b[0;34m\u001b[0m\u001b[0m\n\u001b[0m\u001b[1;32m   1315\u001b[0m \u001b[0;34m\u001b[0m\u001b[0m\n\u001b[1;32m   1316\u001b[0m         if needs_i8_conversion(ax.dtype) or isinstance(\n",
      "\u001b[0;32m~/miniforge3/envs/lowe/lib/python3.8/site-packages/pandas/core/indexing.py\u001b[0m in \u001b[0;36m_validate_read_indexer\u001b[0;34m(self, key, indexer, axis)\u001b[0m\n\u001b[1;32m   1375\u001b[0m \u001b[0;34m\u001b[0m\u001b[0m\n\u001b[1;32m   1376\u001b[0m             \u001b[0mnot_found\u001b[0m \u001b[0;34m=\u001b[0m \u001b[0mlist\u001b[0m\u001b[0;34m(\u001b[0m\u001b[0mensure_index\u001b[0m\u001b[0;34m(\u001b[0m\u001b[0mkey\u001b[0m\u001b[0;34m)\u001b[0m\u001b[0;34m[\u001b[0m\u001b[0mmissing_mask\u001b[0m\u001b[0;34m.\u001b[0m\u001b[0mnonzero\u001b[0m\u001b[0;34m(\u001b[0m\u001b[0;34m)\u001b[0m\u001b[0;34m[\u001b[0m\u001b[0;36m0\u001b[0m\u001b[0;34m]\u001b[0m\u001b[0;34m]\u001b[0m\u001b[0;34m.\u001b[0m\u001b[0munique\u001b[0m\u001b[0;34m(\u001b[0m\u001b[0;34m)\u001b[0m\u001b[0;34m)\u001b[0m\u001b[0;34m\u001b[0m\u001b[0;34m\u001b[0m\u001b[0m\n\u001b[0;32m-> 1377\u001b[0;31m             \u001b[0;32mraise\u001b[0m \u001b[0mKeyError\u001b[0m\u001b[0;34m(\u001b[0m\u001b[0;34mf\"{not_found} not in index\"\u001b[0m\u001b[0;34m)\u001b[0m\u001b[0;34m\u001b[0m\u001b[0;34m\u001b[0m\u001b[0m\n\u001b[0m\u001b[1;32m   1378\u001b[0m \u001b[0;34m\u001b[0m\u001b[0m\n\u001b[1;32m   1379\u001b[0m \u001b[0;34m\u001b[0m\u001b[0m\n",
      "\u001b[0;31mKeyError\u001b[0m: \"['ACS DEMOGRAPHIC AND HOUSING ESTIMATES Estimate SEX AND AGE Total population 10 to 14 years', 'ACS DEMOGRAPHIC AND HOUSING ESTIMATES Estimate SEX AND AGE Total population 15 to 19 years', 'ACS DEMOGRAPHIC AND HOUSING ESTIMATES Estimate SEX AND AGE Total population 16 years and over', 'ACS DEMOGRAPHIC AND HOUSING ESTIMATES Estimate SEX AND AGE Total population 18 years and over', 'ACS DEMOGRAPHIC AND HOUSING ESTIMATES Estimate SEX AND AGE Total population 20 to 24 years', 'ACS DEMOGRAPHIC AND HOUSING ESTIMATES Estimate SEX AND AGE Total population 21 years and over', 'ACS DEMOGRAPHIC AND HOUSING ESTIMATES Estimate SEX AND AGE Total population 25 to 34 years', 'ACS DEMOGRAPHIC AND HOUSING ESTIMATES Estimate SEX AND AGE Total population 35 to 44 years', 'ACS DEMOGRAPHIC AND HOUSING ESTIMATES Estimate SEX AND AGE Total population 45 to 54 years', 'ACS DEMOGRAPHIC AND HOUSING ESTIMATES Estimate SEX AND AGE Total population 5 to 9 years', 'ACS DEMOGRAPHIC AND HOUSING ESTIMATES Estimate SEX AND AGE Total population 55 to 59 years', 'ACS DEMOGRAPHIC AND HOUSING ESTIMATES Estimate SEX AND AGE Total population 60 to 64 years', 'ACS DEMOGRAPHIC AND HOUSING ESTIMATES Estimate SEX AND AGE Total population 62 years and over', 'ACS DEMOGRAPHIC AND HOUSING ESTIMATES Estimate SEX AND AGE Total population 65 to 74 years', 'ACS DEMOGRAPHIC AND HOUSING ESTIMATES Estimate SEX AND AGE Total population 65 years and over', 'ACS DEMOGRAPHIC AND HOUSING ESTIMATES Estimate SEX AND AGE Total population 75 to 84 years', 'ACS DEMOGRAPHIC AND HOUSING ESTIMATES Estimate SEX AND AGE Total population 85 years and over', 'ACS DEMOGRAPHIC AND HOUSING ESTIMATES Estimate SEX AND AGE Total population Under 18 years', 'ACS DEMOGRAPHIC AND HOUSING ESTIMATES Estimate SEX AND AGE Total population Under 5 years'] not in index\""
     ]
    }
   ],
   "source": [
    "cols_to_keep1 = ['ACS DEMOGRAPHIC AND HOUSING ESTIMATES Estimate SEX AND AGE Total population 10 to 14 years',\n",
    "       'ACS DEMOGRAPHIC AND HOUSING ESTIMATES Estimate SEX AND AGE Total population 15 to 19 years',\n",
    "       'ACS DEMOGRAPHIC AND HOUSING ESTIMATES Estimate SEX AND AGE Total population 16 years and over',\n",
    "       'ACS DEMOGRAPHIC AND HOUSING ESTIMATES Estimate SEX AND AGE Total population 18 years and over',\n",
    "       'ACS DEMOGRAPHIC AND HOUSING ESTIMATES Estimate SEX AND AGE Total population 20 to 24 years',\n",
    "       'ACS DEMOGRAPHIC AND HOUSING ESTIMATES Estimate SEX AND AGE Total population 21 years and over',\n",
    "       'ACS DEMOGRAPHIC AND HOUSING ESTIMATES Estimate SEX AND AGE Total population 25 to 34 years',\n",
    "       'ACS DEMOGRAPHIC AND HOUSING ESTIMATES Estimate SEX AND AGE Total population 35 to 44 years',\n",
    "       'ACS DEMOGRAPHIC AND HOUSING ESTIMATES Estimate SEX AND AGE Total population 45 to 54 years',\n",
    "       'ACS DEMOGRAPHIC AND HOUSING ESTIMATES Estimate SEX AND AGE Total population 5 to 9 years',\n",
    "       'ACS DEMOGRAPHIC AND HOUSING ESTIMATES Estimate SEX AND AGE Total population 55 to 59 years',\n",
    "       'ACS DEMOGRAPHIC AND HOUSING ESTIMATES Estimate SEX AND AGE Total population 60 to 64 years',\n",
    "       'ACS DEMOGRAPHIC AND HOUSING ESTIMATES Estimate SEX AND AGE Total population 62 years and over',\n",
    "       'ACS DEMOGRAPHIC AND HOUSING ESTIMATES Estimate SEX AND AGE Total population 65 to 74 years',\n",
    "       'ACS DEMOGRAPHIC AND HOUSING ESTIMATES Estimate SEX AND AGE Total population 65 years and over',\n",
    "       'ACS DEMOGRAPHIC AND HOUSING ESTIMATES Estimate SEX AND AGE Total population 75 to 84 years',\n",
    "       'ACS DEMOGRAPHIC AND HOUSING ESTIMATES Estimate SEX AND AGE Total population 85 years and over',\n",
    "       'ACS DEMOGRAPHIC AND HOUSING ESTIMATES Estimate SEX AND AGE Total population Under 18 years',\n",
    "       'ACS DEMOGRAPHIC AND HOUSING ESTIMATES Estimate SEX AND AGE Total population Under 5 years',\n",
    "        \"location_key\"]\n",
    "\n",
    "cv = cv[cols_to_keep1]"
   ]
  },
  {
   "cell_type": "code",
   "execution_count": 103,
   "id": "80fff464",
   "metadata": {},
   "outputs": [
    {
     "data": {
      "text/html": [
       "<div>\n",
       "<style scoped>\n",
       "    .dataframe tbody tr th:only-of-type {\n",
       "        vertical-align: middle;\n",
       "    }\n",
       "\n",
       "    .dataframe tbody tr th {\n",
       "        vertical-align: top;\n",
       "    }\n",
       "\n",
       "    .dataframe thead th {\n",
       "        text-align: right;\n",
       "    }\n",
       "</style>\n",
       "<table border=\"1\" class=\"dataframe\">\n",
       "  <thead>\n",
       "    <tr style=\"text-align: right;\">\n",
       "      <th>concept_label</th>\n",
       "      <th>ACS DEMOGRAPHIC AND HOUSING ESTIMATES Estimate SEX AND AGE Total population 10 to 14 years</th>\n",
       "      <th>ACS DEMOGRAPHIC AND HOUSING ESTIMATES Estimate SEX AND AGE Total population 15 to 19 years</th>\n",
       "      <th>ACS DEMOGRAPHIC AND HOUSING ESTIMATES Estimate SEX AND AGE Total population 16 years and over</th>\n",
       "      <th>ACS DEMOGRAPHIC AND HOUSING ESTIMATES Estimate SEX AND AGE Total population 18 years and over</th>\n",
       "      <th>ACS DEMOGRAPHIC AND HOUSING ESTIMATES Estimate SEX AND AGE Total population 20 to 24 years</th>\n",
       "      <th>ACS DEMOGRAPHIC AND HOUSING ESTIMATES Estimate SEX AND AGE Total population 21 years and over</th>\n",
       "      <th>ACS DEMOGRAPHIC AND HOUSING ESTIMATES Estimate SEX AND AGE Total population 25 to 34 years</th>\n",
       "      <th>ACS DEMOGRAPHIC AND HOUSING ESTIMATES Estimate SEX AND AGE Total population 35 to 44 years</th>\n",
       "      <th>ACS DEMOGRAPHIC AND HOUSING ESTIMATES Estimate SEX AND AGE Total population 45 to 54 years</th>\n",
       "      <th>ACS DEMOGRAPHIC AND HOUSING ESTIMATES Estimate SEX AND AGE Total population 5 to 9 years</th>\n",
       "      <th>ACS DEMOGRAPHIC AND HOUSING ESTIMATES Estimate SEX AND AGE Total population 55 to 59 years</th>\n",
       "      <th>ACS DEMOGRAPHIC AND HOUSING ESTIMATES Estimate SEX AND AGE Total population 60 to 64 years</th>\n",
       "      <th>ACS DEMOGRAPHIC AND HOUSING ESTIMATES Estimate SEX AND AGE Total population 62 years and over</th>\n",
       "      <th>ACS DEMOGRAPHIC AND HOUSING ESTIMATES Estimate SEX AND AGE Total population 65 to 74 years</th>\n",
       "      <th>ACS DEMOGRAPHIC AND HOUSING ESTIMATES Estimate SEX AND AGE Total population 65 years and over</th>\n",
       "      <th>ACS DEMOGRAPHIC AND HOUSING ESTIMATES Estimate SEX AND AGE Total population 75 to 84 years</th>\n",
       "      <th>ACS DEMOGRAPHIC AND HOUSING ESTIMATES Estimate SEX AND AGE Total population 85 years and over</th>\n",
       "      <th>ACS DEMOGRAPHIC AND HOUSING ESTIMATES Estimate SEX AND AGE Total population Under 18 years</th>\n",
       "      <th>ACS DEMOGRAPHIC AND HOUSING ESTIMATES Estimate SEX AND AGE Total population Under 5 years</th>\n",
       "      <th>location_key</th>\n",
       "    </tr>\n",
       "    <tr>\n",
       "      <th>year</th>\n",
       "      <th></th>\n",
       "      <th></th>\n",
       "      <th></th>\n",
       "      <th></th>\n",
       "      <th></th>\n",
       "      <th></th>\n",
       "      <th></th>\n",
       "      <th></th>\n",
       "      <th></th>\n",
       "      <th></th>\n",
       "      <th></th>\n",
       "      <th></th>\n",
       "      <th></th>\n",
       "      <th></th>\n",
       "      <th></th>\n",
       "      <th></th>\n",
       "      <th></th>\n",
       "      <th></th>\n",
       "      <th></th>\n",
       "      <th></th>\n",
       "    </tr>\n",
       "  </thead>\n",
       "  <tbody>\n",
       "    <tr>\n",
       "      <th>2019</th>\n",
       "      <td>491</td>\n",
       "      <td>425</td>\n",
       "      <td>17002</td>\n",
       "      <td>16818</td>\n",
       "      <td>136</td>\n",
       "      <td>16672</td>\n",
       "      <td>1030</td>\n",
       "      <td>1158</td>\n",
       "      <td>1708</td>\n",
       "      <td>276</td>\n",
       "      <td>1524</td>\n",
       "      <td>1722</td>\n",
       "      <td>10606</td>\n",
       "      <td>4595</td>\n",
       "      <td>9412</td>\n",
       "      <td>3492</td>\n",
       "      <td>1325</td>\n",
       "      <td>1375</td>\n",
       "      <td>311</td>\n",
       "      <td>rancho mirage ca</td>\n",
       "    </tr>\n",
       "  </tbody>\n",
       "</table>\n",
       "<p>9 rows × 20 columns</p>\n",
       "</div>"
      ],
      "text/plain": [
       "concept_label ACS DEMOGRAPHIC AND HOUSING ESTIMATES Estimate SEX AND AGE Total population 10 to 14 years  \\\n",
       "year                                                                                                       \n",
       "2019                                                         491                                           \n",
       "...                                                                                                  ...   \n",
       "\n",
       "concept_label ACS DEMOGRAPHIC AND HOUSING ESTIMATES Estimate SEX AND AGE Total population 15 to 19 years  \\\n",
       "year                                                                                                       \n",
       "2019                                                         425                                           \n",
       "...                                                                                                  ...   \n",
       "\n",
       "concept_label ACS DEMOGRAPHIC AND HOUSING ESTIMATES Estimate SEX AND AGE Total population 16 years and over  \\\n",
       "year                                                                                                          \n",
       "2019                                                       17002                                              \n",
       "...                                                                                                     ...   \n",
       "\n",
       "concept_label ACS DEMOGRAPHIC AND HOUSING ESTIMATES Estimate SEX AND AGE Total population 18 years and over  \\\n",
       "year                                                                                                          \n",
       "2019                                                       16818                                              \n",
       "...                                                                                                     ...   \n",
       "\n",
       "concept_label ACS DEMOGRAPHIC AND HOUSING ESTIMATES Estimate SEX AND AGE Total population 20 to 24 years  \\\n",
       "year                                                                                                       \n",
       "2019                                                         136                                           \n",
       "...                                                                                                  ...   \n",
       "\n",
       "concept_label ACS DEMOGRAPHIC AND HOUSING ESTIMATES Estimate SEX AND AGE Total population 21 years and over  \\\n",
       "year                                                                                                          \n",
       "2019                                                       16672                                              \n",
       "...                                                                                                     ...   \n",
       "\n",
       "concept_label ACS DEMOGRAPHIC AND HOUSING ESTIMATES Estimate SEX AND AGE Total population 25 to 34 years  \\\n",
       "year                                                                                                       \n",
       "2019                                                        1030                                           \n",
       "...                                                                                                  ...   \n",
       "\n",
       "concept_label ACS DEMOGRAPHIC AND HOUSING ESTIMATES Estimate SEX AND AGE Total population 35 to 44 years  \\\n",
       "year                                                                                                       \n",
       "2019                                                        1158                                           \n",
       "...                                                                                                  ...   \n",
       "\n",
       "concept_label ACS DEMOGRAPHIC AND HOUSING ESTIMATES Estimate SEX AND AGE Total population 45 to 54 years  \\\n",
       "year                                                                                                       \n",
       "2019                                                        1708                                           \n",
       "...                                                                                                  ...   \n",
       "\n",
       "concept_label ACS DEMOGRAPHIC AND HOUSING ESTIMATES Estimate SEX AND AGE Total population 5 to 9 years  \\\n",
       "year                                                                                                     \n",
       "2019                                                         276                                         \n",
       "...                                                                                                ...   \n",
       "\n",
       "concept_label ACS DEMOGRAPHIC AND HOUSING ESTIMATES Estimate SEX AND AGE Total population 55 to 59 years  \\\n",
       "year                                                                                                       \n",
       "2019                                                        1524                                           \n",
       "...                                                                                                  ...   \n",
       "\n",
       "concept_label ACS DEMOGRAPHIC AND HOUSING ESTIMATES Estimate SEX AND AGE Total population 60 to 64 years  \\\n",
       "year                                                                                                       \n",
       "2019                                                        1722                                           \n",
       "...                                                                                                  ...   \n",
       "\n",
       "concept_label ACS DEMOGRAPHIC AND HOUSING ESTIMATES Estimate SEX AND AGE Total population 62 years and over  \\\n",
       "year                                                                                                          \n",
       "2019                                                       10606                                              \n",
       "...                                                                                                     ...   \n",
       "\n",
       "concept_label ACS DEMOGRAPHIC AND HOUSING ESTIMATES Estimate SEX AND AGE Total population 65 to 74 years  \\\n",
       "year                                                                                                       \n",
       "2019                                                        4595                                           \n",
       "...                                                                                                  ...   \n",
       "\n",
       "concept_label ACS DEMOGRAPHIC AND HOUSING ESTIMATES Estimate SEX AND AGE Total population 65 years and over  \\\n",
       "year                                                                                                          \n",
       "2019                                                        9412                                              \n",
       "...                                                                                                     ...   \n",
       "\n",
       "concept_label ACS DEMOGRAPHIC AND HOUSING ESTIMATES Estimate SEX AND AGE Total population 75 to 84 years  \\\n",
       "year                                                                                                       \n",
       "2019                                                        3492                                           \n",
       "...                                                                                                  ...   \n",
       "\n",
       "concept_label ACS DEMOGRAPHIC AND HOUSING ESTIMATES Estimate SEX AND AGE Total population 85 years and over  \\\n",
       "year                                                                                                          \n",
       "2019                                                        1325                                              \n",
       "...                                                                                                     ...   \n",
       "\n",
       "concept_label ACS DEMOGRAPHIC AND HOUSING ESTIMATES Estimate SEX AND AGE Total population Under 18 years  \\\n",
       "year                                                                                                       \n",
       "2019                                                        1375                                           \n",
       "...                                                                                                  ...   \n",
       "\n",
       "concept_label ACS DEMOGRAPHIC AND HOUSING ESTIMATES Estimate SEX AND AGE Total population Under 5 years  \\\n",
       "year                                                                                                      \n",
       "2019                                                         311                                          \n",
       "...                                                                                                 ...   \n",
       "\n",
       "concept_label      location_key  \n",
       "year                             \n",
       "2019           rancho mirage ca  \n",
       "...                         ...  \n",
       "\n",
       "[9 rows x 20 columns]"
      ]
     },
     "execution_count": 103,
     "metadata": {},
     "output_type": "execute_result"
    }
   ],
   "source": [
    "cv"
   ]
  },
  {
   "cell_type": "code",
   "execution_count": 104,
   "id": "6d71a78b",
   "metadata": {},
   "outputs": [],
   "source": [
    "cv.columns = cv.columns.str.replace('ACS DEMOGRAPHIC AND HOUSING ESTIMATES Estimate SEX AND AGE Total population ', \"\")"
   ]
  },
  {
   "cell_type": "code",
   "execution_count": 105,
   "id": "867b1fec",
   "metadata": {},
   "outputs": [
    {
     "name": "stdout",
     "output_type": "stream",
     "text": [
      "10 to 14 years\n",
      "15 to 19 years\n",
      "16 years and over\n",
      "18 years and over\n",
      "20 to 24 years\n",
      "21 years and over\n",
      "25 to 34 years\n",
      "35 to 44 years\n",
      "45 to 54 years\n",
      "5 to 9 years\n",
      "55 to 59 years\n",
      "60 to 64 years\n",
      "62 years and over\n",
      "65 to 74 years\n",
      "65 years and over\n",
      "75 to 84 years\n",
      "85 years and over\n",
      "Under 18 years\n",
      "Under 5 years\n",
      "location_key\n"
     ]
    }
   ],
   "source": [
    "for col in cv.columns:\n",
    "    print(col)"
   ]
  },
  {
   "cell_type": "code",
   "execution_count": 106,
   "id": "ae5ddc8a",
   "metadata": {},
   "outputs": [],
   "source": [
    "cv[\"0-14\"] = cv[\"Under 5 years\"].astype(int) + cv[\"5 to 9 years\"].astype(int) + cv[\"10 to 14 years\"].astype(int)\n",
    "cv[\"15-24\"] = cv[\"15 to 19 years\"].astype(int) + cv[\"20 to 24 years\"].astype(int)\n",
    "cv[\"25-34\"] = cv[\"25 to 34 years\"].astype(int)\n",
    "cv[\"35-44\"] = cv[\"35 to 44 years\"].astype(int)\n",
    "cv[\"45-65\"] = cv[\"45 to 54 years\"].astype(int) + cv[\"55 to 59 years\"].astype(int) + cv[\"60 to 64 years\"].astype(int)\n",
    "cv[\"65+\"] = cv[\"65 years and over\"].astype(int)\n",
    "\n",
    "cols_to_keep = [\"0-14\", \"15-24\", \"25-34\", \"35-44\",\"45-65\",\"65+\", \"location_key\"]\n",
    "cv = cv[cols_to_keep]"
   ]
  },
  {
   "cell_type": "code",
   "execution_count": 116,
   "id": "efc5c62b",
   "metadata": {},
   "outputs": [],
   "source": [
    "cv.to_csv(\"cv_ages.csv\")"
   ]
  },
  {
   "cell_type": "code",
   "execution_count": 115,
   "id": "d5948e81",
   "metadata": {},
   "outputs": [
    {
     "name": "stdout",
     "output_type": "stream",
     "text": [
      "concept_label\n",
      "0-14      60211\n",
      "15-24     41309\n",
      "25-34     44718\n",
      "35-44     44084\n",
      "45-65    101056\n",
      "65+       91325\n",
      "dtype: int64\n"
     ]
    }
   ],
   "source": [
    "with pd.option_context('display.max_rows', None, 'display.max_columns', None):  # more options can be specified also\n",
    "    print(cv.iloc[:, 0:-1].sum(axis=0))"
   ]
  },
  {
   "cell_type": "code",
   "execution_count": 73,
   "id": "d1c16afe",
   "metadata": {},
   "outputs": [
    {
     "data": {
      "text/html": [
       "<div>\n",
       "<style scoped>\n",
       "    .dataframe tbody tr th:only-of-type {\n",
       "        vertical-align: middle;\n",
       "    }\n",
       "\n",
       "    .dataframe tbody tr th {\n",
       "        vertical-align: top;\n",
       "    }\n",
       "\n",
       "    .dataframe thead th {\n",
       "        text-align: right;\n",
       "    }\n",
       "</style>\n",
       "<table border=\"1\" class=\"dataframe\">\n",
       "  <thead>\n",
       "    <tr style=\"text-align: right;\">\n",
       "      <th>concept_label</th>\n",
       "    </tr>\n",
       "    <tr>\n",
       "      <th>location_key</th>\n",
       "    </tr>\n",
       "  </thead>\n",
       "  <tbody>\n",
       "    <tr>\n",
       "      <th>cathedral city ca</th>\n",
       "    </tr>\n",
       "  </tbody>\n",
       "</table>\n",
       "<p>9 rows × 0 columns</p>\n",
       "</div>"
      ],
      "text/plain": [
       "Empty DataFrame\n",
       "Columns: []\n",
       "Index: [cathedral city ca, coachella ca, desert hot springs ca, indian wells ca, indio ca, la quinta ca, palm desert ca, palm springs ca, rancho mirage ca]\n",
       "\n",
       "[9 rows x 0 columns]"
      ]
     },
     "execution_count": 73,
     "metadata": {},
     "output_type": "execute_result"
    }
   ],
   "source": [
    "cv"
   ]
  },
  {
   "cell_type": "code",
   "execution_count": 117,
   "id": "19b02c31",
   "metadata": {},
   "outputs": [],
   "source": [
    "rc = await client.get_acs(vars = [\"DP05\"],\n",
    "                         start_year = \"2019\",\n",
    "                         end_year = \"2019\",\n",
    "                         estimate = \"5\",\n",
    "                         location = riverside)"
   ]
  },
  {
   "cell_type": "code",
   "execution_count": 121,
   "id": "9abbc0cc",
   "metadata": {},
   "outputs": [],
   "source": [
    "rc = rc[cols_to_keep1]"
   ]
  },
  {
   "cell_type": "code",
   "execution_count": 123,
   "id": "47d333ae",
   "metadata": {},
   "outputs": [],
   "source": [
    "rc.columns = rc.columns.str.replace('ACS DEMOGRAPHIC AND HOUSING ESTIMATES Estimate SEX AND AGE Total population ', \"\")"
   ]
  },
  {
   "cell_type": "code",
   "execution_count": 124,
   "id": "aae124db",
   "metadata": {},
   "outputs": [
    {
     "name": "stderr",
     "output_type": "stream",
     "text": [
      "/var/folders/75/46jrzng908x6n6t86gf7xtyw0000gn/T/ipykernel_2874/3260927598.py:1: SettingWithCopyWarning: \n",
      "A value is trying to be set on a copy of a slice from a DataFrame.\n",
      "Try using .loc[row_indexer,col_indexer] = value instead\n",
      "\n",
      "See the caveats in the documentation: https://pandas.pydata.org/pandas-docs/stable/user_guide/indexing.html#returning-a-view-versus-a-copy\n",
      "  rc[\"0-14\"] = rc[\"Under 5 years\"].astype(int) + rc[\"5 to 9 years\"].astype(int) + rc[\"10 to 14 years\"].astype(int)\n",
      "/var/folders/75/46jrzng908x6n6t86gf7xtyw0000gn/T/ipykernel_2874/3260927598.py:2: SettingWithCopyWarning: \n",
      "A value is trying to be set on a copy of a slice from a DataFrame.\n",
      "Try using .loc[row_indexer,col_indexer] = value instead\n",
      "\n",
      "See the caveats in the documentation: https://pandas.pydata.org/pandas-docs/stable/user_guide/indexing.html#returning-a-view-versus-a-copy\n",
      "  rc[\"15-24\"] = rc[\"15 to 19 years\"].astype(int) + rc[\"20 to 24 years\"].astype(int)\n",
      "/var/folders/75/46jrzng908x6n6t86gf7xtyw0000gn/T/ipykernel_2874/3260927598.py:3: SettingWithCopyWarning: \n",
      "A value is trying to be set on a copy of a slice from a DataFrame.\n",
      "Try using .loc[row_indexer,col_indexer] = value instead\n",
      "\n",
      "See the caveats in the documentation: https://pandas.pydata.org/pandas-docs/stable/user_guide/indexing.html#returning-a-view-versus-a-copy\n",
      "  rc[\"25-34\"] = rc[\"25 to 34 years\"].astype(int)\n",
      "/var/folders/75/46jrzng908x6n6t86gf7xtyw0000gn/T/ipykernel_2874/3260927598.py:4: SettingWithCopyWarning: \n",
      "A value is trying to be set on a copy of a slice from a DataFrame.\n",
      "Try using .loc[row_indexer,col_indexer] = value instead\n",
      "\n",
      "See the caveats in the documentation: https://pandas.pydata.org/pandas-docs/stable/user_guide/indexing.html#returning-a-view-versus-a-copy\n",
      "  rc[\"35-44\"] = rc[\"35 to 44 years\"].astype(int)\n",
      "/var/folders/75/46jrzng908x6n6t86gf7xtyw0000gn/T/ipykernel_2874/3260927598.py:5: SettingWithCopyWarning: \n",
      "A value is trying to be set on a copy of a slice from a DataFrame.\n",
      "Try using .loc[row_indexer,col_indexer] = value instead\n",
      "\n",
      "See the caveats in the documentation: https://pandas.pydata.org/pandas-docs/stable/user_guide/indexing.html#returning-a-view-versus-a-copy\n",
      "  rc[\"45-65\"] = rc[\"45 to 54 years\"].astype(int) + rc[\"55 to 59 years\"].astype(int) + rc[\"60 to 64 years\"].astype(int)\n",
      "/var/folders/75/46jrzng908x6n6t86gf7xtyw0000gn/T/ipykernel_2874/3260927598.py:6: SettingWithCopyWarning: \n",
      "A value is trying to be set on a copy of a slice from a DataFrame.\n",
      "Try using .loc[row_indexer,col_indexer] = value instead\n",
      "\n",
      "See the caveats in the documentation: https://pandas.pydata.org/pandas-docs/stable/user_guide/indexing.html#returning-a-view-versus-a-copy\n",
      "  rc[\"65+\"] = rc[\"65 years and over\"].astype(int)\n"
     ]
    }
   ],
   "source": [
    "rc[\"0-14\"] = rc[\"Under 5 years\"].astype(int) + rc[\"5 to 9 years\"].astype(int) + rc[\"10 to 14 years\"].astype(int)\n",
    "rc[\"15-24\"] = rc[\"15 to 19 years\"].astype(int) + rc[\"20 to 24 years\"].astype(int)\n",
    "rc[\"25-34\"] = rc[\"25 to 34 years\"].astype(int)\n",
    "rc[\"35-44\"] = rc[\"35 to 44 years\"].astype(int)\n",
    "rc[\"45-65\"] = rc[\"45 to 54 years\"].astype(int) + rc[\"55 to 59 years\"].astype(int) + rc[\"60 to 64 years\"].astype(int)\n",
    "rc[\"65+\"] = rc[\"65 years and over\"].astype(int)\n",
    "\n",
    "cols_to_keep = [\"0-14\", \"15-24\", \"25-34\", \"35-44\",\"45-65\",\"65+\", \"location_key\"]\n",
    "rc = rc[cols_to_keep]"
   ]
  },
  {
   "cell_type": "code",
   "execution_count": 125,
   "id": "ccd45eb9",
   "metadata": {},
   "outputs": [
    {
     "data": {
      "text/html": [
       "<div>\n",
       "<style scoped>\n",
       "    .dataframe tbody tr th:only-of-type {\n",
       "        vertical-align: middle;\n",
       "    }\n",
       "\n",
       "    .dataframe tbody tr th {\n",
       "        vertical-align: top;\n",
       "    }\n",
       "\n",
       "    .dataframe thead th {\n",
       "        text-align: right;\n",
       "    }\n",
       "</style>\n",
       "<table border=\"1\" class=\"dataframe\">\n",
       "  <thead>\n",
       "    <tr style=\"text-align: right;\">\n",
       "      <th>concept_label</th>\n",
       "      <th>0-14</th>\n",
       "      <th>15-24</th>\n",
       "      <th>25-34</th>\n",
       "      <th>35-44</th>\n",
       "      <th>45-65</th>\n",
       "      <th>65+</th>\n",
       "      <th>location_key</th>\n",
       "    </tr>\n",
       "    <tr>\n",
       "      <th>year</th>\n",
       "      <th></th>\n",
       "      <th></th>\n",
       "      <th></th>\n",
       "      <th></th>\n",
       "      <th></th>\n",
       "      <th></th>\n",
       "      <th></th>\n",
       "    </tr>\n",
       "  </thead>\n",
       "  <tbody>\n",
       "    <tr>\n",
       "      <th>2019</th>\n",
       "      <td>505816</td>\n",
       "      <td>345754</td>\n",
       "      <td>334925</td>\n",
       "      <td>308273</td>\n",
       "      <td>576096</td>\n",
       "      <td>340575</td>\n",
       "      <td>riverside county ca</td>\n",
       "    </tr>\n",
       "  </tbody>\n",
       "</table>\n",
       "</div>"
      ],
      "text/plain": [
       "concept_label    0-14   15-24   25-34   35-44   45-65     65+  \\\n",
       "year                                                            \n",
       "2019           505816  345754  334925  308273  576096  340575   \n",
       "\n",
       "concept_label         location_key  \n",
       "year                                \n",
       "2019           riverside county ca  "
      ]
     },
     "execution_count": 125,
     "metadata": {},
     "output_type": "execute_result"
    }
   ],
   "source": [
    "rc"
   ]
  },
  {
   "cell_type": "code",
   "execution_count": null,
   "id": "24d93c68",
   "metadata": {},
   "outputs": [],
   "source": []
  }
 ],
 "metadata": {
  "kernelspec": {
   "display_name": "lowe",
   "language": "python",
   "name": "lowe"
  },
  "language_info": {
   "codemirror_mode": {
    "name": "ipython",
    "version": 3
   },
   "file_extension": ".py",
   "mimetype": "text/x-python",
   "name": "python",
   "nbconvert_exporter": "python",
   "pygments_lexer": "ipython3",
   "version": "3.8.10"
  }
 },
 "nbformat": 4,
 "nbformat_minor": 5
}
