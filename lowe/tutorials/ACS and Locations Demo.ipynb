{
 "cells": [
  {
   "cell_type": "markdown",
   "id": "01f5cdf7",
   "metadata": {},
   "source": [
    "# Intro to the Lowe Package\n",
    "\n",
    "This notebook will introduce you how to use two of our core packages: `lowe.acs` and `lowe.locations`. First, make sure you can use the `lowe` conda environment as your jupyter kernel. To do that, run these two commands in your terminal (not in the notebook):"
   ]
  },
  {
   "cell_type": "code",
   "execution_count": 1,
   "id": "c5bfec51",
   "metadata": {},
   "outputs": [],
   "source": [
    "# conda install -c anaconda ipykernel\n",
    "# python -m ipykernel install --user --name=lowe"
   ]
  },
  {
   "cell_type": "markdown",
   "id": "e8ad139a",
   "metadata": {},
   "source": [
    "After this, you can go to `Kernel > Change kernel > lowe` and you can switch your environment to the `lowe` environment in a notebook!\n",
    "\n",
    "Since we install our project as a Python package, we can import our packages as follows:"
   ]
  },
  {
   "cell_type": "code",
   "execution_count": 1,
   "id": "acf51d7a",
   "metadata": {},
   "outputs": [],
   "source": [
    "import pandas as pd\n",
    "\n",
    "from lowe.locations.lookup import name2fips, fips2name, search\n",
    "from lowe.acs.ACSClient import ACSClient"
   ]
  },
  {
   "cell_type": "markdown",
   "id": "12b9bac9",
   "metadata": {},
   "source": [
    "# Using lowe.locations\n",
    "\n",
    "If we want to make good use of the ACS wrapper, we need to encode locations in what are called **location dictionaries**. These are dictionaries where the keys are \"state\", \"msa\", \"county\", and \"city\". In practice, you will usually only use these combinations of keys:\n",
    "\n",
    "- \"state\"\n",
    "- \"state\", \"msa\"\n",
    "- \"state\", \"county\"\n",
    "- \"state\", \"city\"\n",
    "\n",
    "That is, a state and a particular sub-geography. The **values** corresponding to these keys are **FIPS Codes**. FIPS stands for Federal Information Processing Standards. FIPS codes are unique codes corresponding to each geographical entity in the United states. How do we find these codes, though?\n",
    "\n",
    "Enter `search()` from `lowe.locations.lookup`! This function takes 3 arguments:\n",
    "\n",
    "- query (str): what you are searching for\n",
    "- codetype (str): what geography type you are searching for (either \"state\", \"msa\", \"county\", or \"city\")\n",
    "- search_on (str): what your query is (either \"name\" or \"fips\")\n",
    "\n",
    "So, if we want to find the FIPS code, we might do"
   ]
  },
  {
   "cell_type": "code",
   "execution_count": 2,
   "id": "3724a4a5",
   "metadata": {},
   "outputs": [
    {
     "name": "stdout",
     "output_type": "stream",
     "text": [
      "                        name     fips\n",
      "3087        palm springs, ca  0655254\n",
      "5029        palm springs, fl  1254450\n",
      "5030  palm springs north, fl  1254500\n"
     ]
    }
   ],
   "source": [
    "search(query = \"palm springs\", codetype = \"city\", search_on = \"name\")"
   ]
  },
  {
   "cell_type": "markdown",
   "id": "33e39083",
   "metadata": {},
   "source": [
    "Note that we always pass everything in as lowercase!\n",
    "\n",
    "So, the FIPS code for \"palm springs, ca\" is \"0655254\". The \"06\" corresponds to the state (CA), and the last 5 digits \"55254\" correspond to the city. Note that FIPS codes are **only** unique up to state! We can see this by searching for a FIPS code, say, \"52540\""
   ]
  },
  {
   "cell_type": "code",
   "execution_count": 3,
   "id": "81511e54",
   "metadata": {},
   "outputs": [
    {
     "name": "stdout",
     "output_type": "stream",
     "text": [
      "                   name     fips\n",
      "12750      mayville, mi  2652540\n",
      "16533        weston, ne  3152540\n",
      "17798  north hurley, nm  3552540\n",
      "25005       finklea, sc  4525405\n",
      "25172        olanta, sc  4552540\n"
     ]
    }
   ],
   "source": [
    "search(query = \"52540\", codetype = \"city\", search_on = \"fips\")"
   ]
  },
  {
   "cell_type": "markdown",
   "id": "71d49885",
   "metadata": {},
   "source": [
    "So, only 7-digit (state-inclusive) FIPS codes are unique!\n",
    "\n",
    "So, to query the ACS wrapper, we need to pass in a dictionary where the FIPS codes are values. So, we will pass in a dictionary that looks like this:\n",
    "\n",
    "```python\n",
    "loc = {\n",
    "    \"state\": \"06\",\n",
    "    \"city\": \"55254\" # the first two digits are optional if you pass in \"state\"\n",
    "}\n",
    "```\n",
    "\n",
    "But the output of the ACS wrapper will translate the FIPS code to name values. How does it do this? Simply by calling `fips2name(loc)`:"
   ]
  },
  {
   "cell_type": "code",
   "execution_count": 4,
   "id": "1c9e685c",
   "metadata": {},
   "outputs": [
    {
     "name": "stdout",
     "output_type": "stream",
     "text": [
      "{'city': 'palm springs, ca', 'state': 'ca'}\n"
     ]
    }
   ],
   "source": [
    "loc = {\n",
    "    \"state\": \"06\",\n",
    "    \"city\": \"55254\" # If you pass in a 7-digit city code, then \"state\" is unnecessary\n",
    "}\n",
    "\n",
    "namedict = fips2name(loc)\n",
    "print(namedict)"
   ]
  },
  {
   "cell_type": "markdown",
   "id": "7f3d3614",
   "metadata": {},
   "source": [
    "Works like a charm! We can also reverse this by calling `fips2name(namedict)`:"
   ]
  },
  {
   "cell_type": "code",
   "execution_count": 5,
   "id": "d69834ca",
   "metadata": {},
   "outputs": [
    {
     "data": {
      "text/plain": [
       "{'city': '0655254', 'state': '06'}"
      ]
     },
     "execution_count": 5,
     "metadata": {},
     "output_type": "execute_result"
    }
   ],
   "source": [
    "name2fips(namedict)"
   ]
  },
  {
   "cell_type": "markdown",
   "id": "108bfe04",
   "metadata": {},
   "source": [
    "Perfect :) \n",
    "\n",
    "Now that we have this under our belt, we are ready to use the ACS API wrapper!"
   ]
  },
  {
   "cell_type": "markdown",
   "id": "9f2a213d",
   "metadata": {},
   "source": [
    "# lowe.acs package"
   ]
  },
  {
   "cell_type": "markdown",
   "id": "caf0650f",
   "metadata": {},
   "source": [
    "Now that we are armed with the locations package, let's try to make a query to the ACS API. \n",
    "\n",
    "First, what is ACS? This stands for the **American Community Survey**, which is published yearly by the US Census Bureau. The data are incredibly detailed -- take a look [here](https://data.census.gov/cedsci/). Click on `Advanced Search` and take a look at some of the categories they have!\n",
    "\n",
    "Now, let's say we want to pull the poverty rates (table ID: [S1701](https://data.census.gov/cedsci/table?q=S1701&tid=ACSST5Y2019.S1701)) in Coachella, CA and Indian Wells, CA from 2012 to 2019 using ACS 5-year estimates (the most robust estimates they offer). First, we need to find the FIPS code for Coachella:"
   ]
  },
  {
   "cell_type": "code",
   "execution_count": 6,
   "id": "138e42be",
   "metadata": {},
   "outputs": [
    {
     "name": "stdout",
     "output_type": "stream",
     "text": [
      "               name     fips\n",
      "2315  coachella, ca  0614260\n",
      "                  name     fips\n",
      "2681  indian wells, ca  0636434\n"
     ]
    }
   ],
   "source": [
    "search(query=\"coachella, ca\", codetype=\"city\", search_on=\"name\")\n",
    "\n",
    "search(query=\"indian wells, ca\", codetype=\"city\", search_on=\"name\")"
   ]
  },
  {
   "cell_type": "markdown",
   "id": "bbe8ce43",
   "metadata": {},
   "source": [
    "With this in mind, we can create our location dictionary:"
   ]
  },
  {
   "cell_type": "code",
   "execution_count": 7,
   "id": "f8aa9ae8",
   "metadata": {},
   "outputs": [],
   "source": [
    "loc1 = {\n",
    "    \"state\": \"06\",\n",
    "    \"city\": \"14260\"\n",
    "}\n",
    "\n",
    "loc2 = {\"city\": \"0636434\"}\n",
    "\n",
    "locs = [loc1, loc2]"
   ]
  },
  {
   "cell_type": "code",
   "execution_count": 8,
   "id": "24d12dda",
   "metadata": {
    "scrolled": true
   },
   "outputs": [],
   "source": [
    "client = ACSClient()\n",
    "await client.initialize()"
   ]
  },
  {
   "cell_type": "code",
   "execution_count": 9,
   "id": "e11eb8f5",
   "metadata": {},
   "outputs": [],
   "source": [
    "resp = await client.get_acs(vars = [\"S1701\"],\n",
    "                     start_year=\"2012\",\n",
    "                     end_year=\"2019\",\n",
    "                     location=locs, # you can also pass in just one dictionary\n",
    "                     estimate=\"5\")"
   ]
  },
  {
   "cell_type": "markdown",
   "id": "1efe69a0",
   "metadata": {},
   "source": [
    "Now we can check out what columns there are and then process the result:"
   ]
  },
  {
   "cell_type": "code",
   "execution_count": 18,
   "id": "17253b15",
   "metadata": {},
   "outputs": [
    {
     "name": "stdout",
     "output_type": "stream",
     "text": [
      "POVERTY STATUS IN THE PAST 12 MONTHS Estimate Below poverty level Population for whom poverty status is determined\n",
      "POVERTY STATUS IN THE PAST 12 MONTHS Estimate Below poverty level Population for whom poverty status is determined AGE 18 to 64 years\n",
      "POVERTY STATUS IN THE PAST 12 MONTHS Estimate Below poverty level Population for whom poverty status is determined AGE 18 to 64 years 18 to 34 years\n",
      "POVERTY STATUS IN THE PAST 12 MONTHS Estimate Below poverty level Population for whom poverty status is determined AGE 18 to 64 years 35 to 64 years\n",
      "POVERTY STATUS IN THE PAST 12 MONTHS Estimate Below poverty level Population for whom poverty status is determined AGE 60 years and over\n",
      "POVERTY STATUS IN THE PAST 12 MONTHS Estimate Below poverty level Population for whom poverty status is determined AGE 65 years and over\n",
      "POVERTY STATUS IN THE PAST 12 MONTHS Estimate Below poverty level Population for whom poverty status is determined AGE Under 18 years\n",
      "POVERTY STATUS IN THE PAST 12 MONTHS Estimate Below poverty level Population for whom poverty status is determined AGE Under 18 years 5 to 17 years\n",
      "POVERTY STATUS IN THE PAST 12 MONTHS Estimate Below poverty level Population for whom poverty status is determined AGE Under 18 years Related children of householder under 18 years\n",
      "POVERTY STATUS IN THE PAST 12 MONTHS Estimate Below poverty level Population for whom poverty status is determined AGE Under 18 years Under 5 years\n",
      "POVERTY STATUS IN THE PAST 12 MONTHS Estimate Below poverty level Population for whom poverty status is determined ALL INDIVIDUALS WITH INCOME BELOW THE FOLLOWING POVERTY RATIOS 125 percent of poverty level\n",
      "POVERTY STATUS IN THE PAST 12 MONTHS Estimate Below poverty level Population for whom poverty status is determined ALL INDIVIDUALS WITH INCOME BELOW THE FOLLOWING POVERTY RATIOS 150 percent of poverty level\n",
      "POVERTY STATUS IN THE PAST 12 MONTHS Estimate Below poverty level Population for whom poverty status is determined ALL INDIVIDUALS WITH INCOME BELOW THE FOLLOWING POVERTY RATIOS 185 percent of poverty level\n",
      "POVERTY STATUS IN THE PAST 12 MONTHS Estimate Below poverty level Population for whom poverty status is determined ALL INDIVIDUALS WITH INCOME BELOW THE FOLLOWING POVERTY RATIOS 200 percent of poverty level\n",
      "POVERTY STATUS IN THE PAST 12 MONTHS Estimate Below poverty level Population for whom poverty status is determined ALL INDIVIDUALS WITH INCOME BELOW THE FOLLOWING POVERTY RATIOS 300 percent of poverty level\n",
      "POVERTY STATUS IN THE PAST 12 MONTHS Estimate Below poverty level Population for whom poverty status is determined ALL INDIVIDUALS WITH INCOME BELOW THE FOLLOWING POVERTY RATIOS 400 percent of poverty level\n",
      "POVERTY STATUS IN THE PAST 12 MONTHS Estimate Below poverty level Population for whom poverty status is determined ALL INDIVIDUALS WITH INCOME BELOW THE FOLLOWING POVERTY RATIOS 50 percent of poverty level\n",
      "POVERTY STATUS IN THE PAST 12 MONTHS Estimate Below poverty level Population for whom poverty status is determined ALL INDIVIDUALS WITH INCOME BELOW THE FOLLOWING POVERTY RATIOS 500 percent of poverty level\n",
      "POVERTY STATUS IN THE PAST 12 MONTHS Estimate Below poverty level Population for whom poverty status is determined EDUCATIONAL ATTAINMENT Population 25 years and over\n",
      "POVERTY STATUS IN THE PAST 12 MONTHS Estimate Below poverty level Population for whom poverty status is determined EDUCATIONAL ATTAINMENT Population 25 years and over Bachelor's degree or higher\n",
      "POVERTY STATUS IN THE PAST 12 MONTHS Estimate Below poverty level Population for whom poverty status is determined EDUCATIONAL ATTAINMENT Population 25 years and over High school graduate (includes equivalency)\n",
      "POVERTY STATUS IN THE PAST 12 MONTHS Estimate Below poverty level Population for whom poverty status is determined EDUCATIONAL ATTAINMENT Population 25 years and over Less than high school graduate\n",
      "POVERTY STATUS IN THE PAST 12 MONTHS Estimate Below poverty level Population for whom poverty status is determined EDUCATIONAL ATTAINMENT Population 25 years and over Some college, associate's degree\n",
      "POVERTY STATUS IN THE PAST 12 MONTHS Estimate Below poverty level Population for whom poverty status is determined EMPLOYMENT STATUS Civilian labor force 16 years and over\n",
      "POVERTY STATUS IN THE PAST 12 MONTHS Estimate Below poverty level Population for whom poverty status is determined EMPLOYMENT STATUS Civilian labor force 16 years and over Employed\n",
      "POVERTY STATUS IN THE PAST 12 MONTHS Estimate Below poverty level Population for whom poverty status is determined EMPLOYMENT STATUS Civilian labor force 16 years and over Employed Female\n",
      "POVERTY STATUS IN THE PAST 12 MONTHS Estimate Below poverty level Population for whom poverty status is determined EMPLOYMENT STATUS Civilian labor force 16 years and over Employed Male\n",
      "POVERTY STATUS IN THE PAST 12 MONTHS Estimate Below poverty level Population for whom poverty status is determined EMPLOYMENT STATUS Civilian labor force 16 years and over Unemployed\n",
      "POVERTY STATUS IN THE PAST 12 MONTHS Estimate Below poverty level Population for whom poverty status is determined EMPLOYMENT STATUS Civilian labor force 16 years and over Unemployed Female\n",
      "POVERTY STATUS IN THE PAST 12 MONTHS Estimate Below poverty level Population for whom poverty status is determined EMPLOYMENT STATUS Civilian labor force 16 years and over Unemployed Male\n",
      "POVERTY STATUS IN THE PAST 12 MONTHS Estimate Below poverty level Population for whom poverty status is determined RACE AND HISPANIC OR LATINO ORIGIN American Indian and Alaska Native alone\n",
      "POVERTY STATUS IN THE PAST 12 MONTHS Estimate Below poverty level Population for whom poverty status is determined RACE AND HISPANIC OR LATINO ORIGIN Asian alone\n",
      "POVERTY STATUS IN THE PAST 12 MONTHS Estimate Below poverty level Population for whom poverty status is determined RACE AND HISPANIC OR LATINO ORIGIN Black or African American alone\n",
      "POVERTY STATUS IN THE PAST 12 MONTHS Estimate Below poverty level Population for whom poverty status is determined RACE AND HISPANIC OR LATINO ORIGIN Hispanic or Latino origin (of any race)\n",
      "POVERTY STATUS IN THE PAST 12 MONTHS Estimate Below poverty level Population for whom poverty status is determined RACE AND HISPANIC OR LATINO ORIGIN Native Hawaiian and Other Pacific Islander alone\n",
      "POVERTY STATUS IN THE PAST 12 MONTHS Estimate Below poverty level Population for whom poverty status is determined RACE AND HISPANIC OR LATINO ORIGIN Some other race alone\n",
      "POVERTY STATUS IN THE PAST 12 MONTHS Estimate Below poverty level Population for whom poverty status is determined RACE AND HISPANIC OR LATINO ORIGIN Two or more races\n",
      "POVERTY STATUS IN THE PAST 12 MONTHS Estimate Below poverty level Population for whom poverty status is determined RACE AND HISPANIC OR LATINO ORIGIN White alone\n",
      "POVERTY STATUS IN THE PAST 12 MONTHS Estimate Below poverty level Population for whom poverty status is determined RACE AND HISPANIC OR LATINO ORIGIN White alone, not Hispanic or Latino\n",
      "POVERTY STATUS IN THE PAST 12 MONTHS Estimate Below poverty level Population for whom poverty status is determined SEX Female\n",
      "POVERTY STATUS IN THE PAST 12 MONTHS Estimate Below poverty level Population for whom poverty status is determined SEX Male\n",
      "POVERTY STATUS IN THE PAST 12 MONTHS Estimate Below poverty level Population for whom poverty status is determined WORK EXPERIENCE Population 16 years and over\n",
      "POVERTY STATUS IN THE PAST 12 MONTHS Estimate Below poverty level Population for whom poverty status is determined WORK EXPERIENCE Population 16 years and over Did not work\n",
      "POVERTY STATUS IN THE PAST 12 MONTHS Estimate Below poverty level Population for whom poverty status is determined WORK EXPERIENCE Population 16 years and over Worked full-time, year-round in the past 12 months\n",
      "POVERTY STATUS IN THE PAST 12 MONTHS Estimate Below poverty level Population for whom poverty status is determined WORK EXPERIENCE Population 16 years and over Worked part-time or part-year in the past 12 months\n",
      "POVERTY STATUS IN THE PAST 12 MONTHS Estimate Below poverty level UNRELATED INDIVIDUALS FOR WHOM POVERTY STATUS IS DETERMINED\n",
      "POVERTY STATUS IN THE PAST 12 MONTHS Estimate Percent below poverty level Population for whom poverty status is determined\n",
      "POVERTY STATUS IN THE PAST 12 MONTHS Estimate Percent below poverty level Population for whom poverty status is determined AGE 18 to 64 years\n",
      "POVERTY STATUS IN THE PAST 12 MONTHS Estimate Percent below poverty level Population for whom poverty status is determined AGE 18 to 64 years 18 to 34 years\n",
      "POVERTY STATUS IN THE PAST 12 MONTHS Estimate Percent below poverty level Population for whom poverty status is determined AGE 18 to 64 years 35 to 64 years\n",
      "POVERTY STATUS IN THE PAST 12 MONTHS Estimate Percent below poverty level Population for whom poverty status is determined AGE 60 years and over\n",
      "POVERTY STATUS IN THE PAST 12 MONTHS Estimate Percent below poverty level Population for whom poverty status is determined AGE 65 years and over\n",
      "POVERTY STATUS IN THE PAST 12 MONTHS Estimate Percent below poverty level Population for whom poverty status is determined AGE Under 18 years\n",
      "POVERTY STATUS IN THE PAST 12 MONTHS Estimate Percent below poverty level Population for whom poverty status is determined AGE Under 18 years 5 to 17 years\n",
      "POVERTY STATUS IN THE PAST 12 MONTHS Estimate Percent below poverty level Population for whom poverty status is determined AGE Under 18 years Related children of householder under 18 years\n",
      "POVERTY STATUS IN THE PAST 12 MONTHS Estimate Percent below poverty level Population for whom poverty status is determined AGE Under 18 years Under 5 years\n",
      "POVERTY STATUS IN THE PAST 12 MONTHS Estimate Percent below poverty level Population for whom poverty status is determined ALL INDIVIDUALS WITH INCOME BELOW THE FOLLOWING POVERTY RATIOS 125 percent of poverty level\n",
      "POVERTY STATUS IN THE PAST 12 MONTHS Estimate Percent below poverty level Population for whom poverty status is determined ALL INDIVIDUALS WITH INCOME BELOW THE FOLLOWING POVERTY RATIOS 150 percent of poverty level\n",
      "POVERTY STATUS IN THE PAST 12 MONTHS Estimate Percent below poverty level Population for whom poverty status is determined ALL INDIVIDUALS WITH INCOME BELOW THE FOLLOWING POVERTY RATIOS 185 percent of poverty level\n",
      "POVERTY STATUS IN THE PAST 12 MONTHS Estimate Percent below poverty level Population for whom poverty status is determined ALL INDIVIDUALS WITH INCOME BELOW THE FOLLOWING POVERTY RATIOS 200 percent of poverty level\n",
      "POVERTY STATUS IN THE PAST 12 MONTHS Estimate Percent below poverty level Population for whom poverty status is determined ALL INDIVIDUALS WITH INCOME BELOW THE FOLLOWING POVERTY RATIOS 300 percent of poverty level\n",
      "POVERTY STATUS IN THE PAST 12 MONTHS Estimate Percent below poverty level Population for whom poverty status is determined ALL INDIVIDUALS WITH INCOME BELOW THE FOLLOWING POVERTY RATIOS 400 percent of poverty level\n",
      "POVERTY STATUS IN THE PAST 12 MONTHS Estimate Percent below poverty level Population for whom poverty status is determined ALL INDIVIDUALS WITH INCOME BELOW THE FOLLOWING POVERTY RATIOS 50 percent of poverty level\n",
      "POVERTY STATUS IN THE PAST 12 MONTHS Estimate Percent below poverty level Population for whom poverty status is determined ALL INDIVIDUALS WITH INCOME BELOW THE FOLLOWING POVERTY RATIOS 500 percent of poverty level\n",
      "POVERTY STATUS IN THE PAST 12 MONTHS Estimate Percent below poverty level Population for whom poverty status is determined EDUCATIONAL ATTAINMENT Population 25 years and over\n",
      "POVERTY STATUS IN THE PAST 12 MONTHS Estimate Percent below poverty level Population for whom poverty status is determined EDUCATIONAL ATTAINMENT Population 25 years and over Bachelor's degree or higher\n",
      "POVERTY STATUS IN THE PAST 12 MONTHS Estimate Percent below poverty level Population for whom poverty status is determined EDUCATIONAL ATTAINMENT Population 25 years and over High school graduate (includes equivalency)\n",
      "POVERTY STATUS IN THE PAST 12 MONTHS Estimate Percent below poverty level Population for whom poverty status is determined EDUCATIONAL ATTAINMENT Population 25 years and over Less than high school graduate\n",
      "POVERTY STATUS IN THE PAST 12 MONTHS Estimate Percent below poverty level Population for whom poverty status is determined EDUCATIONAL ATTAINMENT Population 25 years and over Some college, associate's degree\n",
      "POVERTY STATUS IN THE PAST 12 MONTHS Estimate Percent below poverty level Population for whom poverty status is determined EMPLOYMENT STATUS Civilian labor force 16 years and over\n",
      "POVERTY STATUS IN THE PAST 12 MONTHS Estimate Percent below poverty level Population for whom poverty status is determined EMPLOYMENT STATUS Civilian labor force 16 years and over Employed\n",
      "POVERTY STATUS IN THE PAST 12 MONTHS Estimate Percent below poverty level Population for whom poverty status is determined EMPLOYMENT STATUS Civilian labor force 16 years and over Employed Female\n",
      "POVERTY STATUS IN THE PAST 12 MONTHS Estimate Percent below poverty level Population for whom poverty status is determined EMPLOYMENT STATUS Civilian labor force 16 years and over Employed Male\n",
      "POVERTY STATUS IN THE PAST 12 MONTHS Estimate Percent below poverty level Population for whom poverty status is determined EMPLOYMENT STATUS Civilian labor force 16 years and over Unemployed\n",
      "POVERTY STATUS IN THE PAST 12 MONTHS Estimate Percent below poverty level Population for whom poverty status is determined EMPLOYMENT STATUS Civilian labor force 16 years and over Unemployed Female\n",
      "POVERTY STATUS IN THE PAST 12 MONTHS Estimate Percent below poverty level Population for whom poverty status is determined EMPLOYMENT STATUS Civilian labor force 16 years and over Unemployed Male\n",
      "POVERTY STATUS IN THE PAST 12 MONTHS Estimate Percent below poverty level Population for whom poverty status is determined RACE AND HISPANIC OR LATINO ORIGIN American Indian and Alaska Native alone\n",
      "POVERTY STATUS IN THE PAST 12 MONTHS Estimate Percent below poverty level Population for whom poverty status is determined RACE AND HISPANIC OR LATINO ORIGIN Asian alone\n",
      "POVERTY STATUS IN THE PAST 12 MONTHS Estimate Percent below poverty level Population for whom poverty status is determined RACE AND HISPANIC OR LATINO ORIGIN Black or African American alone\n",
      "POVERTY STATUS IN THE PAST 12 MONTHS Estimate Percent below poverty level Population for whom poverty status is determined RACE AND HISPANIC OR LATINO ORIGIN Hispanic or Latino origin (of any race)\n",
      "POVERTY STATUS IN THE PAST 12 MONTHS Estimate Percent below poverty level Population for whom poverty status is determined RACE AND HISPANIC OR LATINO ORIGIN Native Hawaiian and Other Pacific Islander alone\n",
      "POVERTY STATUS IN THE PAST 12 MONTHS Estimate Percent below poverty level Population for whom poverty status is determined RACE AND HISPANIC OR LATINO ORIGIN Some other race alone\n",
      "POVERTY STATUS IN THE PAST 12 MONTHS Estimate Percent below poverty level Population for whom poverty status is determined RACE AND HISPANIC OR LATINO ORIGIN Two or more races\n",
      "POVERTY STATUS IN THE PAST 12 MONTHS Estimate Percent below poverty level Population for whom poverty status is determined RACE AND HISPANIC OR LATINO ORIGIN White alone\n",
      "POVERTY STATUS IN THE PAST 12 MONTHS Estimate Percent below poverty level Population for whom poverty status is determined RACE AND HISPANIC OR LATINO ORIGIN White alone, not Hispanic or Latino\n",
      "POVERTY STATUS IN THE PAST 12 MONTHS Estimate Percent below poverty level Population for whom poverty status is determined SEX Female\n",
      "POVERTY STATUS IN THE PAST 12 MONTHS Estimate Percent below poverty level Population for whom poverty status is determined SEX Male\n",
      "POVERTY STATUS IN THE PAST 12 MONTHS Estimate Percent below poverty level Population for whom poverty status is determined WORK EXPERIENCE Population 16 years and over\n",
      "POVERTY STATUS IN THE PAST 12 MONTHS Estimate Percent below poverty level Population for whom poverty status is determined WORK EXPERIENCE Population 16 years and over Did not work\n",
      "POVERTY STATUS IN THE PAST 12 MONTHS Estimate Percent below poverty level Population for whom poverty status is determined WORK EXPERIENCE Population 16 years and over Worked full-time, year-round in the past 12 months\n",
      "POVERTY STATUS IN THE PAST 12 MONTHS Estimate Percent below poverty level Population for whom poverty status is determined WORK EXPERIENCE Population 16 years and over Worked part-time or part-year in the past 12 months\n",
      "POVERTY STATUS IN THE PAST 12 MONTHS Estimate Percent below poverty level UNRELATED INDIVIDUALS FOR WHOM POVERTY STATUS IS DETERMINED\n",
      "POVERTY STATUS IN THE PAST 12 MONTHS Estimate Total Population for whom poverty status is determined\n",
      "POVERTY STATUS IN THE PAST 12 MONTHS Estimate Total Population for whom poverty status is determined AGE 18 to 64 years\n",
      "POVERTY STATUS IN THE PAST 12 MONTHS Estimate Total Population for whom poverty status is determined AGE 18 to 64 years 18 to 34 years\n",
      "POVERTY STATUS IN THE PAST 12 MONTHS Estimate Total Population for whom poverty status is determined AGE 18 to 64 years 35 to 64 years\n",
      "POVERTY STATUS IN THE PAST 12 MONTHS Estimate Total Population for whom poverty status is determined AGE 60 years and over\n",
      "POVERTY STATUS IN THE PAST 12 MONTHS Estimate Total Population for whom poverty status is determined AGE 65 years and over\n",
      "POVERTY STATUS IN THE PAST 12 MONTHS Estimate Total Population for whom poverty status is determined AGE Under 18 years\n",
      "POVERTY STATUS IN THE PAST 12 MONTHS Estimate Total Population for whom poverty status is determined AGE Under 18 years 5 to 17 years\n",
      "POVERTY STATUS IN THE PAST 12 MONTHS Estimate Total Population for whom poverty status is determined AGE Under 18 years Related children of householder under 18 years\n",
      "POVERTY STATUS IN THE PAST 12 MONTHS Estimate Total Population for whom poverty status is determined AGE Under 18 years Under 5 years\n",
      "POVERTY STATUS IN THE PAST 12 MONTHS Estimate Total Population for whom poverty status is determined ALL INDIVIDUALS WITH INCOME BELOW THE FOLLOWING POVERTY RATIOS 125 percent of poverty level\n",
      "POVERTY STATUS IN THE PAST 12 MONTHS Estimate Total Population for whom poverty status is determined ALL INDIVIDUALS WITH INCOME BELOW THE FOLLOWING POVERTY RATIOS 150 percent of poverty level\n",
      "POVERTY STATUS IN THE PAST 12 MONTHS Estimate Total Population for whom poverty status is determined ALL INDIVIDUALS WITH INCOME BELOW THE FOLLOWING POVERTY RATIOS 185 percent of poverty level\n",
      "POVERTY STATUS IN THE PAST 12 MONTHS Estimate Total Population for whom poverty status is determined ALL INDIVIDUALS WITH INCOME BELOW THE FOLLOWING POVERTY RATIOS 200 percent of poverty level\n",
      "POVERTY STATUS IN THE PAST 12 MONTHS Estimate Total Population for whom poverty status is determined ALL INDIVIDUALS WITH INCOME BELOW THE FOLLOWING POVERTY RATIOS 300 percent of poverty level\n",
      "POVERTY STATUS IN THE PAST 12 MONTHS Estimate Total Population for whom poverty status is determined ALL INDIVIDUALS WITH INCOME BELOW THE FOLLOWING POVERTY RATIOS 400 percent of poverty level\n",
      "POVERTY STATUS IN THE PAST 12 MONTHS Estimate Total Population for whom poverty status is determined ALL INDIVIDUALS WITH INCOME BELOW THE FOLLOWING POVERTY RATIOS 50 percent of poverty level\n",
      "POVERTY STATUS IN THE PAST 12 MONTHS Estimate Total Population for whom poverty status is determined ALL INDIVIDUALS WITH INCOME BELOW THE FOLLOWING POVERTY RATIOS 500 percent of poverty level\n",
      "POVERTY STATUS IN THE PAST 12 MONTHS Estimate Total Population for whom poverty status is determined EDUCATIONAL ATTAINMENT Population 25 years and over\n",
      "POVERTY STATUS IN THE PAST 12 MONTHS Estimate Total Population for whom poverty status is determined EDUCATIONAL ATTAINMENT Population 25 years and over Bachelor's degree or higher\n",
      "POVERTY STATUS IN THE PAST 12 MONTHS Estimate Total Population for whom poverty status is determined EDUCATIONAL ATTAINMENT Population 25 years and over High school graduate (includes equivalency)\n",
      "POVERTY STATUS IN THE PAST 12 MONTHS Estimate Total Population for whom poverty status is determined EDUCATIONAL ATTAINMENT Population 25 years and over Less than high school graduate\n",
      "POVERTY STATUS IN THE PAST 12 MONTHS Estimate Total Population for whom poverty status is determined EDUCATIONAL ATTAINMENT Population 25 years and over Some college, associate's degree\n",
      "POVERTY STATUS IN THE PAST 12 MONTHS Estimate Total Population for whom poverty status is determined EMPLOYMENT STATUS Civilian labor force 16 years and over\n",
      "POVERTY STATUS IN THE PAST 12 MONTHS Estimate Total Population for whom poverty status is determined EMPLOYMENT STATUS Civilian labor force 16 years and over Employed\n",
      "POVERTY STATUS IN THE PAST 12 MONTHS Estimate Total Population for whom poverty status is determined EMPLOYMENT STATUS Civilian labor force 16 years and over Employed Female\n",
      "POVERTY STATUS IN THE PAST 12 MONTHS Estimate Total Population for whom poverty status is determined EMPLOYMENT STATUS Civilian labor force 16 years and over Employed Male\n",
      "POVERTY STATUS IN THE PAST 12 MONTHS Estimate Total Population for whom poverty status is determined EMPLOYMENT STATUS Civilian labor force 16 years and over Unemployed\n",
      "POVERTY STATUS IN THE PAST 12 MONTHS Estimate Total Population for whom poverty status is determined EMPLOYMENT STATUS Civilian labor force 16 years and over Unemployed Female\n",
      "POVERTY STATUS IN THE PAST 12 MONTHS Estimate Total Population for whom poverty status is determined EMPLOYMENT STATUS Civilian labor force 16 years and over Unemployed Male\n",
      "POVERTY STATUS IN THE PAST 12 MONTHS Estimate Total Population for whom poverty status is determined RACE AND HISPANIC OR LATINO ORIGIN American Indian and Alaska Native alone\n",
      "POVERTY STATUS IN THE PAST 12 MONTHS Estimate Total Population for whom poverty status is determined RACE AND HISPANIC OR LATINO ORIGIN Asian alone\n",
      "POVERTY STATUS IN THE PAST 12 MONTHS Estimate Total Population for whom poverty status is determined RACE AND HISPANIC OR LATINO ORIGIN Black or African American alone\n",
      "POVERTY STATUS IN THE PAST 12 MONTHS Estimate Total Population for whom poverty status is determined RACE AND HISPANIC OR LATINO ORIGIN Hispanic or Latino origin (of any race)\n",
      "POVERTY STATUS IN THE PAST 12 MONTHS Estimate Total Population for whom poverty status is determined RACE AND HISPANIC OR LATINO ORIGIN Native Hawaiian and Other Pacific Islander alone\n",
      "POVERTY STATUS IN THE PAST 12 MONTHS Estimate Total Population for whom poverty status is determined RACE AND HISPANIC OR LATINO ORIGIN Some other race alone\n",
      "POVERTY STATUS IN THE PAST 12 MONTHS Estimate Total Population for whom poverty status is determined RACE AND HISPANIC OR LATINO ORIGIN Two or more races\n",
      "POVERTY STATUS IN THE PAST 12 MONTHS Estimate Total Population for whom poverty status is determined RACE AND HISPANIC OR LATINO ORIGIN White alone\n",
      "POVERTY STATUS IN THE PAST 12 MONTHS Estimate Total Population for whom poverty status is determined RACE AND HISPANIC OR LATINO ORIGIN White alone, not Hispanic or Latino\n",
      "POVERTY STATUS IN THE PAST 12 MONTHS Estimate Total Population for whom poverty status is determined SEX Female\n",
      "POVERTY STATUS IN THE PAST 12 MONTHS Estimate Total Population for whom poverty status is determined SEX Male\n",
      "POVERTY STATUS IN THE PAST 12 MONTHS Estimate Total Population for whom poverty status is determined WORK EXPERIENCE Population 16 years and over\n",
      "POVERTY STATUS IN THE PAST 12 MONTHS Estimate Total Population for whom poverty status is determined WORK EXPERIENCE Population 16 years and over Did not work\n",
      "POVERTY STATUS IN THE PAST 12 MONTHS Estimate Total Population for whom poverty status is determined WORK EXPERIENCE Population 16 years and over Worked full-time, year-round in the past 12 months\n",
      "POVERTY STATUS IN THE PAST 12 MONTHS Estimate Total Population for whom poverty status is determined WORK EXPERIENCE Population 16 years and over Worked part-time or part-year in the past 12 months\n",
      "POVERTY STATUS IN THE PAST 12 MONTHS Estimate Total UNRELATED INDIVIDUALS FOR WHOM POVERTY STATUS IS DETERMINED\n",
      "city\n",
      "state\n",
      "location_key\n",
      "POVERTY STATUS IN THE PAST 12 MONTHS Estimate Below poverty level UNRELATED INDIVIDUALS FOR WHOM POVERTY STATUS IS DETERMINED 15 years\n",
      "POVERTY STATUS IN THE PAST 12 MONTHS Estimate Below poverty level UNRELATED INDIVIDUALS FOR WHOM POVERTY STATUS IS DETERMINED 16 to 17 years\n",
      "POVERTY STATUS IN THE PAST 12 MONTHS Estimate Below poverty level UNRELATED INDIVIDUALS FOR WHOM POVERTY STATUS IS DETERMINED 18 to 24 years\n",
      "POVERTY STATUS IN THE PAST 12 MONTHS Estimate Below poverty level UNRELATED INDIVIDUALS FOR WHOM POVERTY STATUS IS DETERMINED 25 to 34 years\n",
      "POVERTY STATUS IN THE PAST 12 MONTHS Estimate Below poverty level UNRELATED INDIVIDUALS FOR WHOM POVERTY STATUS IS DETERMINED 35 to 44 years\n",
      "POVERTY STATUS IN THE PAST 12 MONTHS Estimate Below poverty level UNRELATED INDIVIDUALS FOR WHOM POVERTY STATUS IS DETERMINED 45 to 54 years\n",
      "POVERTY STATUS IN THE PAST 12 MONTHS Estimate Below poverty level UNRELATED INDIVIDUALS FOR WHOM POVERTY STATUS IS DETERMINED 55 to 64 years\n",
      "POVERTY STATUS IN THE PAST 12 MONTHS Estimate Below poverty level UNRELATED INDIVIDUALS FOR WHOM POVERTY STATUS IS DETERMINED 65 to 74 years\n",
      "POVERTY STATUS IN THE PAST 12 MONTHS Estimate Below poverty level UNRELATED INDIVIDUALS FOR WHOM POVERTY STATUS IS DETERMINED 75 years and over\n",
      "POVERTY STATUS IN THE PAST 12 MONTHS Estimate Below poverty level UNRELATED INDIVIDUALS FOR WHOM POVERTY STATUS IS DETERMINED Did not work\n",
      "POVERTY STATUS IN THE PAST 12 MONTHS Estimate Below poverty level UNRELATED INDIVIDUALS FOR WHOM POVERTY STATUS IS DETERMINED Female\n",
      "POVERTY STATUS IN THE PAST 12 MONTHS Estimate Below poverty level UNRELATED INDIVIDUALS FOR WHOM POVERTY STATUS IS DETERMINED Male\n",
      "POVERTY STATUS IN THE PAST 12 MONTHS Estimate Below poverty level UNRELATED INDIVIDUALS FOR WHOM POVERTY STATUS IS DETERMINED Mean income deficit for unrelated individuals (dollars)\n",
      "POVERTY STATUS IN THE PAST 12 MONTHS Estimate Below poverty level UNRELATED INDIVIDUALS FOR WHOM POVERTY STATUS IS DETERMINED Worked full-time, year-round in the past 12 months\n",
      "POVERTY STATUS IN THE PAST 12 MONTHS Estimate Below poverty level UNRELATED INDIVIDUALS FOR WHOM POVERTY STATUS IS DETERMINED Worked less than full-time, year-round in the past 12 months\n",
      "POVERTY STATUS IN THE PAST 12 MONTHS Estimate Percent below poverty level UNRELATED INDIVIDUALS FOR WHOM POVERTY STATUS IS DETERMINED 15 years\n",
      "POVERTY STATUS IN THE PAST 12 MONTHS Estimate Percent below poverty level UNRELATED INDIVIDUALS FOR WHOM POVERTY STATUS IS DETERMINED 16 to 17 years\n",
      "POVERTY STATUS IN THE PAST 12 MONTHS Estimate Percent below poverty level UNRELATED INDIVIDUALS FOR WHOM POVERTY STATUS IS DETERMINED 18 to 24 years\n",
      "POVERTY STATUS IN THE PAST 12 MONTHS Estimate Percent below poverty level UNRELATED INDIVIDUALS FOR WHOM POVERTY STATUS IS DETERMINED 25 to 34 years\n",
      "POVERTY STATUS IN THE PAST 12 MONTHS Estimate Percent below poverty level UNRELATED INDIVIDUALS FOR WHOM POVERTY STATUS IS DETERMINED 35 to 44 years\n",
      "POVERTY STATUS IN THE PAST 12 MONTHS Estimate Percent below poverty level UNRELATED INDIVIDUALS FOR WHOM POVERTY STATUS IS DETERMINED 45 to 54 years\n",
      "POVERTY STATUS IN THE PAST 12 MONTHS Estimate Percent below poverty level UNRELATED INDIVIDUALS FOR WHOM POVERTY STATUS IS DETERMINED 55 to 64 years\n",
      "POVERTY STATUS IN THE PAST 12 MONTHS Estimate Percent below poverty level UNRELATED INDIVIDUALS FOR WHOM POVERTY STATUS IS DETERMINED 65 to 74 years\n",
      "POVERTY STATUS IN THE PAST 12 MONTHS Estimate Percent below poverty level UNRELATED INDIVIDUALS FOR WHOM POVERTY STATUS IS DETERMINED 75 years and over\n",
      "POVERTY STATUS IN THE PAST 12 MONTHS Estimate Percent below poverty level UNRELATED INDIVIDUALS FOR WHOM POVERTY STATUS IS DETERMINED Did not work\n",
      "POVERTY STATUS IN THE PAST 12 MONTHS Estimate Percent below poverty level UNRELATED INDIVIDUALS FOR WHOM POVERTY STATUS IS DETERMINED Female\n",
      "POVERTY STATUS IN THE PAST 12 MONTHS Estimate Percent below poverty level UNRELATED INDIVIDUALS FOR WHOM POVERTY STATUS IS DETERMINED Male\n",
      "POVERTY STATUS IN THE PAST 12 MONTHS Estimate Percent below poverty level UNRELATED INDIVIDUALS FOR WHOM POVERTY STATUS IS DETERMINED Mean income deficit for unrelated individuals (dollars)\n",
      "POVERTY STATUS IN THE PAST 12 MONTHS Estimate Percent below poverty level UNRELATED INDIVIDUALS FOR WHOM POVERTY STATUS IS DETERMINED Worked full-time, year-round in the past 12 months\n",
      "POVERTY STATUS IN THE PAST 12 MONTHS Estimate Percent below poverty level UNRELATED INDIVIDUALS FOR WHOM POVERTY STATUS IS DETERMINED Worked less than full-time, year-round in the past 12 months\n",
      "POVERTY STATUS IN THE PAST 12 MONTHS Estimate Total UNRELATED INDIVIDUALS FOR WHOM POVERTY STATUS IS DETERMINED 15 years\n",
      "POVERTY STATUS IN THE PAST 12 MONTHS Estimate Total UNRELATED INDIVIDUALS FOR WHOM POVERTY STATUS IS DETERMINED 16 to 17 years\n",
      "POVERTY STATUS IN THE PAST 12 MONTHS Estimate Total UNRELATED INDIVIDUALS FOR WHOM POVERTY STATUS IS DETERMINED 18 to 24 years\n",
      "POVERTY STATUS IN THE PAST 12 MONTHS Estimate Total UNRELATED INDIVIDUALS FOR WHOM POVERTY STATUS IS DETERMINED 25 to 34 years\n",
      "POVERTY STATUS IN THE PAST 12 MONTHS Estimate Total UNRELATED INDIVIDUALS FOR WHOM POVERTY STATUS IS DETERMINED 35 to 44 years\n",
      "POVERTY STATUS IN THE PAST 12 MONTHS Estimate Total UNRELATED INDIVIDUALS FOR WHOM POVERTY STATUS IS DETERMINED 45 to 54 years\n",
      "POVERTY STATUS IN THE PAST 12 MONTHS Estimate Total UNRELATED INDIVIDUALS FOR WHOM POVERTY STATUS IS DETERMINED 55 to 64 years\n",
      "POVERTY STATUS IN THE PAST 12 MONTHS Estimate Total UNRELATED INDIVIDUALS FOR WHOM POVERTY STATUS IS DETERMINED 65 to 74 years\n",
      "POVERTY STATUS IN THE PAST 12 MONTHS Estimate Total UNRELATED INDIVIDUALS FOR WHOM POVERTY STATUS IS DETERMINED 75 years and over\n",
      "POVERTY STATUS IN THE PAST 12 MONTHS Estimate Total UNRELATED INDIVIDUALS FOR WHOM POVERTY STATUS IS DETERMINED Did not work\n",
      "POVERTY STATUS IN THE PAST 12 MONTHS Estimate Total UNRELATED INDIVIDUALS FOR WHOM POVERTY STATUS IS DETERMINED Female\n",
      "POVERTY STATUS IN THE PAST 12 MONTHS Estimate Total UNRELATED INDIVIDUALS FOR WHOM POVERTY STATUS IS DETERMINED Male\n",
      "POVERTY STATUS IN THE PAST 12 MONTHS Estimate Total UNRELATED INDIVIDUALS FOR WHOM POVERTY STATUS IS DETERMINED Mean income deficit for unrelated individuals (dollars)\n",
      "POVERTY STATUS IN THE PAST 12 MONTHS Estimate Total UNRELATED INDIVIDUALS FOR WHOM POVERTY STATUS IS DETERMINED Worked full-time, year-round in the past 12 months\n",
      "POVERTY STATUS IN THE PAST 12 MONTHS Estimate Total UNRELATED INDIVIDUALS FOR WHOM POVERTY STATUS IS DETERMINED Worked less than full-time, year-round in the past 12 months\n"
     ]
    }
   ],
   "source": [
    "for col in list(resp.columns):\n",
    "    print(col)"
   ]
  },
  {
   "cell_type": "markdown",
   "id": "8f00a753",
   "metadata": {},
   "source": [
    "Let's get the poverty rate percent column and rename it:"
   ]
  },
  {
   "cell_type": "code",
   "execution_count": 19,
   "id": "bf56b40d",
   "metadata": {},
   "outputs": [],
   "source": [
    "col_sub = [\"POVERTY STATUS IN THE PAST 12 MONTHS Estimate Percent below poverty level Population for whom poverty status is determined\",\n",
    "          \"state\", \"city\"]"
   ]
  },
  {
   "cell_type": "code",
   "execution_count": 20,
   "id": "a3f92481",
   "metadata": {},
   "outputs": [],
   "source": [
    "resp = resp[col_sub]"
   ]
  },
  {
   "cell_type": "code",
   "execution_count": 21,
   "id": "bbcc57f4",
   "metadata": {},
   "outputs": [],
   "source": [
    "resp = resp.rename(columns = {\n",
    "    \"POVERTY STATUS IN THE PAST 12 MONTHS Estimate Percent below poverty level Population for whom poverty status is determined\": \"perc_poverty\"\n",
    "})"
   ]
  },
  {
   "cell_type": "code",
   "execution_count": 22,
   "id": "d029881a",
   "metadata": {},
   "outputs": [
    {
     "name": "stdout",
     "output_type": "stream",
     "text": [
      "concept_label perc_poverty state          city\n",
      "year                                          \n",
      "2012                  27.9    ca     coachella\n",
      "2012                   5.3    ca  indian wells\n",
      "2013                  30.9    ca     coachella\n",
      "2013                   5.2    ca  indian wells\n",
      "2014                  31.5    ca     coachella\n",
      "2014                   5.6    ca  indian wells\n",
      "2015                  31.6    ca     coachella\n",
      "2015                   4.6    ca  indian wells\n",
      "2016                  30.1    ca     coachella\n",
      "2016                   4.9    ca  indian wells\n",
      "2017                  28.0    ca     coachella\n",
      "2017                   4.4    ca  indian wells\n",
      "2018                  23.4    ca     coachella\n",
      "2018                   6.8    ca  indian wells\n",
      "2019                  21.8    ca     coachella\n",
      "2019                   6.7    ca  indian wells\n"
     ]
    }
   ],
   "source": [
    "pd.options.display.max_rows = 20\n",
    "print(resp)"
   ]
  }
 ],
 "metadata": {
  "kernelspec": {
   "display_name": "lowe",
   "language": "python",
   "name": "lowe"
  },
  "language_info": {
   "codemirror_mode": {
    "name": "ipython",
    "version": 3
   },
   "file_extension": ".py",
   "mimetype": "text/x-python",
   "name": "python",
   "nbconvert_exporter": "python",
   "pygments_lexer": "ipython3",
   "version": "3.8.10"
  }
 },
 "nbformat": 4,
 "nbformat_minor": 5
}
