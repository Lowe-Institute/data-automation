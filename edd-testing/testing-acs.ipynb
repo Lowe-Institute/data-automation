{
 "cells": [
  {
   "cell_type": "code",
   "execution_count": 21,
   "id": "a43f57c9",
   "metadata": {},
   "outputs": [],
   "source": [
    "import pandas as pd\n",
    "import plotly.express as px\n",
    "\n",
    "\n",
    "from lowe.locations.lookup import name2fips, fips2name, search\n",
    "from lowe.acs.ACSClient import ACSClient"
   ]
  },
  {
   "cell_type": "code",
   "execution_count": 3,
   "id": "db40a95f",
   "metadata": {
    "scrolled": true
   },
   "outputs": [],
   "source": [
    "empl_data = pd.read_csv(\"../data/CV_EMPL.csv\", na_values=[\"***\", \".\", \"NA\"])"
   ]
  },
  {
   "cell_type": "code",
   "execution_count": 4,
   "id": "87f144be",
   "metadata": {},
   "outputs": [],
   "source": [
    "empl_data['DATE'] = empl_data['DATE'].str.pad(width=6, side=\"left\", fillchar=\"0\")"
   ]
  },
  {
   "cell_type": "code",
   "execution_count": 34,
   "id": "48fd684b",
   "metadata": {},
   "outputs": [
    {
     "data": {
      "text/html": [
       "<div>\n",
       "<style scoped>\n",
       "    .dataframe tbody tr th:only-of-type {\n",
       "        vertical-align: middle;\n",
       "    }\n",
       "\n",
       "    .dataframe tbody tr th {\n",
       "        vertical-align: top;\n",
       "    }\n",
       "\n",
       "    .dataframe thead th {\n",
       "        text-align: right;\n",
       "    }\n",
       "</style>\n",
       "<table border=\"1\" class=\"dataframe\">\n",
       "  <thead>\n",
       "    <tr style=\"text-align: right;\">\n",
       "      <th></th>\n",
       "      <th>City</th>\n",
       "      <th>Agriculture, Forestry, Fishing and Hunting</th>\n",
       "      <th>Utilities</th>\n",
       "      <th>Construction</th>\n",
       "      <th>Manufacturing</th>\n",
       "      <th>Wholesale Trade</th>\n",
       "      <th>Retail Trade</th>\n",
       "      <th>Transportation and Warehousing</th>\n",
       "      <th>Information</th>\n",
       "      <th>Finance and Insurance</th>\n",
       "      <th>...</th>\n",
       "      <th>Health Care and Social Assistance</th>\n",
       "      <th>Arts, Entertainment, and Recreation</th>\n",
       "      <th>Accommodation and Food Services</th>\n",
       "      <th>Other Services (except Public Administration)</th>\n",
       "      <th>Federal Government</th>\n",
       "      <th>Local Government</th>\n",
       "      <th>State Government</th>\n",
       "      <th>Not Elsewhere Classified</th>\n",
       "      <th>Mining, Quarrying, and Oil and Gas Extraction</th>\n",
       "      <th>Total Employment</th>\n",
       "    </tr>\n",
       "    <tr>\n",
       "      <th>DATE</th>\n",
       "      <th></th>\n",
       "      <th></th>\n",
       "      <th></th>\n",
       "      <th></th>\n",
       "      <th></th>\n",
       "      <th></th>\n",
       "      <th></th>\n",
       "      <th></th>\n",
       "      <th></th>\n",
       "      <th></th>\n",
       "      <th></th>\n",
       "      <th></th>\n",
       "      <th></th>\n",
       "      <th></th>\n",
       "      <th></th>\n",
       "      <th></th>\n",
       "      <th></th>\n",
       "      <th></th>\n",
       "      <th></th>\n",
       "      <th></th>\n",
       "      <th></th>\n",
       "    </tr>\n",
       "  </thead>\n",
       "  <tbody>\n",
       "    <tr>\n",
       "      <th>2021-03-01</th>\n",
       "      <td>Cathedral City</td>\n",
       "      <td>56.0</td>\n",
       "      <td>0.0</td>\n",
       "      <td>1440.0</td>\n",
       "      <td>65.0</td>\n",
       "      <td>217.0</td>\n",
       "      <td>1976.0</td>\n",
       "      <td>76.0</td>\n",
       "      <td>44.0</td>\n",
       "      <td>0.0</td>\n",
       "      <td>...</td>\n",
       "      <td>455.0</td>\n",
       "      <td>0.0</td>\n",
       "      <td>1238.0</td>\n",
       "      <td>456.0</td>\n",
       "      <td>0.0</td>\n",
       "      <td>879.0</td>\n",
       "      <td>185.0</td>\n",
       "      <td>0.0</td>\n",
       "      <td>0.0</td>\n",
       "      <td>8345.0</td>\n",
       "    </tr>\n",
       "    <tr>\n",
       "      <th>2021-03-01</th>\n",
       "      <td>Coachella</td>\n",
       "      <td>1948.0</td>\n",
       "      <td>0.0</td>\n",
       "      <td>563.0</td>\n",
       "      <td>836.0</td>\n",
       "      <td>258.0</td>\n",
       "      <td>1123.0</td>\n",
       "      <td>55.0</td>\n",
       "      <td>0.0</td>\n",
       "      <td>88.0</td>\n",
       "      <td>...</td>\n",
       "      <td>232.0</td>\n",
       "      <td>0.0</td>\n",
       "      <td>690.0</td>\n",
       "      <td>79.0</td>\n",
       "      <td>0.0</td>\n",
       "      <td>1598.0</td>\n",
       "      <td>0.0</td>\n",
       "      <td>0.0</td>\n",
       "      <td>0.0</td>\n",
       "      <td>7681.0</td>\n",
       "    </tr>\n",
       "    <tr>\n",
       "      <th>2021-03-01</th>\n",
       "      <td>Desert Hot Springs</td>\n",
       "      <td>204.0</td>\n",
       "      <td>0.0</td>\n",
       "      <td>143.0</td>\n",
       "      <td>0.0</td>\n",
       "      <td>24.0</td>\n",
       "      <td>531.0</td>\n",
       "      <td>68.0</td>\n",
       "      <td>20.0</td>\n",
       "      <td>50.0</td>\n",
       "      <td>...</td>\n",
       "      <td>324.0</td>\n",
       "      <td>0.0</td>\n",
       "      <td>631.0</td>\n",
       "      <td>67.0</td>\n",
       "      <td>0.0</td>\n",
       "      <td>0.0</td>\n",
       "      <td>0.0</td>\n",
       "      <td>0.0</td>\n",
       "      <td>0.0</td>\n",
       "      <td>2191.0</td>\n",
       "    </tr>\n",
       "    <tr>\n",
       "      <th>2021-03-01</th>\n",
       "      <td>Indian Wells</td>\n",
       "      <td>0.0</td>\n",
       "      <td>0.0</td>\n",
       "      <td>15.0</td>\n",
       "      <td>0.0</td>\n",
       "      <td>0.0</td>\n",
       "      <td>44.0</td>\n",
       "      <td>0.0</td>\n",
       "      <td>0.0</td>\n",
       "      <td>118.0</td>\n",
       "      <td>...</td>\n",
       "      <td>94.0</td>\n",
       "      <td>1054.0</td>\n",
       "      <td>608.0</td>\n",
       "      <td>119.0</td>\n",
       "      <td>0.0</td>\n",
       "      <td>0.0</td>\n",
       "      <td>0.0</td>\n",
       "      <td>0.0</td>\n",
       "      <td>0.0</td>\n",
       "      <td>2368.0</td>\n",
       "    </tr>\n",
       "    <tr>\n",
       "      <th>2021-03-01</th>\n",
       "      <td>Indio</td>\n",
       "      <td>462.0</td>\n",
       "      <td>0.0</td>\n",
       "      <td>2144.0</td>\n",
       "      <td>641.0</td>\n",
       "      <td>495.0</td>\n",
       "      <td>3087.0</td>\n",
       "      <td>221.0</td>\n",
       "      <td>294.0</td>\n",
       "      <td>183.0</td>\n",
       "      <td>...</td>\n",
       "      <td>1783.0</td>\n",
       "      <td>416.0</td>\n",
       "      <td>1741.0</td>\n",
       "      <td>550.0</td>\n",
       "      <td>250.0</td>\n",
       "      <td>3036.0</td>\n",
       "      <td>101.0</td>\n",
       "      <td>0.0</td>\n",
       "      <td>0.0</td>\n",
       "      <td>18907.0</td>\n",
       "    </tr>\n",
       "    <tr>\n",
       "      <th>2021-03-01</th>\n",
       "      <td>La Quinta</td>\n",
       "      <td>14.0</td>\n",
       "      <td>0.0</td>\n",
       "      <td>358.0</td>\n",
       "      <td>46.0</td>\n",
       "      <td>50.0</td>\n",
       "      <td>2253.0</td>\n",
       "      <td>0.0</td>\n",
       "      <td>56.0</td>\n",
       "      <td>167.0</td>\n",
       "      <td>...</td>\n",
       "      <td>863.0</td>\n",
       "      <td>977.0</td>\n",
       "      <td>2730.0</td>\n",
       "      <td>264.0</td>\n",
       "      <td>0.0</td>\n",
       "      <td>0.0</td>\n",
       "      <td>0.0</td>\n",
       "      <td>0.0</td>\n",
       "      <td>0.0</td>\n",
       "      <td>8587.0</td>\n",
       "    </tr>\n",
       "    <tr>\n",
       "      <th>2021-03-01</th>\n",
       "      <td>Palm Desert</td>\n",
       "      <td>0.0</td>\n",
       "      <td>0.0</td>\n",
       "      <td>1914.0</td>\n",
       "      <td>275.0</td>\n",
       "      <td>433.0</td>\n",
       "      <td>5123.0</td>\n",
       "      <td>152.0</td>\n",
       "      <td>150.0</td>\n",
       "      <td>613.0</td>\n",
       "      <td>...</td>\n",
       "      <td>3002.0</td>\n",
       "      <td>1920.0</td>\n",
       "      <td>4699.0</td>\n",
       "      <td>1262.0</td>\n",
       "      <td>0.0</td>\n",
       "      <td>1580.0</td>\n",
       "      <td>40.0</td>\n",
       "      <td>0.0</td>\n",
       "      <td>0.0</td>\n",
       "      <td>25169.0</td>\n",
       "    </tr>\n",
       "    <tr>\n",
       "      <th>2021-03-01</th>\n",
       "      <td>Palm Springs</td>\n",
       "      <td>0.0</td>\n",
       "      <td>38.0</td>\n",
       "      <td>874.0</td>\n",
       "      <td>635.0</td>\n",
       "      <td>253.0</td>\n",
       "      <td>2996.0</td>\n",
       "      <td>1169.0</td>\n",
       "      <td>173.0</td>\n",
       "      <td>330.0</td>\n",
       "      <td>...</td>\n",
       "      <td>5998.0</td>\n",
       "      <td>457.0</td>\n",
       "      <td>5115.0</td>\n",
       "      <td>704.0</td>\n",
       "      <td>187.0</td>\n",
       "      <td>2729.0</td>\n",
       "      <td>0.0</td>\n",
       "      <td>0.0</td>\n",
       "      <td>0.0</td>\n",
       "      <td>23936.0</td>\n",
       "    </tr>\n",
       "    <tr>\n",
       "      <th>2021-03-01</th>\n",
       "      <td>Rancho Mirage</td>\n",
       "      <td>0.0</td>\n",
       "      <td>0.0</td>\n",
       "      <td>110.0</td>\n",
       "      <td>49.0</td>\n",
       "      <td>42.0</td>\n",
       "      <td>1001.0</td>\n",
       "      <td>0.0</td>\n",
       "      <td>18.0</td>\n",
       "      <td>121.0</td>\n",
       "      <td>...</td>\n",
       "      <td>6262.0</td>\n",
       "      <td>643.0</td>\n",
       "      <td>1654.0</td>\n",
       "      <td>438.0</td>\n",
       "      <td>0.0</td>\n",
       "      <td>0.0</td>\n",
       "      <td>0.0</td>\n",
       "      <td>0.0</td>\n",
       "      <td>0.0</td>\n",
       "      <td>11202.0</td>\n",
       "    </tr>\n",
       "  </tbody>\n",
       "</table>\n",
       "<p>9 rows × 25 columns</p>\n",
       "</div>"
      ],
      "text/plain": [
       "                          City  Agriculture, Forestry, Fishing and Hunting  \\\n",
       "DATE                                                                         \n",
       "2021-03-01      Cathedral City                                        56.0   \n",
       "2021-03-01           Coachella                                      1948.0   \n",
       "2021-03-01  Desert Hot Springs                                       204.0   \n",
       "2021-03-01        Indian Wells                                         0.0   \n",
       "2021-03-01               Indio                                       462.0   \n",
       "2021-03-01           La Quinta                                        14.0   \n",
       "2021-03-01         Palm Desert                                         0.0   \n",
       "2021-03-01        Palm Springs                                         0.0   \n",
       "2021-03-01       Rancho Mirage                                         0.0   \n",
       "\n",
       "            Utilities  Construction  Manufacturing  Wholesale Trade  \\\n",
       "DATE                                                                  \n",
       "2021-03-01        0.0        1440.0           65.0            217.0   \n",
       "2021-03-01        0.0         563.0          836.0            258.0   \n",
       "2021-03-01        0.0         143.0            0.0             24.0   \n",
       "2021-03-01        0.0          15.0            0.0              0.0   \n",
       "2021-03-01        0.0        2144.0          641.0            495.0   \n",
       "2021-03-01        0.0         358.0           46.0             50.0   \n",
       "2021-03-01        0.0        1914.0          275.0            433.0   \n",
       "2021-03-01       38.0         874.0          635.0            253.0   \n",
       "2021-03-01        0.0         110.0           49.0             42.0   \n",
       "\n",
       "            Retail Trade  Transportation and Warehousing  Information  \\\n",
       "DATE                                                                    \n",
       "2021-03-01        1976.0                            76.0         44.0   \n",
       "2021-03-01        1123.0                            55.0          0.0   \n",
       "2021-03-01         531.0                            68.0         20.0   \n",
       "2021-03-01          44.0                             0.0          0.0   \n",
       "2021-03-01        3087.0                           221.0        294.0   \n",
       "2021-03-01        2253.0                             0.0         56.0   \n",
       "2021-03-01        5123.0                           152.0        150.0   \n",
       "2021-03-01        2996.0                          1169.0        173.0   \n",
       "2021-03-01        1001.0                             0.0         18.0   \n",
       "\n",
       "            Finance and Insurance  ...  Health Care and Social Assistance  \\\n",
       "DATE                               ...                                      \n",
       "2021-03-01                    0.0  ...                              455.0   \n",
       "2021-03-01                   88.0  ...                              232.0   \n",
       "2021-03-01                   50.0  ...                              324.0   \n",
       "2021-03-01                  118.0  ...                               94.0   \n",
       "2021-03-01                  183.0  ...                             1783.0   \n",
       "2021-03-01                  167.0  ...                              863.0   \n",
       "2021-03-01                  613.0  ...                             3002.0   \n",
       "2021-03-01                  330.0  ...                             5998.0   \n",
       "2021-03-01                  121.0  ...                             6262.0   \n",
       "\n",
       "            Arts, Entertainment, and Recreation  \\\n",
       "DATE                                              \n",
       "2021-03-01                                  0.0   \n",
       "2021-03-01                                  0.0   \n",
       "2021-03-01                                  0.0   \n",
       "2021-03-01                               1054.0   \n",
       "2021-03-01                                416.0   \n",
       "2021-03-01                                977.0   \n",
       "2021-03-01                               1920.0   \n",
       "2021-03-01                                457.0   \n",
       "2021-03-01                                643.0   \n",
       "\n",
       "            Accommodation and Food Services  \\\n",
       "DATE                                          \n",
       "2021-03-01                           1238.0   \n",
       "2021-03-01                            690.0   \n",
       "2021-03-01                            631.0   \n",
       "2021-03-01                            608.0   \n",
       "2021-03-01                           1741.0   \n",
       "2021-03-01                           2730.0   \n",
       "2021-03-01                           4699.0   \n",
       "2021-03-01                           5115.0   \n",
       "2021-03-01                           1654.0   \n",
       "\n",
       "            Other Services (except Public Administration)  Federal Government  \\\n",
       "DATE                                                                            \n",
       "2021-03-01                                          456.0                 0.0   \n",
       "2021-03-01                                           79.0                 0.0   \n",
       "2021-03-01                                           67.0                 0.0   \n",
       "2021-03-01                                          119.0                 0.0   \n",
       "2021-03-01                                          550.0               250.0   \n",
       "2021-03-01                                          264.0                 0.0   \n",
       "2021-03-01                                         1262.0                 0.0   \n",
       "2021-03-01                                          704.0               187.0   \n",
       "2021-03-01                                          438.0                 0.0   \n",
       "\n",
       "            Local Government  State Government  Not Elsewhere Classified  \\\n",
       "DATE                                                                       \n",
       "2021-03-01             879.0             185.0                       0.0   \n",
       "2021-03-01            1598.0               0.0                       0.0   \n",
       "2021-03-01               0.0               0.0                       0.0   \n",
       "2021-03-01               0.0               0.0                       0.0   \n",
       "2021-03-01            3036.0             101.0                       0.0   \n",
       "2021-03-01               0.0               0.0                       0.0   \n",
       "2021-03-01            1580.0              40.0                       0.0   \n",
       "2021-03-01            2729.0               0.0                       0.0   \n",
       "2021-03-01               0.0               0.0                       0.0   \n",
       "\n",
       "            Mining, Quarrying, and Oil and Gas Extraction  Total Employment  \n",
       "DATE                                                                         \n",
       "2021-03-01                                            0.0            8345.0  \n",
       "2021-03-01                                            0.0            7681.0  \n",
       "2021-03-01                                            0.0            2191.0  \n",
       "2021-03-01                                            0.0            2368.0  \n",
       "2021-03-01                                            0.0           18907.0  \n",
       "2021-03-01                                            0.0            8587.0  \n",
       "2021-03-01                                            0.0           25169.0  \n",
       "2021-03-01                                            0.0           23936.0  \n",
       "2021-03-01                                            0.0           11202.0  \n",
       "\n",
       "[9 rows x 25 columns]"
      ]
     },
     "execution_count": 34,
     "metadata": {},
     "output_type": "execute_result"
    }
   ],
   "source": [
    "empl_data.loc[empl_data.index == '2021-03-01']"
   ]
  },
  {
   "cell_type": "code",
   "execution_count": 6,
   "id": "b9d30d92",
   "metadata": {},
   "outputs": [],
   "source": [
    "empl_data['DATE'] = pd.to_datetime(empl_data.DATE, format='%y-%b')"
   ]
  },
  {
   "cell_type": "code",
   "execution_count": 7,
   "id": "d72562ba",
   "metadata": {},
   "outputs": [],
   "source": [
    "empl_data.set_index('DATE', inplace=True)"
   ]
  },
  {
   "cell_type": "code",
   "execution_count": 8,
   "id": "f8679ef7",
   "metadata": {},
   "outputs": [],
   "source": [
    "empl_data = empl_data.fillna(0)"
   ]
  },
  {
   "cell_type": "code",
   "execution_count": 9,
   "id": "a6713769",
   "metadata": {},
   "outputs": [],
   "source": [
    "empl_data['Total Employment'] = empl_data.loc[:, 'Agriculture, Forestry, Fishing and Hunting':].sum(axis=1)"
   ]
  },
  {
   "cell_type": "code",
   "execution_count": 10,
   "id": "d3e1992f",
   "metadata": {},
   "outputs": [
    {
     "name": "stdout",
     "output_type": "stream",
     "text": [
      "                      City  Agriculture, Forestry, Fishing and Hunting  \\\n",
      "DATE                                                                     \n",
      "2005-01-01  Cathedral City                                         0.0   \n",
      "2005-02-01  Cathedral City                                         0.0   \n",
      "2005-03-01  Cathedral City                                         0.0   \n",
      "2005-04-01  Cathedral City                                         0.0   \n",
      "2005-05-01  Cathedral City                                         0.0   \n",
      "\n",
      "            Utilities  Construction  Manufacturing  Wholesale Trade  \\\n",
      "DATE                                                                  \n",
      "2005-01-01        0.0         971.0           79.0            106.0   \n",
      "2005-02-01        0.0         981.0           68.0            108.0   \n",
      "2005-03-01        0.0        1032.0           78.0            111.0   \n",
      "2005-04-01        0.0         988.0           86.0            154.0   \n",
      "2005-05-01        0.0        1028.0           88.0            154.0   \n",
      "\n",
      "            Retail Trade  Transportation and Warehousing  Information  \\\n",
      "DATE                                                                    \n",
      "2005-01-01        1941.0                            39.0        137.0   \n",
      "2005-02-01        1956.0                            39.0        143.0   \n",
      "2005-03-01        1947.0                            41.0        142.0   \n",
      "2005-04-01        1936.0                            41.0        140.0   \n",
      "2005-05-01        1953.0                            39.0        135.0   \n",
      "\n",
      "            Finance and Insurance  ...  Health Care and Social Assistance  \\\n",
      "DATE                               ...                                      \n",
      "2005-01-01                  142.0  ...                              530.0   \n",
      "2005-02-01                  148.0  ...                              517.0   \n",
      "2005-03-01                  142.0  ...                              513.0   \n",
      "2005-04-01                  100.0  ...                              523.0   \n",
      "2005-05-01                   93.0  ...                              529.0   \n",
      "\n",
      "            Arts, Entertainment, and Recreation  \\\n",
      "DATE                                              \n",
      "2005-01-01                                217.0   \n",
      "2005-02-01                                224.0   \n",
      "2005-03-01                                236.0   \n",
      "2005-04-01                                234.0   \n",
      "2005-05-01                                245.0   \n",
      "\n",
      "            Accommodation and Food Services  \\\n",
      "DATE                                          \n",
      "2005-01-01                            967.0   \n",
      "2005-02-01                            990.0   \n",
      "2005-03-01                           1000.0   \n",
      "2005-04-01                           1023.0   \n",
      "2005-05-01                           1022.0   \n",
      "\n",
      "            Other Services (except Public Administration)  Federal Government  \\\n",
      "DATE                                                                            \n",
      "2005-01-01                                          543.0                 0.0   \n",
      "2005-02-01                                          547.0                 0.0   \n",
      "2005-03-01                                          561.0                 0.0   \n",
      "2005-04-01                                          546.0                 0.0   \n",
      "2005-05-01                                          552.0                 0.0   \n",
      "\n",
      "            Local Government  State Government  Not Elsewhere Classified  \\\n",
      "DATE                                                                       \n",
      "2005-01-01             940.0               0.0                       0.0   \n",
      "2005-02-01             941.0               0.0                       0.0   \n",
      "2005-03-01             953.0               0.0                       0.0   \n",
      "2005-04-01             906.0               0.0                       0.0   \n",
      "2005-05-01             910.0               0.0                       0.0   \n",
      "\n",
      "            Mining, Quarrying, and Oil and Gas Extraction  Total Employment  \n",
      "DATE                                                                         \n",
      "2005-01-01                                            0.0            7401.0  \n",
      "2005-02-01                                            0.0            7430.0  \n",
      "2005-03-01                                            0.0            7529.0  \n",
      "2005-04-01                                            0.0            7373.0  \n",
      "2005-05-01                                            0.0            7412.0  \n",
      "\n",
      "[5 rows x 25 columns]\n"
     ]
    }
   ],
   "source": [
    "print(empl_data.head())"
   ]
  },
  {
   "cell_type": "code",
   "execution_count": 11,
   "id": "e9833e5d",
   "metadata": {},
   "outputs": [],
   "source": [
    "def get_city_df(city_name):\n",
    "    city_df = empl_data.loc[empl_data.City == city_name]\n",
    "    return city_df"
   ]
  },
  {
   "cell_type": "code",
   "execution_count": 12,
   "id": "a092bd0e",
   "metadata": {},
   "outputs": [],
   "source": [
    "cities = ['Cathedral City', 'Coachella', 'Desert Hot Springs', 'Indian Wells', 'Indio', 'La Quinta', 'Palm Desert', 'Palm Springs', 'Rancho Mirage']"
   ]
  },
  {
   "cell_type": "code",
   "execution_count": 12,
   "id": "dcdf47b3",
   "metadata": {},
   "outputs": [],
   "source": [
    "cathedral_city_df = get_city_df('Cathedral City')\n",
    "coachella_df = get_city_df('Coachella')\n",
    "desert_hot_springs_df = get_city_df('Desert Hot Springs')\n",
    "indian_wells_df = get_city_df('Indian Wells')\n",
    "indio_df = get_city_df('Indio')\n",
    "la_quinta_df = get_city_df('La Quinta')\n",
    "palm_desert_df = get_city_df('Palm Desert')\n",
    "palm_springs_df = get_city_df('Palm Springs')\n",
    "rancho_mirage_df = get_city_df('Rancho Mirage')"
   ]
  },
  {
   "cell_type": "code",
   "execution_count": 14,
   "id": "f3c16d7d",
   "metadata": {},
   "outputs": [],
   "source": [
    "city_dfs = [cathedral_city_df, coachella_df, desert_hot_springs_df, indian_wells_df, indio_df, la_quinta_df, palm_desert_df, palm_springs_df, rancho_mirage_df]"
   ]
  },
  {
   "cell_type": "code",
   "execution_count": 13,
   "id": "388f9510",
   "metadata": {},
   "outputs": [],
   "source": [
    "cathedral_city_df_yearly = cathedral_city_df.resample(\"1Y\").sum()"
   ]
  },
  {
   "cell_type": "code",
   "execution_count": 14,
   "id": "37e057e3",
   "metadata": {},
   "outputs": [],
   "source": [
    "cathedral_city_df_yearly.index = cathedral_city_df_yearly.index.strftime('%Y')"
   ]
  },
  {
   "cell_type": "code",
   "execution_count": null,
   "id": "7f36dd16",
   "metadata": {
    "scrolled": true
   },
   "outputs": [],
   "source": [
    "current_year = empl_data.iloc[empl_data.index]"
   ]
  },
  {
   "cell_type": "code",
   "execution_count": 17,
   "id": "514a53f0",
   "metadata": {},
   "outputs": [],
   "source": [
    "cathedral_city_df_yearly['Average Monthly Employment'] = cathedral_city_df_yearly['Total Employment'] / 12"
   ]
  },
  {
   "cell_type": "code",
   "execution_count": 18,
   "id": "ada5371b",
   "metadata": {},
   "outputs": [],
   "source": [
    "cathedral_city_df_yearly['Average Monthly Employment'] = cathedral_city_df_yearly['Average Monthly Employment'].round()"
   ]
  },
  {
   "cell_type": "code",
   "execution_count": 41,
   "id": "3b5c1c6e",
   "metadata": {},
   "outputs": [],
   "source": [
    "cathedral_city_df_yearly.loc[cathedral_city_df_yearly.index == '2021', 'Average Monthly Employment'] = cathedral_city_df_yearly.loc[cathedral_city_df_yearly.index == '2021', 'Average Monthly Employment'] * 4"
   ]
  },
  {
   "cell_type": "code",
   "execution_count": 43,
   "id": "dc1a7a3a",
   "metadata": {},
   "outputs": [
    {
     "data": {
      "application/vnd.plotly.v1+json": {
       "config": {
        "plotlyServerURL": "https://plot.ly"
       },
       "data": [
        {
         "alignmentgroup": "True",
         "hovertemplate": "Year=%{x}<br>Average Monthly Employment=%{text}<extra></extra>",
         "legendgroup": "",
         "marker": {
          "color": "#636efa",
          "pattern": {
           "shape": ""
          }
         },
         "name": "",
         "offsetgroup": "",
         "orientation": "v",
         "showlegend": false,
         "text": [
          7552,
          8228,
          9181,
          9821,
          8941,
          8219,
          8336,
          8430,
          8679,
          8725,
          9118,
          9086,
          9530,
          8463,
          8601,
          8313,
          8396
         ],
         "textposition": "outside",
         "texttemplate": "%{text:.2s}",
         "type": "bar",
         "x": [
          "2005",
          "2006",
          "2007",
          "2008",
          "2009",
          "2010",
          "2011",
          "2012",
          "2013",
          "2014",
          "2015",
          "2016",
          "2017",
          "2018",
          "2019",
          "2020",
          "2021"
         ],
         "xaxis": "x",
         "y": [
          7552,
          8228,
          9181,
          9821,
          8941,
          8219,
          8336,
          8430,
          8679,
          8725,
          9118,
          9086,
          9530,
          8463,
          8601,
          8313,
          8396
         ],
         "yaxis": "y"
        }
       ],
       "layout": {
        "barmode": "relative",
        "legend": {
         "tracegroupgap": 0
        },
        "margin": {
         "t": 60
        },
        "template": {
         "data": {
          "bar": [
           {
            "error_x": {
             "color": "#2a3f5f"
            },
            "error_y": {
             "color": "#2a3f5f"
            },
            "marker": {
             "line": {
              "color": "#E5ECF6",
              "width": 0.5
             },
             "pattern": {
              "fillmode": "overlay",
              "size": 10,
              "solidity": 0.2
             }
            },
            "type": "bar"
           }
          ],
          "barpolar": [
           {
            "marker": {
             "line": {
              "color": "#E5ECF6",
              "width": 0.5
             },
             "pattern": {
              "fillmode": "overlay",
              "size": 10,
              "solidity": 0.2
             }
            },
            "type": "barpolar"
           }
          ],
          "carpet": [
           {
            "aaxis": {
             "endlinecolor": "#2a3f5f",
             "gridcolor": "white",
             "linecolor": "white",
             "minorgridcolor": "white",
             "startlinecolor": "#2a3f5f"
            },
            "baxis": {
             "endlinecolor": "#2a3f5f",
             "gridcolor": "white",
             "linecolor": "white",
             "minorgridcolor": "white",
             "startlinecolor": "#2a3f5f"
            },
            "type": "carpet"
           }
          ],
          "choropleth": [
           {
            "colorbar": {
             "outlinewidth": 0,
             "ticks": ""
            },
            "type": "choropleth"
           }
          ],
          "contour": [
           {
            "colorbar": {
             "outlinewidth": 0,
             "ticks": ""
            },
            "colorscale": [
             [
              0,
              "#0d0887"
             ],
             [
              0.1111111111111111,
              "#46039f"
             ],
             [
              0.2222222222222222,
              "#7201a8"
             ],
             [
              0.3333333333333333,
              "#9c179e"
             ],
             [
              0.4444444444444444,
              "#bd3786"
             ],
             [
              0.5555555555555556,
              "#d8576b"
             ],
             [
              0.6666666666666666,
              "#ed7953"
             ],
             [
              0.7777777777777778,
              "#fb9f3a"
             ],
             [
              0.8888888888888888,
              "#fdca26"
             ],
             [
              1,
              "#f0f921"
             ]
            ],
            "type": "contour"
           }
          ],
          "contourcarpet": [
           {
            "colorbar": {
             "outlinewidth": 0,
             "ticks": ""
            },
            "type": "contourcarpet"
           }
          ],
          "heatmap": [
           {
            "colorbar": {
             "outlinewidth": 0,
             "ticks": ""
            },
            "colorscale": [
             [
              0,
              "#0d0887"
             ],
             [
              0.1111111111111111,
              "#46039f"
             ],
             [
              0.2222222222222222,
              "#7201a8"
             ],
             [
              0.3333333333333333,
              "#9c179e"
             ],
             [
              0.4444444444444444,
              "#bd3786"
             ],
             [
              0.5555555555555556,
              "#d8576b"
             ],
             [
              0.6666666666666666,
              "#ed7953"
             ],
             [
              0.7777777777777778,
              "#fb9f3a"
             ],
             [
              0.8888888888888888,
              "#fdca26"
             ],
             [
              1,
              "#f0f921"
             ]
            ],
            "type": "heatmap"
           }
          ],
          "heatmapgl": [
           {
            "colorbar": {
             "outlinewidth": 0,
             "ticks": ""
            },
            "colorscale": [
             [
              0,
              "#0d0887"
             ],
             [
              0.1111111111111111,
              "#46039f"
             ],
             [
              0.2222222222222222,
              "#7201a8"
             ],
             [
              0.3333333333333333,
              "#9c179e"
             ],
             [
              0.4444444444444444,
              "#bd3786"
             ],
             [
              0.5555555555555556,
              "#d8576b"
             ],
             [
              0.6666666666666666,
              "#ed7953"
             ],
             [
              0.7777777777777778,
              "#fb9f3a"
             ],
             [
              0.8888888888888888,
              "#fdca26"
             ],
             [
              1,
              "#f0f921"
             ]
            ],
            "type": "heatmapgl"
           }
          ],
          "histogram": [
           {
            "marker": {
             "pattern": {
              "fillmode": "overlay",
              "size": 10,
              "solidity": 0.2
             }
            },
            "type": "histogram"
           }
          ],
          "histogram2d": [
           {
            "colorbar": {
             "outlinewidth": 0,
             "ticks": ""
            },
            "colorscale": [
             [
              0,
              "#0d0887"
             ],
             [
              0.1111111111111111,
              "#46039f"
             ],
             [
              0.2222222222222222,
              "#7201a8"
             ],
             [
              0.3333333333333333,
              "#9c179e"
             ],
             [
              0.4444444444444444,
              "#bd3786"
             ],
             [
              0.5555555555555556,
              "#d8576b"
             ],
             [
              0.6666666666666666,
              "#ed7953"
             ],
             [
              0.7777777777777778,
              "#fb9f3a"
             ],
             [
              0.8888888888888888,
              "#fdca26"
             ],
             [
              1,
              "#f0f921"
             ]
            ],
            "type": "histogram2d"
           }
          ],
          "histogram2dcontour": [
           {
            "colorbar": {
             "outlinewidth": 0,
             "ticks": ""
            },
            "colorscale": [
             [
              0,
              "#0d0887"
             ],
             [
              0.1111111111111111,
              "#46039f"
             ],
             [
              0.2222222222222222,
              "#7201a8"
             ],
             [
              0.3333333333333333,
              "#9c179e"
             ],
             [
              0.4444444444444444,
              "#bd3786"
             ],
             [
              0.5555555555555556,
              "#d8576b"
             ],
             [
              0.6666666666666666,
              "#ed7953"
             ],
             [
              0.7777777777777778,
              "#fb9f3a"
             ],
             [
              0.8888888888888888,
              "#fdca26"
             ],
             [
              1,
              "#f0f921"
             ]
            ],
            "type": "histogram2dcontour"
           }
          ],
          "mesh3d": [
           {
            "colorbar": {
             "outlinewidth": 0,
             "ticks": ""
            },
            "type": "mesh3d"
           }
          ],
          "parcoords": [
           {
            "line": {
             "colorbar": {
              "outlinewidth": 0,
              "ticks": ""
             }
            },
            "type": "parcoords"
           }
          ],
          "pie": [
           {
            "automargin": true,
            "type": "pie"
           }
          ],
          "scatter": [
           {
            "marker": {
             "colorbar": {
              "outlinewidth": 0,
              "ticks": ""
             }
            },
            "type": "scatter"
           }
          ],
          "scatter3d": [
           {
            "line": {
             "colorbar": {
              "outlinewidth": 0,
              "ticks": ""
             }
            },
            "marker": {
             "colorbar": {
              "outlinewidth": 0,
              "ticks": ""
             }
            },
            "type": "scatter3d"
           }
          ],
          "scattercarpet": [
           {
            "marker": {
             "colorbar": {
              "outlinewidth": 0,
              "ticks": ""
             }
            },
            "type": "scattercarpet"
           }
          ],
          "scattergeo": [
           {
            "marker": {
             "colorbar": {
              "outlinewidth": 0,
              "ticks": ""
             }
            },
            "type": "scattergeo"
           }
          ],
          "scattergl": [
           {
            "marker": {
             "colorbar": {
              "outlinewidth": 0,
              "ticks": ""
             }
            },
            "type": "scattergl"
           }
          ],
          "scattermapbox": [
           {
            "marker": {
             "colorbar": {
              "outlinewidth": 0,
              "ticks": ""
             }
            },
            "type": "scattermapbox"
           }
          ],
          "scatterpolar": [
           {
            "marker": {
             "colorbar": {
              "outlinewidth": 0,
              "ticks": ""
             }
            },
            "type": "scatterpolar"
           }
          ],
          "scatterpolargl": [
           {
            "marker": {
             "colorbar": {
              "outlinewidth": 0,
              "ticks": ""
             }
            },
            "type": "scatterpolargl"
           }
          ],
          "scatterternary": [
           {
            "marker": {
             "colorbar": {
              "outlinewidth": 0,
              "ticks": ""
             }
            },
            "type": "scatterternary"
           }
          ],
          "surface": [
           {
            "colorbar": {
             "outlinewidth": 0,
             "ticks": ""
            },
            "colorscale": [
             [
              0,
              "#0d0887"
             ],
             [
              0.1111111111111111,
              "#46039f"
             ],
             [
              0.2222222222222222,
              "#7201a8"
             ],
             [
              0.3333333333333333,
              "#9c179e"
             ],
             [
              0.4444444444444444,
              "#bd3786"
             ],
             [
              0.5555555555555556,
              "#d8576b"
             ],
             [
              0.6666666666666666,
              "#ed7953"
             ],
             [
              0.7777777777777778,
              "#fb9f3a"
             ],
             [
              0.8888888888888888,
              "#fdca26"
             ],
             [
              1,
              "#f0f921"
             ]
            ],
            "type": "surface"
           }
          ],
          "table": [
           {
            "cells": {
             "fill": {
              "color": "#EBF0F8"
             },
             "line": {
              "color": "white"
             }
            },
            "header": {
             "fill": {
              "color": "#C8D4E3"
             },
             "line": {
              "color": "white"
             }
            },
            "type": "table"
           }
          ]
         },
         "layout": {
          "annotationdefaults": {
           "arrowcolor": "#2a3f5f",
           "arrowhead": 0,
           "arrowwidth": 1
          },
          "autotypenumbers": "strict",
          "coloraxis": {
           "colorbar": {
            "outlinewidth": 0,
            "ticks": ""
           }
          },
          "colorscale": {
           "diverging": [
            [
             0,
             "#8e0152"
            ],
            [
             0.1,
             "#c51b7d"
            ],
            [
             0.2,
             "#de77ae"
            ],
            [
             0.3,
             "#f1b6da"
            ],
            [
             0.4,
             "#fde0ef"
            ],
            [
             0.5,
             "#f7f7f7"
            ],
            [
             0.6,
             "#e6f5d0"
            ],
            [
             0.7,
             "#b8e186"
            ],
            [
             0.8,
             "#7fbc41"
            ],
            [
             0.9,
             "#4d9221"
            ],
            [
             1,
             "#276419"
            ]
           ],
           "sequential": [
            [
             0,
             "#0d0887"
            ],
            [
             0.1111111111111111,
             "#46039f"
            ],
            [
             0.2222222222222222,
             "#7201a8"
            ],
            [
             0.3333333333333333,
             "#9c179e"
            ],
            [
             0.4444444444444444,
             "#bd3786"
            ],
            [
             0.5555555555555556,
             "#d8576b"
            ],
            [
             0.6666666666666666,
             "#ed7953"
            ],
            [
             0.7777777777777778,
             "#fb9f3a"
            ],
            [
             0.8888888888888888,
             "#fdca26"
            ],
            [
             1,
             "#f0f921"
            ]
           ],
           "sequentialminus": [
            [
             0,
             "#0d0887"
            ],
            [
             0.1111111111111111,
             "#46039f"
            ],
            [
             0.2222222222222222,
             "#7201a8"
            ],
            [
             0.3333333333333333,
             "#9c179e"
            ],
            [
             0.4444444444444444,
             "#bd3786"
            ],
            [
             0.5555555555555556,
             "#d8576b"
            ],
            [
             0.6666666666666666,
             "#ed7953"
            ],
            [
             0.7777777777777778,
             "#fb9f3a"
            ],
            [
             0.8888888888888888,
             "#fdca26"
            ],
            [
             1,
             "#f0f921"
            ]
           ]
          },
          "colorway": [
           "#636efa",
           "#EF553B",
           "#00cc96",
           "#ab63fa",
           "#FFA15A",
           "#19d3f3",
           "#FF6692",
           "#B6E880",
           "#FF97FF",
           "#FECB52"
          ],
          "font": {
           "color": "#2a3f5f"
          },
          "geo": {
           "bgcolor": "white",
           "lakecolor": "white",
           "landcolor": "#E5ECF6",
           "showlakes": true,
           "showland": true,
           "subunitcolor": "white"
          },
          "hoverlabel": {
           "align": "left"
          },
          "hovermode": "closest",
          "mapbox": {
           "style": "light"
          },
          "paper_bgcolor": "white",
          "plot_bgcolor": "#E5ECF6",
          "polar": {
           "angularaxis": {
            "gridcolor": "white",
            "linecolor": "white",
            "ticks": ""
           },
           "bgcolor": "#E5ECF6",
           "radialaxis": {
            "gridcolor": "white",
            "linecolor": "white",
            "ticks": ""
           }
          },
          "scene": {
           "xaxis": {
            "backgroundcolor": "#E5ECF6",
            "gridcolor": "white",
            "gridwidth": 2,
            "linecolor": "white",
            "showbackground": true,
            "ticks": "",
            "zerolinecolor": "white"
           },
           "yaxis": {
            "backgroundcolor": "#E5ECF6",
            "gridcolor": "white",
            "gridwidth": 2,
            "linecolor": "white",
            "showbackground": true,
            "ticks": "",
            "zerolinecolor": "white"
           },
           "zaxis": {
            "backgroundcolor": "#E5ECF6",
            "gridcolor": "white",
            "gridwidth": 2,
            "linecolor": "white",
            "showbackground": true,
            "ticks": "",
            "zerolinecolor": "white"
           }
          },
          "shapedefaults": {
           "line": {
            "color": "#2a3f5f"
           }
          },
          "ternary": {
           "aaxis": {
            "gridcolor": "white",
            "linecolor": "white",
            "ticks": ""
           },
           "baxis": {
            "gridcolor": "white",
            "linecolor": "white",
            "ticks": ""
           },
           "bgcolor": "#E5ECF6",
           "caxis": {
            "gridcolor": "white",
            "linecolor": "white",
            "ticks": ""
           }
          },
          "title": {
           "x": 0.05
          },
          "xaxis": {
           "automargin": true,
           "gridcolor": "white",
           "linecolor": "white",
           "ticks": "",
           "title": {
            "standoff": 15
           },
           "zerolinecolor": "white",
           "zerolinewidth": 2
          },
          "yaxis": {
           "automargin": true,
           "gridcolor": "white",
           "linecolor": "white",
           "ticks": "",
           "title": {
            "standoff": 15
           },
           "zerolinecolor": "white",
           "zerolinewidth": 2
          }
         }
        },
        "xaxis": {
         "anchor": "y",
         "domain": [
          0,
          1
         ],
         "title": {
          "text": "Year"
         }
        },
        "yaxis": {
         "anchor": "x",
         "domain": [
          0,
          1
         ],
         "title": {
          "text": "Average Monthly Employment"
         }
        }
       }
      },
      "text/html": [
       "<div>                            <div id=\"8c8aae3b-566a-4af6-9120-c7cd82b32ae4\" class=\"plotly-graph-div\" style=\"height:525px; width:100%;\"></div>            <script type=\"text/javascript\">                require([\"plotly\"], function(Plotly) {                    window.PLOTLYENV=window.PLOTLYENV || {};                                    if (document.getElementById(\"8c8aae3b-566a-4af6-9120-c7cd82b32ae4\")) {                    Plotly.newPlot(                        \"8c8aae3b-566a-4af6-9120-c7cd82b32ae4\",                        [{\"alignmentgroup\":\"True\",\"hovertemplate\":\"Year=%{x}<br>Average Monthly Employment=%{text}<extra></extra>\",\"legendgroup\":\"\",\"marker\":{\"color\":\"#636efa\",\"pattern\":{\"shape\":\"\"}},\"name\":\"\",\"offsetgroup\":\"\",\"orientation\":\"v\",\"showlegend\":false,\"text\":[7552.0,8228.0,9181.0,9821.0,8941.0,8219.0,8336.0,8430.0,8679.0,8725.0,9118.0,9086.0,9530.0,8463.0,8601.0,8313.0,8396.0],\"textposition\":\"outside\",\"texttemplate\":\"%{text:.2s}\",\"type\":\"bar\",\"x\":[\"2005\",\"2006\",\"2007\",\"2008\",\"2009\",\"2010\",\"2011\",\"2012\",\"2013\",\"2014\",\"2015\",\"2016\",\"2017\",\"2018\",\"2019\",\"2020\",\"2021\"],\"xaxis\":\"x\",\"y\":[7552.0,8228.0,9181.0,9821.0,8941.0,8219.0,8336.0,8430.0,8679.0,8725.0,9118.0,9086.0,9530.0,8463.0,8601.0,8313.0,8396.0],\"yaxis\":\"y\"}],                        {\"barmode\":\"relative\",\"legend\":{\"tracegroupgap\":0},\"margin\":{\"t\":60},\"template\":{\"data\":{\"bar\":[{\"error_x\":{\"color\":\"#2a3f5f\"},\"error_y\":{\"color\":\"#2a3f5f\"},\"marker\":{\"line\":{\"color\":\"#E5ECF6\",\"width\":0.5},\"pattern\":{\"fillmode\":\"overlay\",\"size\":10,\"solidity\":0.2}},\"type\":\"bar\"}],\"barpolar\":[{\"marker\":{\"line\":{\"color\":\"#E5ECF6\",\"width\":0.5},\"pattern\":{\"fillmode\":\"overlay\",\"size\":10,\"solidity\":0.2}},\"type\":\"barpolar\"}],\"carpet\":[{\"aaxis\":{\"endlinecolor\":\"#2a3f5f\",\"gridcolor\":\"white\",\"linecolor\":\"white\",\"minorgridcolor\":\"white\",\"startlinecolor\":\"#2a3f5f\"},\"baxis\":{\"endlinecolor\":\"#2a3f5f\",\"gridcolor\":\"white\",\"linecolor\":\"white\",\"minorgridcolor\":\"white\",\"startlinecolor\":\"#2a3f5f\"},\"type\":\"carpet\"}],\"choropleth\":[{\"colorbar\":{\"outlinewidth\":0,\"ticks\":\"\"},\"type\":\"choropleth\"}],\"contour\":[{\"colorbar\":{\"outlinewidth\":0,\"ticks\":\"\"},\"colorscale\":[[0.0,\"#0d0887\"],[0.1111111111111111,\"#46039f\"],[0.2222222222222222,\"#7201a8\"],[0.3333333333333333,\"#9c179e\"],[0.4444444444444444,\"#bd3786\"],[0.5555555555555556,\"#d8576b\"],[0.6666666666666666,\"#ed7953\"],[0.7777777777777778,\"#fb9f3a\"],[0.8888888888888888,\"#fdca26\"],[1.0,\"#f0f921\"]],\"type\":\"contour\"}],\"contourcarpet\":[{\"colorbar\":{\"outlinewidth\":0,\"ticks\":\"\"},\"type\":\"contourcarpet\"}],\"heatmap\":[{\"colorbar\":{\"outlinewidth\":0,\"ticks\":\"\"},\"colorscale\":[[0.0,\"#0d0887\"],[0.1111111111111111,\"#46039f\"],[0.2222222222222222,\"#7201a8\"],[0.3333333333333333,\"#9c179e\"],[0.4444444444444444,\"#bd3786\"],[0.5555555555555556,\"#d8576b\"],[0.6666666666666666,\"#ed7953\"],[0.7777777777777778,\"#fb9f3a\"],[0.8888888888888888,\"#fdca26\"],[1.0,\"#f0f921\"]],\"type\":\"heatmap\"}],\"heatmapgl\":[{\"colorbar\":{\"outlinewidth\":0,\"ticks\":\"\"},\"colorscale\":[[0.0,\"#0d0887\"],[0.1111111111111111,\"#46039f\"],[0.2222222222222222,\"#7201a8\"],[0.3333333333333333,\"#9c179e\"],[0.4444444444444444,\"#bd3786\"],[0.5555555555555556,\"#d8576b\"],[0.6666666666666666,\"#ed7953\"],[0.7777777777777778,\"#fb9f3a\"],[0.8888888888888888,\"#fdca26\"],[1.0,\"#f0f921\"]],\"type\":\"heatmapgl\"}],\"histogram\":[{\"marker\":{\"pattern\":{\"fillmode\":\"overlay\",\"size\":10,\"solidity\":0.2}},\"type\":\"histogram\"}],\"histogram2d\":[{\"colorbar\":{\"outlinewidth\":0,\"ticks\":\"\"},\"colorscale\":[[0.0,\"#0d0887\"],[0.1111111111111111,\"#46039f\"],[0.2222222222222222,\"#7201a8\"],[0.3333333333333333,\"#9c179e\"],[0.4444444444444444,\"#bd3786\"],[0.5555555555555556,\"#d8576b\"],[0.6666666666666666,\"#ed7953\"],[0.7777777777777778,\"#fb9f3a\"],[0.8888888888888888,\"#fdca26\"],[1.0,\"#f0f921\"]],\"type\":\"histogram2d\"}],\"histogram2dcontour\":[{\"colorbar\":{\"outlinewidth\":0,\"ticks\":\"\"},\"colorscale\":[[0.0,\"#0d0887\"],[0.1111111111111111,\"#46039f\"],[0.2222222222222222,\"#7201a8\"],[0.3333333333333333,\"#9c179e\"],[0.4444444444444444,\"#bd3786\"],[0.5555555555555556,\"#d8576b\"],[0.6666666666666666,\"#ed7953\"],[0.7777777777777778,\"#fb9f3a\"],[0.8888888888888888,\"#fdca26\"],[1.0,\"#f0f921\"]],\"type\":\"histogram2dcontour\"}],\"mesh3d\":[{\"colorbar\":{\"outlinewidth\":0,\"ticks\":\"\"},\"type\":\"mesh3d\"}],\"parcoords\":[{\"line\":{\"colorbar\":{\"outlinewidth\":0,\"ticks\":\"\"}},\"type\":\"parcoords\"}],\"pie\":[{\"automargin\":true,\"type\":\"pie\"}],\"scatter\":[{\"marker\":{\"colorbar\":{\"outlinewidth\":0,\"ticks\":\"\"}},\"type\":\"scatter\"}],\"scatter3d\":[{\"line\":{\"colorbar\":{\"outlinewidth\":0,\"ticks\":\"\"}},\"marker\":{\"colorbar\":{\"outlinewidth\":0,\"ticks\":\"\"}},\"type\":\"scatter3d\"}],\"scattercarpet\":[{\"marker\":{\"colorbar\":{\"outlinewidth\":0,\"ticks\":\"\"}},\"type\":\"scattercarpet\"}],\"scattergeo\":[{\"marker\":{\"colorbar\":{\"outlinewidth\":0,\"ticks\":\"\"}},\"type\":\"scattergeo\"}],\"scattergl\":[{\"marker\":{\"colorbar\":{\"outlinewidth\":0,\"ticks\":\"\"}},\"type\":\"scattergl\"}],\"scattermapbox\":[{\"marker\":{\"colorbar\":{\"outlinewidth\":0,\"ticks\":\"\"}},\"type\":\"scattermapbox\"}],\"scatterpolar\":[{\"marker\":{\"colorbar\":{\"outlinewidth\":0,\"ticks\":\"\"}},\"type\":\"scatterpolar\"}],\"scatterpolargl\":[{\"marker\":{\"colorbar\":{\"outlinewidth\":0,\"ticks\":\"\"}},\"type\":\"scatterpolargl\"}],\"scatterternary\":[{\"marker\":{\"colorbar\":{\"outlinewidth\":0,\"ticks\":\"\"}},\"type\":\"scatterternary\"}],\"surface\":[{\"colorbar\":{\"outlinewidth\":0,\"ticks\":\"\"},\"colorscale\":[[0.0,\"#0d0887\"],[0.1111111111111111,\"#46039f\"],[0.2222222222222222,\"#7201a8\"],[0.3333333333333333,\"#9c179e\"],[0.4444444444444444,\"#bd3786\"],[0.5555555555555556,\"#d8576b\"],[0.6666666666666666,\"#ed7953\"],[0.7777777777777778,\"#fb9f3a\"],[0.8888888888888888,\"#fdca26\"],[1.0,\"#f0f921\"]],\"type\":\"surface\"}],\"table\":[{\"cells\":{\"fill\":{\"color\":\"#EBF0F8\"},\"line\":{\"color\":\"white\"}},\"header\":{\"fill\":{\"color\":\"#C8D4E3\"},\"line\":{\"color\":\"white\"}},\"type\":\"table\"}]},\"layout\":{\"annotationdefaults\":{\"arrowcolor\":\"#2a3f5f\",\"arrowhead\":0,\"arrowwidth\":1},\"autotypenumbers\":\"strict\",\"coloraxis\":{\"colorbar\":{\"outlinewidth\":0,\"ticks\":\"\"}},\"colorscale\":{\"diverging\":[[0,\"#8e0152\"],[0.1,\"#c51b7d\"],[0.2,\"#de77ae\"],[0.3,\"#f1b6da\"],[0.4,\"#fde0ef\"],[0.5,\"#f7f7f7\"],[0.6,\"#e6f5d0\"],[0.7,\"#b8e186\"],[0.8,\"#7fbc41\"],[0.9,\"#4d9221\"],[1,\"#276419\"]],\"sequential\":[[0.0,\"#0d0887\"],[0.1111111111111111,\"#46039f\"],[0.2222222222222222,\"#7201a8\"],[0.3333333333333333,\"#9c179e\"],[0.4444444444444444,\"#bd3786\"],[0.5555555555555556,\"#d8576b\"],[0.6666666666666666,\"#ed7953\"],[0.7777777777777778,\"#fb9f3a\"],[0.8888888888888888,\"#fdca26\"],[1.0,\"#f0f921\"]],\"sequentialminus\":[[0.0,\"#0d0887\"],[0.1111111111111111,\"#46039f\"],[0.2222222222222222,\"#7201a8\"],[0.3333333333333333,\"#9c179e\"],[0.4444444444444444,\"#bd3786\"],[0.5555555555555556,\"#d8576b\"],[0.6666666666666666,\"#ed7953\"],[0.7777777777777778,\"#fb9f3a\"],[0.8888888888888888,\"#fdca26\"],[1.0,\"#f0f921\"]]},\"colorway\":[\"#636efa\",\"#EF553B\",\"#00cc96\",\"#ab63fa\",\"#FFA15A\",\"#19d3f3\",\"#FF6692\",\"#B6E880\",\"#FF97FF\",\"#FECB52\"],\"font\":{\"color\":\"#2a3f5f\"},\"geo\":{\"bgcolor\":\"white\",\"lakecolor\":\"white\",\"landcolor\":\"#E5ECF6\",\"showlakes\":true,\"showland\":true,\"subunitcolor\":\"white\"},\"hoverlabel\":{\"align\":\"left\"},\"hovermode\":\"closest\",\"mapbox\":{\"style\":\"light\"},\"paper_bgcolor\":\"white\",\"plot_bgcolor\":\"#E5ECF6\",\"polar\":{\"angularaxis\":{\"gridcolor\":\"white\",\"linecolor\":\"white\",\"ticks\":\"\"},\"bgcolor\":\"#E5ECF6\",\"radialaxis\":{\"gridcolor\":\"white\",\"linecolor\":\"white\",\"ticks\":\"\"}},\"scene\":{\"xaxis\":{\"backgroundcolor\":\"#E5ECF6\",\"gridcolor\":\"white\",\"gridwidth\":2,\"linecolor\":\"white\",\"showbackground\":true,\"ticks\":\"\",\"zerolinecolor\":\"white\"},\"yaxis\":{\"backgroundcolor\":\"#E5ECF6\",\"gridcolor\":\"white\",\"gridwidth\":2,\"linecolor\":\"white\",\"showbackground\":true,\"ticks\":\"\",\"zerolinecolor\":\"white\"},\"zaxis\":{\"backgroundcolor\":\"#E5ECF6\",\"gridcolor\":\"white\",\"gridwidth\":2,\"linecolor\":\"white\",\"showbackground\":true,\"ticks\":\"\",\"zerolinecolor\":\"white\"}},\"shapedefaults\":{\"line\":{\"color\":\"#2a3f5f\"}},\"ternary\":{\"aaxis\":{\"gridcolor\":\"white\",\"linecolor\":\"white\",\"ticks\":\"\"},\"baxis\":{\"gridcolor\":\"white\",\"linecolor\":\"white\",\"ticks\":\"\"},\"bgcolor\":\"#E5ECF6\",\"caxis\":{\"gridcolor\":\"white\",\"linecolor\":\"white\",\"ticks\":\"\"}},\"title\":{\"x\":0.05},\"xaxis\":{\"automargin\":true,\"gridcolor\":\"white\",\"linecolor\":\"white\",\"ticks\":\"\",\"title\":{\"standoff\":15},\"zerolinecolor\":\"white\",\"zerolinewidth\":2},\"yaxis\":{\"automargin\":true,\"gridcolor\":\"white\",\"linecolor\":\"white\",\"ticks\":\"\",\"title\":{\"standoff\":15},\"zerolinecolor\":\"white\",\"zerolinewidth\":2}}},\"xaxis\":{\"anchor\":\"y\",\"domain\":[0.0,1.0],\"title\":{\"text\":\"Year\"}},\"yaxis\":{\"anchor\":\"x\",\"domain\":[0.0,1.0],\"title\":{\"text\":\"Average Monthly Employment\"}}},                        {\"responsive\": true}                    ).then(function(){\n",
       "                            \n",
       "var gd = document.getElementById('8c8aae3b-566a-4af6-9120-c7cd82b32ae4');\n",
       "var x = new MutationObserver(function (mutations, observer) {{\n",
       "        var display = window.getComputedStyle(gd).display;\n",
       "        if (!display || display === 'none') {{\n",
       "            console.log([gd, 'removed!']);\n",
       "            Plotly.purge(gd);\n",
       "            observer.disconnect();\n",
       "        }}\n",
       "}});\n",
       "\n",
       "// Listen for the removal of the full notebook cells\n",
       "var notebookContainer = gd.closest('#notebook-container');\n",
       "if (notebookContainer) {{\n",
       "    x.observe(notebookContainer, {childList: true});\n",
       "}}\n",
       "\n",
       "// Listen for the clearing of the current output cell\n",
       "var outputEl = gd.closest('.output');\n",
       "if (outputEl) {{\n",
       "    x.observe(outputEl, {childList: true});\n",
       "}}\n",
       "\n",
       "                        })                };                });            </script>        </div>"
      ]
     },
     "metadata": {},
     "output_type": "display_data"
    }
   ],
   "source": [
    "cc_avgmthly_plot = px.bar(cathedral_city_df_yearly, x=cathedral_city_df_yearly.index, y='Average Monthly Employment', labels={'DATE': 'Year'}, text='Average Monthly Employment')\n",
    "cc_avgmthly_plot.update_traces(texttemplate='%{text:.2s}', textposition='outside')\n",
    "cc_avgmthly_plot.show()"
   ]
  },
  {
   "cell_type": "code",
   "execution_count": 26,
   "id": "b558be68",
   "metadata": {},
   "outputs": [],
   "source": []
  },
  {
   "cell_type": "code",
   "execution_count": 27,
   "id": "af97e1e1",
   "metadata": {},
   "outputs": [
    {
     "name": "stdout",
     "output_type": "stream",
     "text": [
      "       DATE            City Agriculture, Forestry, Fishing and Hunting  \\\n",
      "0  Jan 2005  Cathedral City                                        NaN   \n",
      "1  Feb 2005  Cathedral City                                        NaN   \n",
      "2  Mar 2005  Cathedral City                                        NaN   \n",
      "3  Apr 2005  Cathedral City                                        NaN   \n",
      "4  May 2005  Cathedral City                                        NaN   \n",
      "\n",
      "  Utilities Construction Manufacturing Wholesale Trade Retail Trade  \\\n",
      "0       NaN          971            79             106         1941   \n",
      "1       NaN          981            68             108         1956   \n",
      "2       NaN         1032            78             111         1947   \n",
      "3       NaN          988            86             154         1936   \n",
      "4       NaN         1028            88             154         1953   \n",
      "\n",
      "  Transportation and Warehousing Information  ...  \\\n",
      "0                             39         137  ...   \n",
      "1                             39         143  ...   \n",
      "2                             41         142  ...   \n",
      "3                             41         140  ...   \n",
      "4                             39         135  ...   \n",
      "\n",
      "  Health Care and Social Assistance  Arts, Entertainment, and Recreation  \\\n",
      "0                               530                                  217   \n",
      "1                               517                                  224   \n",
      "2                               513                                  236   \n",
      "3                               523                                  234   \n",
      "4                               529                                  245   \n",
      "\n",
      "  Accommodation and Food Services  \\\n",
      "0                             967   \n",
      "1                             990   \n",
      "2                            1000   \n",
      "3                            1023   \n",
      "4                            1022   \n",
      "\n",
      "  Other Services (except Public Administration) Federal Government  \\\n",
      "0                                           543                NaN   \n",
      "1                                           547                NaN   \n",
      "2                                           561                NaN   \n",
      "3                                           546                NaN   \n",
      "4                                           552                NaN   \n",
      "\n",
      "  Local Government State Government Not Elsewhere Classified  \\\n",
      "0              940              NaN                      NaN   \n",
      "1              941              NaN                      NaN   \n",
      "2              953              NaN                      NaN   \n",
      "3              906              NaN                      NaN   \n",
      "4              910              NaN                      NaN   \n",
      "\n",
      "  Mining, Quarrying, and Oil and Gas Extraction Total Employment  \n",
      "0                                           NaN            430.0  \n",
      "1                                           NaN            434.0  \n",
      "2                                           NaN            438.0  \n",
      "3                                           NaN            434.0  \n",
      "4                                           NaN            436.0  \n",
      "\n",
      "[5 rows x 26 columns]\n"
     ]
    }
   ],
   "source": []
  },
  {
   "cell_type": "code",
   "execution_count": 28,
   "id": "f85fedf1",
   "metadata": {},
   "outputs": [
    {
     "name": "stderr",
     "output_type": "stream",
     "text": [
      "/var/folders/kc/96gd8w257616fkgyr9gcth3h0000gn/T/ipykernel_41061/431044449.py:1: FutureWarning: Dropping of nuisance columns in DataFrame reductions (with 'numeric_only=None') is deprecated; in a future version this will raise TypeError.  Select only valid columns before calling the reduction.\n",
      "  empl_data['Total Employment'] = empl_data.loc[:, \"Agriculture, Forestry, Fishing and Hunting\":].sum(axis=1)\n"
     ]
    }
   ],
   "source": []
  },
  {
   "cell_type": "code",
   "execution_count": 29,
   "id": "88859dc0",
   "metadata": {},
   "outputs": [],
   "source": []
  },
  {
   "cell_type": "code",
   "execution_count": 30,
   "id": "bd78065e",
   "metadata": {},
   "outputs": [
    {
     "name": "stdout",
     "output_type": "stream",
     "text": [
      "       DATE            City Agriculture, Forestry, Fishing and Hunting  \\\n",
      "0  Jan 2005  Cathedral City                                        NaN   \n",
      "1  Feb 2005  Cathedral City                                        NaN   \n",
      "2  Mar 2005  Cathedral City                                        NaN   \n",
      "3  Apr 2005  Cathedral City                                        NaN   \n",
      "4  May 2005  Cathedral City                                        NaN   \n",
      "\n",
      "  Utilities Construction Manufacturing Wholesale Trade Retail Trade  \\\n",
      "0       NaN          971            79             106         1941   \n",
      "1       NaN          981            68             108         1956   \n",
      "2       NaN         1032            78             111         1947   \n",
      "3       NaN          988            86             154         1936   \n",
      "4       NaN         1028            88             154         1953   \n",
      "\n",
      "  Transportation and Warehousing Information  ...  \\\n",
      "0                             39         137  ...   \n",
      "1                             39         143  ...   \n",
      "2                             41         142  ...   \n",
      "3                             41         140  ...   \n",
      "4                             39         135  ...   \n",
      "\n",
      "  Health Care and Social Assistance  Arts, Entertainment, and Recreation  \\\n",
      "0                               530                                  217   \n",
      "1                               517                                  224   \n",
      "2                               513                                  236   \n",
      "3                               523                                  234   \n",
      "4                               529                                  245   \n",
      "\n",
      "  Accommodation and Food Services  \\\n",
      "0                             967   \n",
      "1                             990   \n",
      "2                            1000   \n",
      "3                            1023   \n",
      "4                            1022   \n",
      "\n",
      "  Other Services (except Public Administration) Federal Government  \\\n",
      "0                                           543                NaN   \n",
      "1                                           547                NaN   \n",
      "2                                           561                NaN   \n",
      "3                                           546                NaN   \n",
      "4                                           552                NaN   \n",
      "\n",
      "  Local Government State Government Not Elsewhere Classified  \\\n",
      "0              940              NaN                      NaN   \n",
      "1              941              NaN                      NaN   \n",
      "2              953              NaN                      NaN   \n",
      "3              906              NaN                      NaN   \n",
      "4              910              NaN                      NaN   \n",
      "\n",
      "  Mining, Quarrying, and Oil and Gas Extraction Total Employment  \n",
      "0                                           NaN              0.0  \n",
      "1                                           NaN              0.0  \n",
      "2                                           NaN              0.0  \n",
      "3                                           NaN              0.0  \n",
      "4                                           NaN              0.0  \n",
      "\n",
      "[5 rows x 26 columns]\n"
     ]
    }
   ],
   "source": []
  },
  {
   "cell_type": "code",
   "execution_count": 31,
   "id": "d3a77916",
   "metadata": {},
   "outputs": [
    {
     "ename": "SyntaxError",
     "evalue": "invalid syntax (3181421605.py, line 1)",
     "output_type": "error",
     "traceback": [
      "\u001b[0;36m  File \u001b[0;32m\"/var/folders/kc/96gd8w257616fkgyr9gcth3h0000gn/T/ipykernel_41061/3181421605.py\"\u001b[0;36m, line \u001b[0;32m1\u001b[0m\n\u001b[0;31m    empl_data['Total Employment'] = empl_data.loc[:, [\"Agriculture, Forestry, Fishing and Hunting\":]].sum(axis=1, numeric_only=True)\u001b[0m\n\u001b[0m                                                                                                  ^\u001b[0m\n\u001b[0;31mSyntaxError\u001b[0m\u001b[0;31m:\u001b[0m invalid syntax\n"
     ]
    }
   ],
   "source": []
  },
  {
   "cell_type": "code",
   "execution_count": 1,
   "id": "1656d4ec",
   "metadata": {},
   "outputs": [
    {
     "ename": "NameError",
     "evalue": "name 'empl_data' is not defined",
     "output_type": "error",
     "traceback": [
      "\u001b[0;31m---------------------------------------------------------------------------\u001b[0m",
      "\u001b[0;31mNameError\u001b[0m                                 Traceback (most recent call last)",
      "\u001b[0;32m/var/folders/kc/96gd8w257616fkgyr9gcth3h0000gn/T/ipykernel_54443/3513799721.py\u001b[0m in \u001b[0;36m<module>\u001b[0;34m\u001b[0m\n\u001b[0;32m----> 1\u001b[0;31m \u001b[0mempl_data\u001b[0m\u001b[0;34m.\u001b[0m\u001b[0mset_index\u001b[0m\u001b[0;34m(\u001b[0m\u001b[0;34m'DATE'\u001b[0m\u001b[0;34m,\u001b[0m \u001b[0minplace\u001b[0m\u001b[0;34m=\u001b[0m\u001b[0;32mTrue\u001b[0m\u001b[0;34m)\u001b[0m\u001b[0;34m\u001b[0m\u001b[0;34m\u001b[0m\u001b[0m\n\u001b[0m",
      "\u001b[0;31mNameError\u001b[0m: name 'empl_data' is not defined"
     ]
    }
   ],
   "source": []
  },
  {
   "cell_type": "code",
   "execution_count": null,
   "id": "d0096a59",
   "metadata": {},
   "outputs": [],
   "source": []
  }
 ],
 "metadata": {
  "kernelspec": {
   "display_name": "lowe",
   "language": "python",
   "name": "lowe"
  },
  "language_info": {
   "codemirror_mode": {
    "name": "ipython",
    "version": 3
   },
   "file_extension": ".py",
   "mimetype": "text/x-python",
   "name": "python",
   "nbconvert_exporter": "python",
   "pygments_lexer": "ipython3",
   "version": "3.9.7"
  }
 },
 "nbformat": 4,
 "nbformat_minor": 5
}
