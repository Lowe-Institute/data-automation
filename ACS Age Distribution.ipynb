{
 "cells": [
  {
   "cell_type": "code",
   "execution_count": 156,
   "id": "77d49e95",
   "metadata": {},
   "outputs": [],
   "source": [
    "from lowe.acs.ACSClient import ACSClient\n",
    "from lowe.locations.lookup import name2fips, fips2name, search\n",
    "import pandas as pd"
   ]
  },
  {
   "cell_type": "code",
   "execution_count": 2,
   "id": "e63eb71d",
   "metadata": {},
   "outputs": [],
   "source": [
    "client = ACSClient()\n",
    "await client.initialize()"
   ]
  },
  {
   "cell_type": "code",
   "execution_count": 68,
   "id": "d5f95aae",
   "metadata": {},
   "outputs": [],
   "source": [
    "CATHEDRAL_CITY = \"0612048\"\n",
    "COACHELLA = \"0614260\"\n",
    "DESERT_HS = \"0618996\"\n",
    "INDIAN_WELLS = \"0636434\"\n",
    "INDIO = \"0636448\"\n",
    "LA_QUINTA = \"0640354\"\n",
    "PALM_DESERT = \"0655184\"\n",
    "PALM_SPRINGS = \"0655254\"\n",
    "RANCHO_MIRAGE = \"0659500\"\n",
    "\n",
    "cities = [CATHEDRAL_CITY, COACHELLA, DESERT_HS, INDIAN_WELLS, INDIO, LA_QUINTA, PALM_DESERT, PALM_SPRINGS, RANCHO_MIRAGE]\n",
    "\n",
    "locs = [{\"city\": cityname} for cityname in cities]"
   ]
  },
  {
   "cell_type": "code",
   "execution_count": 131,
   "id": "85a98bc2",
   "metadata": {},
   "outputs": [],
   "source": [
    "resp = await client.get_acs(\n",
    "    vars=[\"S0101\"],\n",
    "    start_year=\"2012\",\n",
    "    end_year=\"2019\",\n",
    "    location=locs,\n",
    "    estimate=\"5\",\n",
    "    debug=False)"
   ]
  },
  {
   "cell_type": "code",
   "execution_count": 132,
   "id": "408c8779",
   "metadata": {},
   "outputs": [],
   "source": [
    "cols_mask = resp.columns.str.contains(\"AGE AND SEX Estimate Percent|city|location_key\")\n",
    "resp = resp.loc[:, cols_mask]\n",
    "no_gender_mask = ~resp.columns.str.contains(\"male|female|Male|Female|MALE|FEMALE\")\n",
    "resp = resp.loc[:, no_gender_mask]\n",
    "other_mask = ~resp.columns.str.contains(\"SELECTED AGE CATEGORIES|SUMMARY INDICATORS|PERCENT ALLOCATED\")\n",
    "resp = resp.loc[:, other_mask]"
   ]
  },
  {
   "cell_type": "code",
   "execution_count": 133,
   "id": "652ff0c3",
   "metadata": {},
   "outputs": [
    {
     "name": "stdout",
     "output_type": "stream",
     "text": [
      "AGE AND SEX Estimate Percent Total population\n",
      "AGE AND SEX Estimate Percent Total population AGE 10 to 14 years\n",
      "AGE AND SEX Estimate Percent Total population AGE 15 to 19 years\n",
      "AGE AND SEX Estimate Percent Total population AGE 20 to 24 years\n",
      "AGE AND SEX Estimate Percent Total population AGE 25 to 29 years\n",
      "AGE AND SEX Estimate Percent Total population AGE 30 to 34 years\n",
      "AGE AND SEX Estimate Percent Total population AGE 35 to 39 years\n",
      "AGE AND SEX Estimate Percent Total population AGE 40 to 44 years\n",
      "AGE AND SEX Estimate Percent Total population AGE 45 to 49 years\n",
      "AGE AND SEX Estimate Percent Total population AGE 5 to 9 years\n",
      "AGE AND SEX Estimate Percent Total population AGE 50 to 54 years\n",
      "AGE AND SEX Estimate Percent Total population AGE 55 to 59 years\n",
      "AGE AND SEX Estimate Percent Total population AGE 60 to 64 years\n",
      "AGE AND SEX Estimate Percent Total population AGE 65 to 69 years\n",
      "AGE AND SEX Estimate Percent Total population AGE 70 to 74 years\n",
      "AGE AND SEX Estimate Percent Total population AGE 75 to 79 years\n",
      "AGE AND SEX Estimate Percent Total population AGE 80 to 84 years\n",
      "AGE AND SEX Estimate Percent Total population AGE 85 years and over\n",
      "AGE AND SEX Estimate Percent Total population AGE Under 5 years\n",
      "city\n",
      "location_key\n"
     ]
    }
   ],
   "source": [
    "for col in resp.columns:\n",
    "    print(col)"
   ]
  },
  {
   "cell_type": "code",
   "execution_count": 134,
   "id": "0c183c6b",
   "metadata": {},
   "outputs": [],
   "source": [
    "newcols = []\n",
    "for col in resp.columns:\n",
    "    newcols.append(col.replace(\"AGE AND SEX Estimate Percent Total population AGE \", \"\"))\n",
    "resp.columns = newcols"
   ]
  },
  {
   "cell_type": "code",
   "execution_count": 135,
   "id": "b2a3a153",
   "metadata": {},
   "outputs": [],
   "source": [
    "resp[\"0-14 years perc\"] = resp[\"Under 5 years\"].astype(float) + resp[\"5 to 9 years\"].astype(float) + resp[\"10 to 14 years\"].astype(float)\n",
    "resp[\"15-24 years perc\"] = resp[\"15 to 19 years\"].astype(float) + resp[\"20 to 24 years\"].astype(float)\n",
    "resp[\"25-34 years perc\"] = resp[\"25 to 29 years\"].astype(float) + resp[\"30 to 34 years\"].astype(float)\n",
    "resp[\"35-44 years perc\"] = resp[\"35 to 39 years\"].astype(float) + resp[\"40 to 44 years\"].astype(float)\n",
    "resp[\"45-64 years perc\"] = resp[\"45 to 49 years\"].astype(float) + resp[\"50 to 54 years\"].astype(float) + resp[\"55 to 59 years\"].astype(float) + resp[\"60 to 64 years\"].astype(float)\n",
    "resp[\"65+ years perc\"] = resp[\"65 to 69 years\"].astype(float) + resp[\"70 to 74 years\"].astype(float) + resp[\"75 to 79 years\"].astype(float) + resp[\"80 to 84 years\"].astype(float) + resp[\"85 years and over\"].astype(float)\n",
    "\n",
    "\n",
    "resp = resp.rename(columns = {\"AGE AND SEX Estimate Percent Total population\": \"Total population\"})\n",
    "\n",
    "resp[\"0-14 years\"] = resp[\"0-14 years perc\"].astype(float) * resp[\"Total population\"].astype(float) * 0.01\n",
    "resp[\"15-24 years\"] = resp[\"15-24 years perc\"].astype(float) * resp[\"Total population\"].astype(float) * 0.01\n",
    "resp[\"25-34 years\"] = resp[\"25-34 years perc\"].astype(float) * resp[\"Total population\"].astype(float) * 0.01\n",
    "resp[\"35-44 years\"] = resp[\"35-44 years perc\"].astype(float) * resp[\"Total population\"].astype(float) * 0.01\n",
    "resp[\"45-64 years\"] = resp[\"45-64 years perc\"].astype(float) * resp[\"Total population\"].astype(float) * 0.01\n",
    "resp[\"65+ years\"] = resp[\"65+ years perc\"].astype(float) * resp[\"Total population\"].astype(float) * 0.01\n"
   ]
  },
  {
   "cell_type": "code",
   "execution_count": 150,
   "id": "53272173",
   "metadata": {},
   "outputs": [],
   "source": [
    "cols = [\"location_key\", \"0-14 years perc\", \"15-24 years perc\", \"25-34 years perc\",\n",
    "             \"35-44 years perc\",\"45-64 years perc\",\"65+ years perc\",\n",
    "             \"0-14 years\", \"15-24 years\", \"25-34 years\", \n",
    "             \"35-44 years\",\"45-64 years\",\"65+ years\", \"Total population\"]\n",
    "\n",
    "resp = resp[cols]\n",
    "\n",
    "resp[\"Total population\"] = resp[\"Total population\"].astype(float)"
   ]
  },
  {
   "cell_type": "code",
   "execution_count": 153,
   "id": "fa46dc75",
   "metadata": {},
   "outputs": [],
   "source": [
    "cv = resp.groupby([\"year\"]).sum()\n",
    "cv[\"0-14 years perc\"] = cv[\"0-14 years\"] / cv[\"Total population\"]\n",
    "cv[\"15-24 years perc\"] = cv[\"15-24 years\"] / cv[\"Total population\"]\n",
    "cv[\"25-34 years perc\"] = cv[\"25-34 years\"] / cv[\"Total population\"]\n",
    "cv[\"35-44 years perc\"] = cv[\"35-44 years\"] / cv[\"Total population\"]\n",
    "cv[\"45-64 years perc\"] = cv[\"45-64 years\"] / cv[\"Total population\"]\n",
    "cv[\"65+ years perc\"] = cv[\"65+ years\"] / cv[\"Total population\"]\n",
    "cv[\"location_key\"] = \"Coachella Valley\"\n",
    "\n",
    "cv = cv[cols]"
   ]
  },
  {
   "cell_type": "code",
   "execution_count": 155,
   "id": "ca1a0074",
   "metadata": {},
   "outputs": [
    {
     "ename": "NameError",
     "evalue": "name 'pd' is not defined",
     "output_type": "error",
     "traceback": [
      "\u001b[0;31m---------------------------------------------------------------------------\u001b[0m",
      "\u001b[0;31mNameError\u001b[0m                                 Traceback (most recent call last)",
      "\u001b[0;32m/var/folders/75/46jrzng908x6n6t86gf7xtyw0000gn/T/ipykernel_20720/3212294879.py\u001b[0m in \u001b[0;36m<module>\u001b[0;34m\u001b[0m\n\u001b[1;32m      1\u001b[0m \u001b[0mcv\u001b[0m\u001b[0;34m\u001b[0m\u001b[0;34m\u001b[0m\u001b[0m\n\u001b[1;32m      2\u001b[0m \u001b[0;34m\u001b[0m\u001b[0m\n\u001b[0;32m----> 3\u001b[0;31m \u001b[0mtogether\u001b[0m \u001b[0;34m=\u001b[0m \u001b[0mpd\u001b[0m\u001b[0;34m.\u001b[0m\u001b[0mconcat\u001b[0m\u001b[0;34m(\u001b[0m\u001b[0;34m[\u001b[0m\u001b[0mresp\u001b[0m\u001b[0;34m,\u001b[0m \u001b[0mcv\u001b[0m\u001b[0;34m]\u001b[0m\u001b[0;34m)\u001b[0m\u001b[0;34m\u001b[0m\u001b[0;34m\u001b[0m\u001b[0m\n\u001b[0m",
      "\u001b[0;31mNameError\u001b[0m: name 'pd' is not defined"
     ]
    }
   ],
   "source": [
    "cv\n",
    "\n",
    "together = pd.concat([resp, cv])"
   ]
  },
  {
   "cell_type": "code",
   "execution_count": 138,
   "id": "7cec22dd",
   "metadata": {},
   "outputs": [
    {
     "data": {
      "text/plain": [
       "year\n",
       "2012    25662\n",
       "        ...  \n",
       "Name: Total population, Length: 72, dtype: object"
      ]
     },
     "execution_count": 138,
     "metadata": {},
     "output_type": "execute_result"
    }
   ],
   "source": [
    "resp[\"Total population\"]"
   ]
  },
  {
   "cell_type": "code",
   "execution_count": null,
   "id": "6f6b606e",
   "metadata": {},
   "outputs": [],
   "source": []
  }
 ],
 "metadata": {
  "kernelspec": {
   "display_name": "lowe",
   "language": "python",
   "name": "lowe"
  },
  "language_info": {
   "codemirror_mode": {
    "name": "ipython",
    "version": 3
   },
   "file_extension": ".py",
   "mimetype": "text/x-python",
   "name": "python",
   "nbconvert_exporter": "python",
   "pygments_lexer": "ipython3",
   "version": "3.9.7"
  }
 },
 "nbformat": 4,
 "nbformat_minor": 5
}
