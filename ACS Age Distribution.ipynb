{
 "cells": [
  {
   "cell_type": "code",
   "execution_count": 156,
   "id": "ef1e3ceb",
   "metadata": {},
   "outputs": [],
   "source": [
    "from lowe.acs.ACSClient import ACSClient\n",
    "from lowe.locations.lookup import name2fips, fips2name, search\n",
    "import pandas as pd"
   ]
  },
  {
   "cell_type": "code",
   "execution_count": 2,
   "id": "be5f4eef",
   "metadata": {},
   "outputs": [],
   "source": [
    "client = ACSClient()\n",
    "await client.initialize()"
   ]
  },
  {
   "cell_type": "code",
   "execution_count": 68,
   "id": "7dc2c039",
   "metadata": {},
   "outputs": [],
   "source": [
    "CATHEDRAL_CITY = \"0612048\"\n",
    "COACHELLA = \"0614260\"\n",
    "DESERT_HS = \"0618996\"\n",
    "INDIAN_WELLS = \"0636434\"\n",
    "INDIO = \"0636448\"\n",
    "LA_QUINTA = \"0640354\"\n",
    "PALM_DESERT = \"0655184\"\n",
    "PALM_SPRINGS = \"0655254\"\n",
    "RANCHO_MIRAGE = \"0659500\"\n",
    "\n",
    "cities = [CATHEDRAL_CITY, COACHELLA, DESERT_HS, INDIAN_WELLS, INDIO, LA_QUINTA, PALM_DESERT, PALM_SPRINGS, RANCHO_MIRAGE]\n",
    "\n",
    "locs = [{\"city\": cityname} for cityname in cities]"
   ]
  },
  {
   "cell_type": "code",
   "execution_count": 167,
   "id": "3d692978",
   "metadata": {},
   "outputs": [],
   "source": [
    "resp = await client.get_acs(\n",
    "    vars=[\"S0101\"],\n",
    "    start_year=\"2012\",\n",
    "    end_year=\"2019\",\n",
    "    location=locs,\n",
    "    estimate=\"5\",\n",
    "    debug=False)"
   ]
  },
  {
   "cell_type": "code",
   "execution_count": 168,
   "id": "6400552b",
   "metadata": {},
   "outputs": [],
   "source": [
    "cols_mask = resp.columns.str.contains(\"AGE AND SEX Estimate Percent|city|location_key\")\n",
    "resp = resp.loc[:, cols_mask]\n",
    "no_gender_mask = ~resp.columns.str.contains(\"male|female|Male|Female|MALE|FEMALE\")\n",
    "resp = resp.loc[:, no_gender_mask]\n",
    "other_mask = ~resp.columns.str.contains(\"SELECTED AGE CATEGORIES|SUMMARY INDICATORS|PERCENT ALLOCATED\")\n",
    "resp = resp.loc[:, other_mask]"
   ]
  },
  {
   "cell_type": "code",
   "execution_count": 169,
   "id": "b1a0224d",
   "metadata": {},
   "outputs": [
    {
     "name": "stdout",
     "output_type": "stream",
     "text": [
      "AGE AND SEX Estimate Percent Total population\n",
      "AGE AND SEX Estimate Percent Total population AGE 10 to 14 years\n",
      "AGE AND SEX Estimate Percent Total population AGE 15 to 19 years\n",
      "AGE AND SEX Estimate Percent Total population AGE 20 to 24 years\n",
      "AGE AND SEX Estimate Percent Total population AGE 25 to 29 years\n",
      "AGE AND SEX Estimate Percent Total population AGE 30 to 34 years\n",
      "AGE AND SEX Estimate Percent Total population AGE 35 to 39 years\n",
      "AGE AND SEX Estimate Percent Total population AGE 40 to 44 years\n",
      "AGE AND SEX Estimate Percent Total population AGE 45 to 49 years\n",
      "AGE AND SEX Estimate Percent Total population AGE 5 to 9 years\n",
      "AGE AND SEX Estimate Percent Total population AGE 50 to 54 years\n",
      "AGE AND SEX Estimate Percent Total population AGE 55 to 59 years\n",
      "AGE AND SEX Estimate Percent Total population AGE 60 to 64 years\n",
      "AGE AND SEX Estimate Percent Total population AGE 65 to 69 years\n",
      "AGE AND SEX Estimate Percent Total population AGE 70 to 74 years\n",
      "AGE AND SEX Estimate Percent Total population AGE 75 to 79 years\n",
      "AGE AND SEX Estimate Percent Total population AGE 80 to 84 years\n",
      "AGE AND SEX Estimate Percent Total population AGE 85 years and over\n",
      "AGE AND SEX Estimate Percent Total population AGE Under 5 years\n",
      "city\n",
      "location_key\n"
     ]
    }
   ],
   "source": [
    "for col in resp.columns:\n",
    "    print(col)"
   ]
  },
  {
   "cell_type": "code",
   "execution_count": 170,
   "id": "00bb5c82",
   "metadata": {},
   "outputs": [],
   "source": [
    "newcols = []\n",
    "for col in resp.columns:\n",
    "    newcols.append(col.replace(\"AGE AND SEX Estimate Percent Total population AGE \", \"\"))\n",
    "resp.columns = newcols"
   ]
  },
  {
   "cell_type": "code",
   "execution_count": 171,
   "id": "68e87c70",
   "metadata": {},
   "outputs": [],
   "source": [
    "resp[\"0-14 years perc\"] = resp[\"Under 5 years\"].astype(float) + resp[\"5 to 9 years\"].astype(float) + resp[\"10 to 14 years\"].astype(float)\n",
    "resp[\"15-24 years perc\"] = resp[\"15 to 19 years\"].astype(float) + resp[\"20 to 24 years\"].astype(float)\n",
    "resp[\"25-34 years perc\"] = resp[\"25 to 29 years\"].astype(float) + resp[\"30 to 34 years\"].astype(float)\n",
    "resp[\"35-44 years perc\"] = resp[\"35 to 39 years\"].astype(float) + resp[\"40 to 44 years\"].astype(float)\n",
    "resp[\"45-64 years perc\"] = resp[\"45 to 49 years\"].astype(float) + resp[\"50 to 54 years\"].astype(float) + resp[\"55 to 59 years\"].astype(float) + resp[\"60 to 64 years\"].astype(float)\n",
    "resp[\"65+ years perc\"] = resp[\"65 to 69 years\"].astype(float) + resp[\"70 to 74 years\"].astype(float) + resp[\"75 to 79 years\"].astype(float) + resp[\"80 to 84 years\"].astype(float) + resp[\"85 years and over\"].astype(float)\n",
    "\n",
    "\n",
    "resp = resp.rename(columns = {\"AGE AND SEX Estimate Percent Total population\": \"Total population\"})\n",
    "\n",
    "resp[\"0-14 years\"] = resp[\"0-14 years perc\"].astype(float) * resp[\"Total population\"].astype(float) * 0.01\n",
    "resp[\"15-24 years\"] = resp[\"15-24 years perc\"].astype(float) * resp[\"Total population\"].astype(float) * 0.01\n",
    "resp[\"25-34 years\"] = resp[\"25-34 years perc\"].astype(float) * resp[\"Total population\"].astype(float) * 0.01\n",
    "resp[\"35-44 years\"] = resp[\"35-44 years perc\"].astype(float) * resp[\"Total population\"].astype(float) * 0.01\n",
    "resp[\"45-64 years\"] = resp[\"45-64 years perc\"].astype(float) * resp[\"Total population\"].astype(float) * 0.01\n",
    "resp[\"65+ years\"] = resp[\"65+ years perc\"].astype(float) * resp[\"Total population\"].astype(float) * 0.01\n"
   ]
  },
  {
   "cell_type": "code",
   "execution_count": 172,
   "id": "a3fb7be6",
   "metadata": {},
   "outputs": [],
   "source": [
    "cols = [\"location_key\", \"0-14 years perc\", \"15-24 years perc\", \"25-34 years perc\",\n",
    "             \"35-44 years perc\",\"45-64 years perc\",\"65+ years perc\",\n",
    "             \"0-14 years\", \"15-24 years\", \"25-34 years\", \n",
    "             \"35-44 years\",\"45-64 years\",\"65+ years\", \"Total population\"]\n",
    "\n",
    "resp = resp[cols]\n",
    "\n",
    "resp[\"Total population\"] = resp[\"Total population\"].astype(float)"
   ]
  },
  {
   "cell_type": "code",
   "execution_count": 173,
   "id": "f845922f",
   "metadata": {},
   "outputs": [],
   "source": [
    "cv = resp.groupby([\"year\"]).sum()\n",
    "cv[\"0-14 years perc\"] = cv[\"0-14 years\"] / cv[\"Total population\"]\n",
    "cv[\"15-24 years perc\"] = cv[\"15-24 years\"] / cv[\"Total population\"]\n",
    "cv[\"25-34 years perc\"] = cv[\"25-34 years\"] / cv[\"Total population\"]\n",
    "cv[\"35-44 years perc\"] = cv[\"35-44 years\"] / cv[\"Total population\"]\n",
    "cv[\"45-64 years perc\"] = cv[\"45-64 years\"] / cv[\"Total population\"]\n",
    "cv[\"65+ years perc\"] = cv[\"65+ years\"] / cv[\"Total population\"]\n",
    "cv[\"location_key\"] = \"Coachella Valley\"\n",
    "\n",
    "cv = cv[cols]"
   ]
  },
  {
   "cell_type": "code",
   "execution_count": 174,
   "id": "c65997d8",
   "metadata": {},
   "outputs": [
    {
     "data": {
      "text/html": [
       "<div>\n",
       "<style scoped>\n",
       "    .dataframe tbody tr th:only-of-type {\n",
       "        vertical-align: middle;\n",
       "    }\n",
       "\n",
       "    .dataframe tbody tr th {\n",
       "        vertical-align: top;\n",
       "    }\n",
       "\n",
       "    .dataframe thead th {\n",
       "        text-align: right;\n",
       "    }\n",
       "</style>\n",
       "<table border=\"1\" class=\"dataframe\">\n",
       "  <thead>\n",
       "    <tr style=\"text-align: right;\">\n",
       "      <th></th>\n",
       "      <th>location_key</th>\n",
       "      <th>0-14 years perc</th>\n",
       "      <th>15-24 years perc</th>\n",
       "      <th>25-34 years perc</th>\n",
       "      <th>35-44 years perc</th>\n",
       "      <th>45-64 years perc</th>\n",
       "      <th>65+ years perc</th>\n",
       "      <th>0-14 years</th>\n",
       "      <th>15-24 years</th>\n",
       "      <th>25-34 years</th>\n",
       "      <th>35-44 years</th>\n",
       "      <th>45-64 years</th>\n",
       "      <th>65+ years</th>\n",
       "      <th>Total population</th>\n",
       "    </tr>\n",
       "    <tr>\n",
       "      <th>year</th>\n",
       "      <th></th>\n",
       "      <th></th>\n",
       "      <th></th>\n",
       "      <th></th>\n",
       "      <th></th>\n",
       "      <th></th>\n",
       "      <th></th>\n",
       "      <th></th>\n",
       "      <th></th>\n",
       "      <th></th>\n",
       "      <th></th>\n",
       "      <th></th>\n",
       "      <th></th>\n",
       "      <th></th>\n",
       "    </tr>\n",
       "  </thead>\n",
       "  <tbody>\n",
       "    <tr>\n",
       "      <th>2012</th>\n",
       "      <td>cathedral city ca</td>\n",
       "      <td>20.7</td>\n",
       "      <td>16.6</td>\n",
       "      <td>11.5</td>\n",
       "      <td>12.6</td>\n",
       "      <td>24.7</td>\n",
       "      <td>13.7</td>\n",
       "      <td>5312.034</td>\n",
       "      <td>4259.892</td>\n",
       "      <td>2951.13</td>\n",
       "      <td>3233.412</td>\n",
       "      <td>6338.514</td>\n",
       "      <td>3515.694</td>\n",
       "      <td>25662.0</td>\n",
       "    </tr>\n",
       "  </tbody>\n",
       "</table>\n",
       "<p>80 rows × 14 columns</p>\n",
       "</div>"
      ],
      "text/plain": [
       "           location_key  0-14 years perc  15-24 years perc  25-34 years perc  \\\n",
       "year                                                                           \n",
       "2012  cathedral city ca             20.7              16.6              11.5   \n",
       "...                 ...              ...               ...               ...   \n",
       "\n",
       "      35-44 years perc  45-64 years perc  65+ years perc  0-14 years  \\\n",
       "year                                                                   \n",
       "2012              12.6              24.7            13.7    5312.034   \n",
       "...                ...               ...             ...         ...   \n",
       "\n",
       "      15-24 years  25-34 years  35-44 years  45-64 years  65+ years  \\\n",
       "year                                                                  \n",
       "2012     4259.892      2951.13     3233.412     6338.514   3515.694   \n",
       "...           ...          ...          ...          ...        ...   \n",
       "\n",
       "      Total population  \n",
       "year                    \n",
       "2012           25662.0  \n",
       "...                ...  \n",
       "\n",
       "[80 rows x 14 columns]"
      ]
     },
     "execution_count": 174,
     "metadata": {},
     "output_type": "execute_result"
    }
   ],
   "source": [
    "cv\n",
    "\n",
    "together = pd.concat([resp, cv])\n",
    "together"
   ]
  },
  {
   "cell_type": "code",
   "execution_count": 138,
   "id": "fc011f52",
   "metadata": {},
   "outputs": [
    {
     "data": {
      "text/plain": [
       "year\n",
       "2012    25662\n",
       "        ...  \n",
       "Name: Total population, Length: 72, dtype: object"
      ]
     },
     "execution_count": 138,
     "metadata": {},
     "output_type": "execute_result"
    }
   ],
   "source": [
    "resp[\"Total population\"]"
   ]
  },
  {
   "cell_type": "code",
   "execution_count": null,
   "id": "3d555951",
   "metadata": {},
   "outputs": [],
   "source": []
  }
 ],
 "metadata": {
  "kernelspec": {
   "display_name": "lowe",
   "language": "python",
   "name": "lowe"
  },
  "language_info": {
   "codemirror_mode": {
    "name": "ipython",
    "version": 3
   },
   "file_extension": ".py",
   "mimetype": "text/x-python",
   "name": "python",
   "nbconvert_exporter": "python",
   "pygments_lexer": "ipython3",
   "version": "3.9.7"
  }
 },
 "nbformat": 4,
 "nbformat_minor": 5
}
