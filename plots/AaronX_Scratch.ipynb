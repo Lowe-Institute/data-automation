{
 "cells": [
  {
   "cell_type": "code",
   "execution_count": 1,
   "id": "24ac8b75",
   "metadata": {},
   "outputs": [],
   "source": [
    "import pandas as pd\n",
    "from matplotlib import pyplot as plt\n",
    "%matplotlib notebook\n",
    "\n",
    "from lowe.locations.lookup import name2fips, fips2name, search, generate_df_json\n",
    "from lowe.acs.ACSClient import ACSClient"
   ]
  },
  {
   "cell_type": "code",
   "execution_count": 2,
   "id": "92a2486f",
   "metadata": {},
   "outputs": [],
   "source": [
    "cities = ['cathedral city', 'coachella', 'desert hot springs', 'indian wells', 'indio', 'la quinta', 'palm desert', 'palm springs', 'rancho mirage']"
   ]
  },
  {
   "cell_type": "code",
   "execution_count": 3,
   "id": "f68bd256",
   "metadata": {},
   "outputs": [
    {
     "name": "stdout",
     "output_type": "stream",
     "text": [
      "                        name     fips\n",
      "2400  desert hot springs, ca  0618996\n"
     ]
    }
   ],
   "source": [
    "search(query = \"desert hot springs\", codetype = \"city\", search_on = \"name\")"
   ]
  },
  {
   "cell_type": "markdown",
   "id": "f94cd70a",
   "metadata": {},
   "source": [
    "--"
   ]
  },
  {
   "cell_type": "code",
   "execution_count": 4,
   "id": "99c0267b",
   "metadata": {},
   "outputs": [],
   "source": [
    "loc = {\n",
    "    \"state\": \"06\",\n",
    "    \"city\": \"18996\"\n",
    "}"
   ]
  },
  {
   "cell_type": "code",
   "execution_count": 5,
   "id": "525eb944",
   "metadata": {},
   "outputs": [
    {
     "data": {
      "text/plain": [
       "{'city': '0618996', 'state': '06'}"
      ]
     },
     "execution_count": 5,
     "metadata": {},
     "output_type": "execute_result"
    }
   ],
   "source": [
    "namedict = fips2name(loc)\n",
    "name2fips(namedict)"
   ]
  },
  {
   "cell_type": "code",
   "execution_count": 6,
   "id": "0308b8f9",
   "metadata": {},
   "outputs": [],
   "source": [
    "temp_client = ACSClient()\n",
    "await temp_client.initialize()"
   ]
  },
  {
   "cell_type": "code",
   "execution_count": 12,
   "id": "4dddc033",
   "metadata": {},
   "outputs": [],
   "source": [
    "temp_resp = await temp_client.get_acs(vars = [\"S1901\"],\n",
    "                     start_year=\"2019\",\n",
    "                     end_year=\"2019\",\n",
    "                     location=loc,\n",
    "                     estimate=\"5\")"
   ]
  },
  {
   "cell_type": "code",
   "execution_count": 14,
   "id": "c3299320",
   "metadata": {},
   "outputs": [
    {
     "data": {
      "text/plain": [
       "year\n",
       "2019    10476\n",
       "Name: INCOME IN THE PAST 12 MONTHS (IN 2019 INFLATION-ADJUSTED DOLLARS) Estimate Households Total, dtype: object"
      ]
     },
     "execution_count": 14,
     "metadata": {},
     "output_type": "execute_result"
    }
   ],
   "source": [
    "temp_resp[\"INCOME IN THE PAST 12 MONTHS (IN 2019 INFLATION-ADJUSTED DOLLARS) Estimate Households Total\"]"
   ]
  },
  {
   "cell_type": "code",
   "execution_count": 9,
   "id": "0c7a6c3c",
   "metadata": {
    "scrolled": false
   },
   "outputs": [
    {
     "name": "stdout",
     "output_type": "stream",
     "text": [
      "INCOME IN THE PAST 12 MONTHS (IN 2019 INFLATION-ADJUSTED DOLLARS) Estimate Families Mean income (dollars)\n",
      "INCOME IN THE PAST 12 MONTHS (IN 2019 INFLATION-ADJUSTED DOLLARS) Estimate Families Median income (dollars)\n",
      "INCOME IN THE PAST 12 MONTHS (IN 2019 INFLATION-ADJUSTED DOLLARS) Estimate Families PERCENT ALLOCATED Family income in the past 12 months\n",
      "INCOME IN THE PAST 12 MONTHS (IN 2019 INFLATION-ADJUSTED DOLLARS) Estimate Families PERCENT ALLOCATED Household income in the past 12 months\n",
      "INCOME IN THE PAST 12 MONTHS (IN 2019 INFLATION-ADJUSTED DOLLARS) Estimate Families PERCENT ALLOCATED Nonfamily income in the past 12 months\n",
      "INCOME IN THE PAST 12 MONTHS (IN 2019 INFLATION-ADJUSTED DOLLARS) Estimate Families Total\n",
      "INCOME IN THE PAST 12 MONTHS (IN 2019 INFLATION-ADJUSTED DOLLARS) Estimate Families Total $10,000 to $14,999\n",
      "INCOME IN THE PAST 12 MONTHS (IN 2019 INFLATION-ADJUSTED DOLLARS) Estimate Families Total $100,000 to $149,999\n",
      "INCOME IN THE PAST 12 MONTHS (IN 2019 INFLATION-ADJUSTED DOLLARS) Estimate Families Total $15,000 to $24,999\n",
      "INCOME IN THE PAST 12 MONTHS (IN 2019 INFLATION-ADJUSTED DOLLARS) Estimate Families Total $150,000 to $199,999\n",
      "INCOME IN THE PAST 12 MONTHS (IN 2019 INFLATION-ADJUSTED DOLLARS) Estimate Families Total $200,000 or more\n",
      "INCOME IN THE PAST 12 MONTHS (IN 2019 INFLATION-ADJUSTED DOLLARS) Estimate Families Total $25,000 to $34,999\n",
      "INCOME IN THE PAST 12 MONTHS (IN 2019 INFLATION-ADJUSTED DOLLARS) Estimate Families Total $35,000 to $49,999\n",
      "INCOME IN THE PAST 12 MONTHS (IN 2019 INFLATION-ADJUSTED DOLLARS) Estimate Families Total $50,000 to $74,999\n",
      "INCOME IN THE PAST 12 MONTHS (IN 2019 INFLATION-ADJUSTED DOLLARS) Estimate Families Total $75,000 to $99,999\n",
      "INCOME IN THE PAST 12 MONTHS (IN 2019 INFLATION-ADJUSTED DOLLARS) Estimate Families Total Less than $10,000\n",
      "INCOME IN THE PAST 12 MONTHS (IN 2019 INFLATION-ADJUSTED DOLLARS) Estimate Households Mean income (dollars)\n",
      "INCOME IN THE PAST 12 MONTHS (IN 2019 INFLATION-ADJUSTED DOLLARS) Estimate Households Median income (dollars)\n",
      "INCOME IN THE PAST 12 MONTHS (IN 2019 INFLATION-ADJUSTED DOLLARS) Estimate Households PERCENT ALLOCATED Family income in the past 12 months\n",
      "INCOME IN THE PAST 12 MONTHS (IN 2019 INFLATION-ADJUSTED DOLLARS) Estimate Households PERCENT ALLOCATED Household income in the past 12 months\n",
      "INCOME IN THE PAST 12 MONTHS (IN 2019 INFLATION-ADJUSTED DOLLARS) Estimate Households PERCENT ALLOCATED Nonfamily income in the past 12 months\n",
      "INCOME IN THE PAST 12 MONTHS (IN 2019 INFLATION-ADJUSTED DOLLARS) Estimate Households Total\n",
      "INCOME IN THE PAST 12 MONTHS (IN 2019 INFLATION-ADJUSTED DOLLARS) Estimate Households Total $10,000 to $14,999\n",
      "INCOME IN THE PAST 12 MONTHS (IN 2019 INFLATION-ADJUSTED DOLLARS) Estimate Households Total $100,000 to $149,999\n",
      "INCOME IN THE PAST 12 MONTHS (IN 2019 INFLATION-ADJUSTED DOLLARS) Estimate Households Total $15,000 to $24,999\n",
      "INCOME IN THE PAST 12 MONTHS (IN 2019 INFLATION-ADJUSTED DOLLARS) Estimate Households Total $150,000 to $199,999\n",
      "INCOME IN THE PAST 12 MONTHS (IN 2019 INFLATION-ADJUSTED DOLLARS) Estimate Households Total $200,000 or more\n",
      "INCOME IN THE PAST 12 MONTHS (IN 2019 INFLATION-ADJUSTED DOLLARS) Estimate Households Total $25,000 to $34,999\n",
      "INCOME IN THE PAST 12 MONTHS (IN 2019 INFLATION-ADJUSTED DOLLARS) Estimate Households Total $35,000 to $49,999\n",
      "INCOME IN THE PAST 12 MONTHS (IN 2019 INFLATION-ADJUSTED DOLLARS) Estimate Households Total $50,000 to $74,999\n",
      "INCOME IN THE PAST 12 MONTHS (IN 2019 INFLATION-ADJUSTED DOLLARS) Estimate Households Total $75,000 to $99,999\n",
      "INCOME IN THE PAST 12 MONTHS (IN 2019 INFLATION-ADJUSTED DOLLARS) Estimate Households Total Less than $10,000\n",
      "INCOME IN THE PAST 12 MONTHS (IN 2019 INFLATION-ADJUSTED DOLLARS) Estimate Married-couple families Mean income (dollars)\n",
      "INCOME IN THE PAST 12 MONTHS (IN 2019 INFLATION-ADJUSTED DOLLARS) Estimate Married-couple families Median income (dollars)\n",
      "INCOME IN THE PAST 12 MONTHS (IN 2019 INFLATION-ADJUSTED DOLLARS) Estimate Married-couple families PERCENT ALLOCATED Family income in the past 12 months\n",
      "INCOME IN THE PAST 12 MONTHS (IN 2019 INFLATION-ADJUSTED DOLLARS) Estimate Married-couple families PERCENT ALLOCATED Household income in the past 12 months\n",
      "INCOME IN THE PAST 12 MONTHS (IN 2019 INFLATION-ADJUSTED DOLLARS) Estimate Married-couple families PERCENT ALLOCATED Nonfamily income in the past 12 months\n",
      "INCOME IN THE PAST 12 MONTHS (IN 2019 INFLATION-ADJUSTED DOLLARS) Estimate Married-couple families Total\n",
      "INCOME IN THE PAST 12 MONTHS (IN 2019 INFLATION-ADJUSTED DOLLARS) Estimate Married-couple families Total $10,000 to $14,999\n",
      "INCOME IN THE PAST 12 MONTHS (IN 2019 INFLATION-ADJUSTED DOLLARS) Estimate Married-couple families Total $100,000 to $149,999\n",
      "INCOME IN THE PAST 12 MONTHS (IN 2019 INFLATION-ADJUSTED DOLLARS) Estimate Married-couple families Total $15,000 to $24,999\n",
      "INCOME IN THE PAST 12 MONTHS (IN 2019 INFLATION-ADJUSTED DOLLARS) Estimate Married-couple families Total $150,000 to $199,999\n",
      "INCOME IN THE PAST 12 MONTHS (IN 2019 INFLATION-ADJUSTED DOLLARS) Estimate Married-couple families Total $200,000 or more\n",
      "INCOME IN THE PAST 12 MONTHS (IN 2019 INFLATION-ADJUSTED DOLLARS) Estimate Married-couple families Total $25,000 to $34,999\n",
      "INCOME IN THE PAST 12 MONTHS (IN 2019 INFLATION-ADJUSTED DOLLARS) Estimate Married-couple families Total $35,000 to $49,999\n",
      "INCOME IN THE PAST 12 MONTHS (IN 2019 INFLATION-ADJUSTED DOLLARS) Estimate Married-couple families Total $50,000 to $74,999\n",
      "INCOME IN THE PAST 12 MONTHS (IN 2019 INFLATION-ADJUSTED DOLLARS) Estimate Married-couple families Total $75,000 to $99,999\n",
      "INCOME IN THE PAST 12 MONTHS (IN 2019 INFLATION-ADJUSTED DOLLARS) Estimate Married-couple families Total Less than $10,000\n",
      "INCOME IN THE PAST 12 MONTHS (IN 2019 INFLATION-ADJUSTED DOLLARS) Estimate Nonfamily households Mean income (dollars)\n",
      "INCOME IN THE PAST 12 MONTHS (IN 2019 INFLATION-ADJUSTED DOLLARS) Estimate Nonfamily households Median income (dollars)\n",
      "INCOME IN THE PAST 12 MONTHS (IN 2019 INFLATION-ADJUSTED DOLLARS) Estimate Nonfamily households PERCENT ALLOCATED Family income in the past 12 months\n",
      "INCOME IN THE PAST 12 MONTHS (IN 2019 INFLATION-ADJUSTED DOLLARS) Estimate Nonfamily households PERCENT ALLOCATED Household income in the past 12 months\n",
      "INCOME IN THE PAST 12 MONTHS (IN 2019 INFLATION-ADJUSTED DOLLARS) Estimate Nonfamily households PERCENT ALLOCATED Nonfamily income in the past 12 months\n",
      "INCOME IN THE PAST 12 MONTHS (IN 2019 INFLATION-ADJUSTED DOLLARS) Estimate Nonfamily households Total\n",
      "INCOME IN THE PAST 12 MONTHS (IN 2019 INFLATION-ADJUSTED DOLLARS) Estimate Nonfamily households Total $10,000 to $14,999\n",
      "INCOME IN THE PAST 12 MONTHS (IN 2019 INFLATION-ADJUSTED DOLLARS) Estimate Nonfamily households Total $100,000 to $149,999\n",
      "INCOME IN THE PAST 12 MONTHS (IN 2019 INFLATION-ADJUSTED DOLLARS) Estimate Nonfamily households Total $15,000 to $24,999\n",
      "INCOME IN THE PAST 12 MONTHS (IN 2019 INFLATION-ADJUSTED DOLLARS) Estimate Nonfamily households Total $150,000 to $199,999\n",
      "INCOME IN THE PAST 12 MONTHS (IN 2019 INFLATION-ADJUSTED DOLLARS) Estimate Nonfamily households Total $200,000 or more\n",
      "INCOME IN THE PAST 12 MONTHS (IN 2019 INFLATION-ADJUSTED DOLLARS) Estimate Nonfamily households Total $25,000 to $34,999\n",
      "INCOME IN THE PAST 12 MONTHS (IN 2019 INFLATION-ADJUSTED DOLLARS) Estimate Nonfamily households Total $35,000 to $49,999\n",
      "INCOME IN THE PAST 12 MONTHS (IN 2019 INFLATION-ADJUSTED DOLLARS) Estimate Nonfamily households Total $50,000 to $74,999\n",
      "INCOME IN THE PAST 12 MONTHS (IN 2019 INFLATION-ADJUSTED DOLLARS) Estimate Nonfamily households Total $75,000 to $99,999\n",
      "INCOME IN THE PAST 12 MONTHS (IN 2019 INFLATION-ADJUSTED DOLLARS) Estimate Nonfamily households Total Less than $10,000\n",
      "city\n",
      "state\n",
      "location_key\n"
     ]
    }
   ],
   "source": [
    "for col in list(temp_resp.columns):\n",
    "    print(col)"
   ]
  },
  {
   "cell_type": "code",
   "execution_count": 10,
   "id": "f0ae641a",
   "metadata": {},
   "outputs": [],
   "source": [
    "temp_resp = await temp_client.get_acs(vars = [\"DP05\"],\n",
    "                     start_year=\"2019\",\n",
    "                     end_year=\"2019\",\n",
    "                     location=loc,\n",
    "                     estimate=\"5\")"
   ]
  },
  {
   "cell_type": "code",
   "execution_count": 11,
   "id": "8ab75afc",
   "metadata": {
    "scrolled": false
   },
   "outputs": [
    {
     "name": "stdout",
     "output_type": "stream",
     "text": [
      "ACS DEMOGRAPHIC AND HOUSING ESTIMATES Estimate CITIZEN, VOTING AGE POPULATION Citizen, 18 and over population Female\n",
      "ACS DEMOGRAPHIC AND HOUSING ESTIMATES Estimate CITIZEN, VOTING AGE POPULATION Citizen, 18 and over population Male\n",
      "ACS DEMOGRAPHIC AND HOUSING ESTIMATES Estimate HISPANIC OR LATINO AND RACE Total population\n",
      "ACS DEMOGRAPHIC AND HOUSING ESTIMATES Estimate HISPANIC OR LATINO AND RACE Total population Hispanic or Latino (of any race)\n",
      "ACS DEMOGRAPHIC AND HOUSING ESTIMATES Estimate HISPANIC OR LATINO AND RACE Total population Hispanic or Latino (of any race) Cuban\n",
      "ACS DEMOGRAPHIC AND HOUSING ESTIMATES Estimate HISPANIC OR LATINO AND RACE Total population Hispanic or Latino (of any race) Mexican\n",
      "ACS DEMOGRAPHIC AND HOUSING ESTIMATES Estimate HISPANIC OR LATINO AND RACE Total population Hispanic or Latino (of any race) Other Hispanic or Latino\n",
      "ACS DEMOGRAPHIC AND HOUSING ESTIMATES Estimate HISPANIC OR LATINO AND RACE Total population Hispanic or Latino (of any race) Puerto Rican\n",
      "ACS DEMOGRAPHIC AND HOUSING ESTIMATES Estimate HISPANIC OR LATINO AND RACE Total population Not Hispanic or Latino\n",
      "ACS DEMOGRAPHIC AND HOUSING ESTIMATES Estimate HISPANIC OR LATINO AND RACE Total population Not Hispanic or Latino American Indian and Alaska Native alone\n",
      "ACS DEMOGRAPHIC AND HOUSING ESTIMATES Estimate HISPANIC OR LATINO AND RACE Total population Not Hispanic or Latino Asian alone\n",
      "ACS DEMOGRAPHIC AND HOUSING ESTIMATES Estimate HISPANIC OR LATINO AND RACE Total population Not Hispanic or Latino Black or African American alone\n",
      "ACS DEMOGRAPHIC AND HOUSING ESTIMATES Estimate HISPANIC OR LATINO AND RACE Total population Not Hispanic or Latino Native Hawaiian and Other Pacific Islander alone\n",
      "ACS DEMOGRAPHIC AND HOUSING ESTIMATES Estimate HISPANIC OR LATINO AND RACE Total population Not Hispanic or Latino Some other race alone\n",
      "ACS DEMOGRAPHIC AND HOUSING ESTIMATES Estimate HISPANIC OR LATINO AND RACE Total population Not Hispanic or Latino Two or more races\n",
      "ACS DEMOGRAPHIC AND HOUSING ESTIMATES Estimate HISPANIC OR LATINO AND RACE Total population Not Hispanic or Latino Two or more races Two races excluding Some other race, and Three or more races\n",
      "ACS DEMOGRAPHIC AND HOUSING ESTIMATES Estimate HISPANIC OR LATINO AND RACE Total population Not Hispanic or Latino Two or more races Two races including Some other race\n",
      "ACS DEMOGRAPHIC AND HOUSING ESTIMATES Estimate HISPANIC OR LATINO AND RACE Total population Not Hispanic or Latino White alone\n",
      "ACS DEMOGRAPHIC AND HOUSING ESTIMATES Estimate RACE Total population\n",
      "ACS DEMOGRAPHIC AND HOUSING ESTIMATES Estimate RACE Total population One race\n",
      "ACS DEMOGRAPHIC AND HOUSING ESTIMATES Estimate RACE Total population One race American Indian and Alaska Native\n",
      "ACS DEMOGRAPHIC AND HOUSING ESTIMATES Estimate RACE Total population One race American Indian and Alaska Native Cherokee tribal grouping\n",
      "ACS DEMOGRAPHIC AND HOUSING ESTIMATES Estimate RACE Total population One race American Indian and Alaska Native Chippewa tribal grouping\n",
      "ACS DEMOGRAPHIC AND HOUSING ESTIMATES Estimate RACE Total population One race American Indian and Alaska Native Navajo tribal grouping\n",
      "ACS DEMOGRAPHIC AND HOUSING ESTIMATES Estimate RACE Total population One race American Indian and Alaska Native Sioux tribal grouping\n",
      "ACS DEMOGRAPHIC AND HOUSING ESTIMATES Estimate RACE Total population One race Asian\n",
      "ACS DEMOGRAPHIC AND HOUSING ESTIMATES Estimate RACE Total population One race Asian Asian Indian\n",
      "ACS DEMOGRAPHIC AND HOUSING ESTIMATES Estimate RACE Total population One race Asian Chinese\n",
      "ACS DEMOGRAPHIC AND HOUSING ESTIMATES Estimate RACE Total population One race Asian Filipino\n",
      "ACS DEMOGRAPHIC AND HOUSING ESTIMATES Estimate RACE Total population One race Asian Japanese\n",
      "ACS DEMOGRAPHIC AND HOUSING ESTIMATES Estimate RACE Total population One race Asian Korean\n",
      "ACS DEMOGRAPHIC AND HOUSING ESTIMATES Estimate RACE Total population One race Asian Other Asian\n",
      "ACS DEMOGRAPHIC AND HOUSING ESTIMATES Estimate RACE Total population One race Asian Vietnamese\n",
      "ACS DEMOGRAPHIC AND HOUSING ESTIMATES Estimate RACE Total population One race Black or African American\n",
      "ACS DEMOGRAPHIC AND HOUSING ESTIMATES Estimate RACE Total population One race Native Hawaiian and Other Pacific Islander\n",
      "ACS DEMOGRAPHIC AND HOUSING ESTIMATES Estimate RACE Total population One race Native Hawaiian and Other Pacific Islander Guamanian or Chamorro\n",
      "ACS DEMOGRAPHIC AND HOUSING ESTIMATES Estimate RACE Total population One race Native Hawaiian and Other Pacific Islander Native Hawaiian\n",
      "ACS DEMOGRAPHIC AND HOUSING ESTIMATES Estimate RACE Total population One race Native Hawaiian and Other Pacific Islander Other Pacific Islander\n",
      "ACS DEMOGRAPHIC AND HOUSING ESTIMATES Estimate RACE Total population One race Native Hawaiian and Other Pacific Islander Samoan\n",
      "ACS DEMOGRAPHIC AND HOUSING ESTIMATES Estimate RACE Total population One race Some other race\n",
      "ACS DEMOGRAPHIC AND HOUSING ESTIMATES Estimate RACE Total population One race White\n",
      "ACS DEMOGRAPHIC AND HOUSING ESTIMATES Estimate RACE Total population Two or more races\n",
      "ACS DEMOGRAPHIC AND HOUSING ESTIMATES Estimate RACE Total population Two or more races Black or African American and American Indian and Alaska Native\n",
      "ACS DEMOGRAPHIC AND HOUSING ESTIMATES Estimate RACE Total population Two or more races White and American Indian and Alaska Native\n",
      "ACS DEMOGRAPHIC AND HOUSING ESTIMATES Estimate RACE Total population Two or more races White and Asian\n",
      "ACS DEMOGRAPHIC AND HOUSING ESTIMATES Estimate RACE Total population Two or more races White and Black or African American\n",
      "ACS DEMOGRAPHIC AND HOUSING ESTIMATES Estimate Race alone or in combination with one or more other races Total population\n",
      "ACS DEMOGRAPHIC AND HOUSING ESTIMATES Estimate Race alone or in combination with one or more other races Total population American Indian and Alaska Native\n",
      "ACS DEMOGRAPHIC AND HOUSING ESTIMATES Estimate Race alone or in combination with one or more other races Total population Asian\n",
      "ACS DEMOGRAPHIC AND HOUSING ESTIMATES Estimate Race alone or in combination with one or more other races Total population Black or African American\n",
      "ACS DEMOGRAPHIC AND HOUSING ESTIMATES Estimate Race alone or in combination with one or more other races Total population Native Hawaiian and Other Pacific Islander\n",
      "ACS DEMOGRAPHIC AND HOUSING ESTIMATES Estimate Race alone or in combination with one or more other races Total population Some other race\n",
      "ACS DEMOGRAPHIC AND HOUSING ESTIMATES Estimate Race alone or in combination with one or more other races Total population White\n",
      "ACS DEMOGRAPHIC AND HOUSING ESTIMATES Estimate SEX AND AGE Total population\n",
      "ACS DEMOGRAPHIC AND HOUSING ESTIMATES Estimate SEX AND AGE Total population 10 to 14 years\n",
      "ACS DEMOGRAPHIC AND HOUSING ESTIMATES Estimate SEX AND AGE Total population 15 to 19 years\n",
      "ACS DEMOGRAPHIC AND HOUSING ESTIMATES Estimate SEX AND AGE Total population 16 years and over\n",
      "ACS DEMOGRAPHIC AND HOUSING ESTIMATES Estimate SEX AND AGE Total population 18 years and over\n",
      "ACS DEMOGRAPHIC AND HOUSING ESTIMATES Estimate SEX AND AGE Total population 18 years and over Female\n",
      "ACS DEMOGRAPHIC AND HOUSING ESTIMATES Estimate SEX AND AGE Total population 18 years and over Male\n",
      "ACS DEMOGRAPHIC AND HOUSING ESTIMATES Estimate SEX AND AGE Total population 18 years and over Sex ratio (males per 100 females)\n",
      "ACS DEMOGRAPHIC AND HOUSING ESTIMATES Estimate SEX AND AGE Total population 20 to 24 years\n",
      "ACS DEMOGRAPHIC AND HOUSING ESTIMATES Estimate SEX AND AGE Total population 21 years and over\n",
      "ACS DEMOGRAPHIC AND HOUSING ESTIMATES Estimate SEX AND AGE Total population 25 to 34 years\n",
      "ACS DEMOGRAPHIC AND HOUSING ESTIMATES Estimate SEX AND AGE Total population 35 to 44 years\n",
      "ACS DEMOGRAPHIC AND HOUSING ESTIMATES Estimate SEX AND AGE Total population 45 to 54 years\n",
      "ACS DEMOGRAPHIC AND HOUSING ESTIMATES Estimate SEX AND AGE Total population 5 to 9 years\n",
      "ACS DEMOGRAPHIC AND HOUSING ESTIMATES Estimate SEX AND AGE Total population 55 to 59 years\n",
      "ACS DEMOGRAPHIC AND HOUSING ESTIMATES Estimate SEX AND AGE Total population 60 to 64 years\n",
      "ACS DEMOGRAPHIC AND HOUSING ESTIMATES Estimate SEX AND AGE Total population 62 years and over\n",
      "ACS DEMOGRAPHIC AND HOUSING ESTIMATES Estimate SEX AND AGE Total population 65 to 74 years\n",
      "ACS DEMOGRAPHIC AND HOUSING ESTIMATES Estimate SEX AND AGE Total population 65 years and over\n",
      "ACS DEMOGRAPHIC AND HOUSING ESTIMATES Estimate SEX AND AGE Total population 65 years and over Female\n",
      "ACS DEMOGRAPHIC AND HOUSING ESTIMATES Estimate SEX AND AGE Total population 65 years and over Male\n",
      "ACS DEMOGRAPHIC AND HOUSING ESTIMATES Estimate SEX AND AGE Total population 65 years and over Sex ratio (males per 100 females)\n",
      "ACS DEMOGRAPHIC AND HOUSING ESTIMATES Estimate SEX AND AGE Total population 75 to 84 years\n",
      "ACS DEMOGRAPHIC AND HOUSING ESTIMATES Estimate SEX AND AGE Total population 85 years and over\n",
      "ACS DEMOGRAPHIC AND HOUSING ESTIMATES Estimate SEX AND AGE Total population Female\n",
      "ACS DEMOGRAPHIC AND HOUSING ESTIMATES Estimate SEX AND AGE Total population Male\n",
      "ACS DEMOGRAPHIC AND HOUSING ESTIMATES Estimate SEX AND AGE Total population Median age (years)\n",
      "ACS DEMOGRAPHIC AND HOUSING ESTIMATES Estimate SEX AND AGE Total population Sex ratio (males per 100 females)\n",
      "ACS DEMOGRAPHIC AND HOUSING ESTIMATES Estimate SEX AND AGE Total population Under 18 years\n",
      "ACS DEMOGRAPHIC AND HOUSING ESTIMATES Estimate SEX AND AGE Total population Under 5 years\n",
      "ACS DEMOGRAPHIC AND HOUSING ESTIMATES Estimate Total housing units\n",
      "ACS DEMOGRAPHIC AND HOUSING ESTIMATES Percent CITIZEN, VOTING AGE POPULATION Citizen, 18 and over population\n",
      "ACS DEMOGRAPHIC AND HOUSING ESTIMATES Percent CITIZEN, VOTING AGE POPULATION Citizen, 18 and over population Female\n",
      "ACS DEMOGRAPHIC AND HOUSING ESTIMATES Percent CITIZEN, VOTING AGE POPULATION Citizen, 18 and over population Male\n",
      "ACS DEMOGRAPHIC AND HOUSING ESTIMATES Percent HISPANIC OR LATINO AND RACE Total population\n",
      "ACS DEMOGRAPHIC AND HOUSING ESTIMATES Percent HISPANIC OR LATINO AND RACE Total population Hispanic or Latino (of any race)\n",
      "ACS DEMOGRAPHIC AND HOUSING ESTIMATES Percent HISPANIC OR LATINO AND RACE Total population Hispanic or Latino (of any race) Cuban\n",
      "ACS DEMOGRAPHIC AND HOUSING ESTIMATES Percent HISPANIC OR LATINO AND RACE Total population Hispanic or Latino (of any race) Mexican\n",
      "ACS DEMOGRAPHIC AND HOUSING ESTIMATES Percent HISPANIC OR LATINO AND RACE Total population Hispanic or Latino (of any race) Other Hispanic or Latino\n",
      "ACS DEMOGRAPHIC AND HOUSING ESTIMATES Percent HISPANIC OR LATINO AND RACE Total population Hispanic or Latino (of any race) Puerto Rican\n",
      "ACS DEMOGRAPHIC AND HOUSING ESTIMATES Percent HISPANIC OR LATINO AND RACE Total population Not Hispanic or Latino\n",
      "ACS DEMOGRAPHIC AND HOUSING ESTIMATES Percent HISPANIC OR LATINO AND RACE Total population Not Hispanic or Latino American Indian and Alaska Native alone\n",
      "ACS DEMOGRAPHIC AND HOUSING ESTIMATES Percent HISPANIC OR LATINO AND RACE Total population Not Hispanic or Latino Asian alone\n",
      "ACS DEMOGRAPHIC AND HOUSING ESTIMATES Percent HISPANIC OR LATINO AND RACE Total population Not Hispanic or Latino Black or African American alone\n",
      "ACS DEMOGRAPHIC AND HOUSING ESTIMATES Percent HISPANIC OR LATINO AND RACE Total population Not Hispanic or Latino Native Hawaiian and Other Pacific Islander alone\n",
      "ACS DEMOGRAPHIC AND HOUSING ESTIMATES Percent HISPANIC OR LATINO AND RACE Total population Not Hispanic or Latino Some other race alone\n",
      "ACS DEMOGRAPHIC AND HOUSING ESTIMATES Percent HISPANIC OR LATINO AND RACE Total population Not Hispanic or Latino Two or more races\n",
      "ACS DEMOGRAPHIC AND HOUSING ESTIMATES Percent HISPANIC OR LATINO AND RACE Total population Not Hispanic or Latino Two or more races Two races excluding Some other race, and Three or more races\n",
      "ACS DEMOGRAPHIC AND HOUSING ESTIMATES Percent HISPANIC OR LATINO AND RACE Total population Not Hispanic or Latino Two or more races Two races including Some other race\n",
      "ACS DEMOGRAPHIC AND HOUSING ESTIMATES Percent HISPANIC OR LATINO AND RACE Total population Not Hispanic or Latino White alone\n",
      "ACS DEMOGRAPHIC AND HOUSING ESTIMATES Percent RACE Total population\n",
      "ACS DEMOGRAPHIC AND HOUSING ESTIMATES Percent RACE Total population One race\n",
      "ACS DEMOGRAPHIC AND HOUSING ESTIMATES Percent RACE Total population One race American Indian and Alaska Native\n",
      "ACS DEMOGRAPHIC AND HOUSING ESTIMATES Percent RACE Total population One race American Indian and Alaska Native Cherokee tribal grouping\n",
      "ACS DEMOGRAPHIC AND HOUSING ESTIMATES Percent RACE Total population One race American Indian and Alaska Native Chippewa tribal grouping\n",
      "ACS DEMOGRAPHIC AND HOUSING ESTIMATES Percent RACE Total population One race American Indian and Alaska Native Navajo tribal grouping\n",
      "ACS DEMOGRAPHIC AND HOUSING ESTIMATES Percent RACE Total population One race American Indian and Alaska Native Sioux tribal grouping\n",
      "ACS DEMOGRAPHIC AND HOUSING ESTIMATES Percent RACE Total population One race Asian\n",
      "ACS DEMOGRAPHIC AND HOUSING ESTIMATES Percent RACE Total population One race Asian Asian Indian\n",
      "ACS DEMOGRAPHIC AND HOUSING ESTIMATES Percent RACE Total population One race Asian Chinese\n",
      "ACS DEMOGRAPHIC AND HOUSING ESTIMATES Percent RACE Total population One race Asian Filipino\n",
      "ACS DEMOGRAPHIC AND HOUSING ESTIMATES Percent RACE Total population One race Asian Japanese\n",
      "ACS DEMOGRAPHIC AND HOUSING ESTIMATES Percent RACE Total population One race Asian Korean\n",
      "ACS DEMOGRAPHIC AND HOUSING ESTIMATES Percent RACE Total population One race Asian Other Asian\n",
      "ACS DEMOGRAPHIC AND HOUSING ESTIMATES Percent RACE Total population One race Asian Vietnamese\n",
      "ACS DEMOGRAPHIC AND HOUSING ESTIMATES Percent RACE Total population One race Black or African American\n",
      "ACS DEMOGRAPHIC AND HOUSING ESTIMATES Percent RACE Total population One race Native Hawaiian and Other Pacific Islander\n",
      "ACS DEMOGRAPHIC AND HOUSING ESTIMATES Percent RACE Total population One race Native Hawaiian and Other Pacific Islander Guamanian or Chamorro\n",
      "ACS DEMOGRAPHIC AND HOUSING ESTIMATES Percent RACE Total population One race Native Hawaiian and Other Pacific Islander Native Hawaiian\n",
      "ACS DEMOGRAPHIC AND HOUSING ESTIMATES Percent RACE Total population One race Native Hawaiian and Other Pacific Islander Other Pacific Islander\n",
      "ACS DEMOGRAPHIC AND HOUSING ESTIMATES Percent RACE Total population One race Native Hawaiian and Other Pacific Islander Samoan\n",
      "ACS DEMOGRAPHIC AND HOUSING ESTIMATES Percent RACE Total population One race Some other race\n",
      "ACS DEMOGRAPHIC AND HOUSING ESTIMATES Percent RACE Total population One race White\n",
      "ACS DEMOGRAPHIC AND HOUSING ESTIMATES Percent RACE Total population Two or more races\n",
      "ACS DEMOGRAPHIC AND HOUSING ESTIMATES Percent RACE Total population Two or more races Black or African American and American Indian and Alaska Native\n",
      "ACS DEMOGRAPHIC AND HOUSING ESTIMATES Percent RACE Total population Two or more races White and American Indian and Alaska Native\n",
      "ACS DEMOGRAPHIC AND HOUSING ESTIMATES Percent RACE Total population Two or more races White and Asian\n",
      "ACS DEMOGRAPHIC AND HOUSING ESTIMATES Percent RACE Total population Two or more races White and Black or African American\n",
      "ACS DEMOGRAPHIC AND HOUSING ESTIMATES Percent Race alone or in combination with one or more other races Total population\n",
      "ACS DEMOGRAPHIC AND HOUSING ESTIMATES Percent Race alone or in combination with one or more other races Total population American Indian and Alaska Native\n",
      "ACS DEMOGRAPHIC AND HOUSING ESTIMATES Percent Race alone or in combination with one or more other races Total population Asian\n",
      "ACS DEMOGRAPHIC AND HOUSING ESTIMATES Percent Race alone or in combination with one or more other races Total population Black or African American\n",
      "ACS DEMOGRAPHIC AND HOUSING ESTIMATES Percent Race alone or in combination with one or more other races Total population Native Hawaiian and Other Pacific Islander\n",
      "ACS DEMOGRAPHIC AND HOUSING ESTIMATES Percent Race alone or in combination with one or more other races Total population Some other race\n",
      "ACS DEMOGRAPHIC AND HOUSING ESTIMATES Percent Race alone or in combination with one or more other races Total population White\n",
      "ACS DEMOGRAPHIC AND HOUSING ESTIMATES Percent SEX AND AGE Total population\n",
      "ACS DEMOGRAPHIC AND HOUSING ESTIMATES Percent SEX AND AGE Total population 10 to 14 years\n",
      "ACS DEMOGRAPHIC AND HOUSING ESTIMATES Percent SEX AND AGE Total population 15 to 19 years\n",
      "ACS DEMOGRAPHIC AND HOUSING ESTIMATES Percent SEX AND AGE Total population 16 years and over\n",
      "ACS DEMOGRAPHIC AND HOUSING ESTIMATES Percent SEX AND AGE Total population 18 years and over\n",
      "ACS DEMOGRAPHIC AND HOUSING ESTIMATES Percent SEX AND AGE Total population 18 years and over Female\n",
      "ACS DEMOGRAPHIC AND HOUSING ESTIMATES Percent SEX AND AGE Total population 18 years and over Male\n",
      "ACS DEMOGRAPHIC AND HOUSING ESTIMATES Percent SEX AND AGE Total population 18 years and over Sex ratio (males per 100 females)\n",
      "ACS DEMOGRAPHIC AND HOUSING ESTIMATES Percent SEX AND AGE Total population 20 to 24 years\n",
      "ACS DEMOGRAPHIC AND HOUSING ESTIMATES Percent SEX AND AGE Total population 21 years and over\n",
      "ACS DEMOGRAPHIC AND HOUSING ESTIMATES Percent SEX AND AGE Total population 25 to 34 years\n",
      "ACS DEMOGRAPHIC AND HOUSING ESTIMATES Percent SEX AND AGE Total population 35 to 44 years\n",
      "ACS DEMOGRAPHIC AND HOUSING ESTIMATES Percent SEX AND AGE Total population 45 to 54 years\n",
      "ACS DEMOGRAPHIC AND HOUSING ESTIMATES Percent SEX AND AGE Total population 5 to 9 years\n",
      "ACS DEMOGRAPHIC AND HOUSING ESTIMATES Percent SEX AND AGE Total population 55 to 59 years\n",
      "ACS DEMOGRAPHIC AND HOUSING ESTIMATES Percent SEX AND AGE Total population 60 to 64 years\n",
      "ACS DEMOGRAPHIC AND HOUSING ESTIMATES Percent SEX AND AGE Total population 62 years and over\n",
      "ACS DEMOGRAPHIC AND HOUSING ESTIMATES Percent SEX AND AGE Total population 65 to 74 years\n",
      "ACS DEMOGRAPHIC AND HOUSING ESTIMATES Percent SEX AND AGE Total population 65 years and over\n",
      "ACS DEMOGRAPHIC AND HOUSING ESTIMATES Percent SEX AND AGE Total population 65 years and over Female\n",
      "ACS DEMOGRAPHIC AND HOUSING ESTIMATES Percent SEX AND AGE Total population 65 years and over Male\n",
      "ACS DEMOGRAPHIC AND HOUSING ESTIMATES Percent SEX AND AGE Total population 65 years and over Sex ratio (males per 100 females)\n",
      "ACS DEMOGRAPHIC AND HOUSING ESTIMATES Percent SEX AND AGE Total population 75 to 84 years\n",
      "ACS DEMOGRAPHIC AND HOUSING ESTIMATES Percent SEX AND AGE Total population 85 years and over\n",
      "ACS DEMOGRAPHIC AND HOUSING ESTIMATES Percent SEX AND AGE Total population Female\n",
      "ACS DEMOGRAPHIC AND HOUSING ESTIMATES Percent SEX AND AGE Total population Male\n",
      "ACS DEMOGRAPHIC AND HOUSING ESTIMATES Percent SEX AND AGE Total population Median age (years)\n",
      "ACS DEMOGRAPHIC AND HOUSING ESTIMATES Percent SEX AND AGE Total population Sex ratio (males per 100 females)\n",
      "ACS DEMOGRAPHIC AND HOUSING ESTIMATES Percent SEX AND AGE Total population Under 18 years\n",
      "ACS DEMOGRAPHIC AND HOUSING ESTIMATES Percent SEX AND AGE Total population Under 5 years\n",
      "ACS DEMOGRAPHIC AND HOUSING ESTIMATES Percent Total housing units\n",
      "SELECTED SOCIAL CHARACTERISTICS IN THE UNITED STATES;SELECTED SOCIAL CHARACTERISTICS IN PUERTO RICO;SELECTED ECONOMIC CHARACTERISTICS;SELECTED HOUSING CHARACTERISTICS;ACS DEMOGRAPHIC AND HOUSING ESTIMATES Geography\n",
      "city\n",
      "state\n",
      "location_key\n"
     ]
    }
   ],
   "source": [
    "for col in list(temp_resp.columns):\n",
    "    print(col)"
   ]
  },
  {
   "cell_type": "markdown",
   "id": "8e082c51",
   "metadata": {},
   "source": [
    "---"
   ]
  },
  {
   "cell_type": "markdown",
   "id": "cb041cb3",
   "metadata": {},
   "source": [
    "# Past"
   ]
  },
  {
   "cell_type": "markdown",
   "id": "65d83560",
   "metadata": {},
   "source": [
    "async def cityReport_fig5(cities: list = ['desert hot springs, ca', 'coachella, ca'], save: bool = False, save_path: str = None):\n",
    "    \"\"\"\n",
    "    Parameters\n",
    "    ----------\n",
    "    city: name of the city eg. \n",
    "    target\n",
    "    save: bool\n",
    "    True or False, whether or not you want to save\n",
    "    save_path: str\n",
    "    Path to save the file to\n",
    "    \"\"\"\n",
    "    target_cols = \"TYPES OF COMPUTERS AND INTERNET SUBSCRIPTIONS Estimate Percent Total households TYPE OF INTERNET SUBSCRIPTIONS With an Internet subscription: Broadband of any type\"\n",
    "    new_col_name = \"Percent of Total Households with Broadband\"\n",
    "    \n",
    "    \n",
    "    cols = {\n",
    "        # old col name: new name\n",
    "        \"ACS DEMOGRAPHIC AND HOUSING ESTIMATES Percent SEX AND AGE Total population Under 5 years\": \"Under 5\",\n",
    "        \"ACS DEMOGRAPHIC AND HOUSING ESTIMATES Percent SEX AND AGE Total population 5 to 9 years\": \"5 to 9\",\n",
    "        \"ACS DEMOGRAPHIC AND HOUSING ESTIMATES Percent SEX AND AGE Total population 10 to 14 years\": \"10 to 14\",\n",
    "        \"ACS DEMOGRAPHIC AND HOUSING ESTIMATES Percent SEX AND AGE Total population 15 to 19 years\": \"15 to 19\",\n",
    "        \"ACS DEMOGRAPHIC AND HOUSING ESTIMATES Percent SEX AND AGE Total population 20 to 24 years\": \"20 to 24\",\n",
    "        \"ACS DEMOGRAPHIC AND HOUSING ESTIMATES Percent SEX AND AGE Total population 25 to 34 years\": \"25 to 34\",\n",
    "        \"ACS DEMOGRAPHIC AND HOUSING ESTIMATES Percent SEX AND AGE Total population 35 to 44 years\": \"35 to 44\",\n",
    "        \"ACS DEMOGRAPHIC AND HOUSING ESTIMATES Percent SEX AND AGE Total population 45 to 54 years\": \"45 to 54\",\n",
    "        \"ACS DEMOGRAPHIC AND HOUSING ESTIMATES Percent SEX AND AGE Total population 55 to 59 years\": \"55 to 59\",\n",
    "        \"ACS DEMOGRAPHIC AND HOUSING ESTIMATES Percent SEX AND AGE Total population 60 to 64 years\": \"60 to 64\",\n",
    "        \"ACS DEMOGRAPHIC AND HOUSING ESTIMATES Percent SEX AND AGE Total population 65 years and over\": \"65 over\"\n",
    "    }\n",
    "    \n",
    "    \n",
    "    loc_fips = city_search(cities)\n",
    "    \n",
    "    resp = await acs_data(loc_fips, \"2019\", \"DP05\")\n",
    "    \n",
    "    col_sub = [*list(cols.keys()), \"state\", \"city\"]\n",
    "    resp = resp[col_sub]\n",
    "    resp = resp.rename(columns = cols)\n",
    "    \n",
    "    for col in cols.values():\n",
    "        resp[col] = pd.to_numeric(resp[col])\n",
    "    \n",
    "    resp[\"0 to 14\"] = resp[\"Under 5\"] + resp[\"5 to 9\"] + resp[\"10 to 14\"]\n",
    "    resp[\"15 to 24\"] = resp[\"15 to 19\"] + resp[\"20 to 24\"]\n",
    "    resp[\"45 to 65\"] = resp[\"45 to 54\"] + resp[\"55 to 59\"] + resp[\"60 to 64\"]\n",
    "    \n",
    "    return resp\n",
    "    \n",
    "    \n",
    "    # Following is unique to each section\n",
    "    \n",
    "    categ = resp.columns[0:8]\n",
    "    value = resp.iloc[0][0:8].astype(str).astype(float)\n",
    "    \n",
    "\n",
    "    plot_df = pd.DataFrame({'Race': categ, 'Percentage': value})\n",
    "    \n",
    "    fig = px.bar(plot_df, x=\"Race\", y=\"Percentage\", text='Percentage')\n",
    "    fig.update_xaxes(type='category')\n",
    "    \n",
    "    if save:\n",
    "        fig.write_image(save_path)\n",
    "    return fig\n",
    "    "
   ]
  }
 ],
 "metadata": {
  "kernelspec": {
   "display_name": "Python 3",
   "language": "python",
   "name": "python3"
  },
  "language_info": {
   "codemirror_mode": {
    "name": "ipython",
    "version": 3
   },
   "file_extension": ".py",
   "mimetype": "text/x-python",
   "name": "python",
   "nbconvert_exporter": "python",
   "pygments_lexer": "ipython3",
   "version": "3.6.9"
  }
 },
 "nbformat": 4,
 "nbformat_minor": 5
}
